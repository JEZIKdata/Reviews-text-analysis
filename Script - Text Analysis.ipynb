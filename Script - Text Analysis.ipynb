{
 "cells": [
  {
   "cell_type": "markdown",
   "id": "e7ac835a",
   "metadata": {},
   "source": [
    "<br>\n",
    "\n",
    "# <p style=\"font-size:300%;text-align:center;color:#696969;\">SMART DEVICES</p>\n",
    "### <p style=\"font-size:150%;text-align:center;color:#9A9A9A;\">Reviews Text Analysis</p>\n",
    "\n",
    "<br>\n",
    "\n",
    "<img src=https://invest.lebijou.com/wp-content/uploads/2018/06/smart-home-1380x524-opt.png>\n",
    "\n",
    "#### Business case: We are a tech company that manufactures Smart Home devices. This year we have released 3 new products and we want to see how well each one of them performed. We are going to analyse reviews of our customers. Reviews was scraped from [Amazon.com](https://www.amazon.com/gp/browse.html?node=6563140011&ref_=nav_em_amazon_smart_home_0_2_7_2).\n",
    "\n",
    "<br>\n",
    "\n",
    "### <p style=\"font-size:150%;color:#696969;\">Products description</p>\n",
    "\n",
    "| Smart Camera | Smart Lock | Smart Thermostat     |\n",
    "| :----------- | :----------- | :------------- \n",
    "| <img src= https://m.media-amazon.com/images/I/61Jqml2u9qL._AC_SL1500_.jpg width=\"150\" height=\"70\">| <img src= https://m.media-amazon.com/images/I/71ad5XOAzTS._AC_SL1500_.jpg width=\"200\" height=\"100\">| <img src= https://m.media-amazon.com/images/I/31t8hfoDhoL._AC_SL1000_.jpg width=\"200\" height=\"100\"> |\n",
    "|Wyze Cam records video when motion or sound is detected and sends an alert straight to your phone. An all-new Starlight Sensor records night time video in full, vivid color.| Forget key copying. Quickly and easily share permanent, scheduled or temporary access to your home with friends, family and other people you trust, and never put a key under the doormat again.| Certified thermostats save an average of $50 on yearly energy bills. Link the Amazon Smart Thermostat to an Alexa-enabled device at home, and you can control your HVAC system with your voice.|\n",
    "\n",
    "<br>\n",
    "<br>\n",
    "\n",
    "### <p style=\"font-size:150%;color:#696969;\">Table of content</p>\n",
    "[1.  IMPORTING LIBRARIES](#1)\n",
    "    \n",
    "[2.  LOADING DATA](#2)\n",
    "    \n",
    "[3.  CREATING FEATURES](#3)\n",
    "-  [polarity](#4)\n",
    "-  [subjectivity](#5)\n",
    "-  [text length](#6)\n",
    "    \n",
    "[4.  EXPLORATORY DATA  ANALYSIS](#7)  \n",
    "-  [Polarity analysis](#8)\n",
    "-  [Sentiment analysis](#9)\n",
    "-  [Ratings analysis](#10)\n",
    "-  [Correlation analysis](#11)\n",
    "-  [Items comparison](#12)\n",
    "    \n",
    "[5.  WORDCLOUD](#13) \n",
    "      \n",
    "[6.  CONCLUSION](#14)\n"
   ]
  },
  {
   "cell_type": "markdown",
   "id": "644795c9",
   "metadata": {},
   "source": [
    "<a id=\"1\"></a>\n",
    "# Importing libraries"
   ]
  },
  {
   "cell_type": "code",
   "execution_count": 146,
   "id": "67491279",
   "metadata": {},
   "outputs": [],
   "source": [
    "import pandas as pd\n",
    "import numpy as np\n",
    "import matplotlib.pyplot as plt\n",
    "import nltk\n",
    "import string\n",
    "from textblob import TextBlob\n",
    "from wordcloud import WordCloud, STOPWORDS\n",
    "import re\n",
    "import plotly.express as px\n",
    "import plotly.io as pio"
   ]
  },
  {
   "cell_type": "code",
   "execution_count": 147,
   "id": "b4befa2a",
   "metadata": {},
   "outputs": [],
   "source": [
    "pio.templates.default = \"ggplot2\"\n",
    "pd.options.display.float_format = '{:,.2f}'.format"
   ]
  },
  {
   "cell_type": "code",
   "execution_count": 148,
   "id": "98a65801",
   "metadata": {},
   "outputs": [],
   "source": [
    "pd.options.display.max_colwidth = None"
   ]
  },
  {
   "cell_type": "markdown",
   "id": "559cb2c7",
   "metadata": {},
   "source": [
    "<a id=\"2\"></a>\n",
    "# Loading data"
   ]
  },
  {
   "cell_type": "code",
   "execution_count": 149,
   "id": "2ce0e00d",
   "metadata": {},
   "outputs": [],
   "source": [
    "item_1 = pd.read_csv(\"Data - item1.csv\")\n",
    "item_2 = pd.read_csv(\"Data - item2.csv\")\n",
    "item_3 = pd.read_csv(\"Data - item3.csv\")"
   ]
  },
  {
   "cell_type": "code",
   "execution_count": 150,
   "id": "036a0827",
   "metadata": {},
   "outputs": [],
   "source": [
    "item_1[\"Item\"] = \"lock\"\n",
    "item_2[\"Item\"] = \"thermostat\"\n",
    "item_3[\"Item\"] = \"camera\""
   ]
  },
  {
   "cell_type": "code",
   "execution_count": 151,
   "id": "8f4745f3",
   "metadata": {},
   "outputs": [],
   "source": [
    "merged = item_1.append(item_2, ignore_index=True).append(item_3, ignore_index=True)"
   ]
  },
  {
   "cell_type": "markdown",
   "id": "30152865",
   "metadata": {},
   "source": [
    "<a id=\"3\"></a>\n",
    "# Creating features"
   ]
  },
  {
   "cell_type": "markdown",
   "id": "ae6ce3fc",
   "metadata": {},
   "source": [
    "<a id=\"4\"></a>\n",
    "### Polarity"
   ]
  },
  {
   "cell_type": "code",
   "execution_count": 152,
   "id": "40ac69a7",
   "metadata": {},
   "outputs": [],
   "source": [
    "polarity = []\n",
    "\n",
    "for i in merged[\"Text\"]:\n",
    "    try:\n",
    "        polarity.append(TextBlob(i).sentiment.polarity)\n",
    "    except:\n",
    "        polarity.append(0)\n",
    "        \n",
    "merged[\"Polarity\"] = polarity"
   ]
  },
  {
   "cell_type": "code",
   "execution_count": 153,
   "id": "ef835610",
   "metadata": {},
   "outputs": [],
   "source": [
    "def sentiment(polarity):\n",
    "    if polarity > 0.1:\n",
    "        return \"positive\"\n",
    "    elif polarity >= 0:\n",
    "        return \"neutral\"\n",
    "    else:\n",
    "        return \"negative\""
   ]
  },
  {
   "cell_type": "code",
   "execution_count": 154,
   "id": "16a4189c",
   "metadata": {},
   "outputs": [],
   "source": [
    "merged[\"Sentiment\"] = merged[\"Polarity\"].apply(sentiment)"
   ]
  },
  {
   "cell_type": "markdown",
   "id": "bf3aa51a",
   "metadata": {},
   "source": [
    "<a id=\"5\"></a>\n",
    "### Subjectivity"
   ]
  },
  {
   "cell_type": "code",
   "execution_count": 155,
   "id": "900d7929",
   "metadata": {},
   "outputs": [],
   "source": [
    "subjectivity = []\n",
    "\n",
    "for i in merged[\"Text\"]:\n",
    "    try:\n",
    "        subjectivity.append(TextBlob(i).sentiment.subjectivity)\n",
    "    except:\n",
    "        subjectivity.append(0)\n",
    "        \n",
    "merged[\"Subjectivity\"] = subjectivity"
   ]
  },
  {
   "cell_type": "code",
   "execution_count": 156,
   "id": "e2d18a99",
   "metadata": {},
   "outputs": [],
   "source": [
    "def subj_obj(subjectivity):\n",
    "    if subjectivity > 0.6:\n",
    "        return \"subjective\"\n",
    "    elif subjectivity > 0.4:\n",
    "        return \"normal\"\n",
    "    else:\n",
    "        return \"objective\""
   ]
  },
  {
   "cell_type": "code",
   "execution_count": 157,
   "id": "d2173d9c",
   "metadata": {},
   "outputs": [],
   "source": [
    "merged[\"Subj_Obj\"] = merged[\"Subjectivity\"].apply(subj_obj)"
   ]
  },
  {
   "cell_type": "markdown",
   "id": "9a3eb38f",
   "metadata": {},
   "source": [
    "<a id=\"6\"></a>\n",
    "### Text length"
   ]
  },
  {
   "cell_type": "code",
   "execution_count": 158,
   "id": "4e0e82b7",
   "metadata": {},
   "outputs": [],
   "source": [
    "def calc_len(text):\n",
    "    try:\n",
    "        return (len(text.split(' ')))\n",
    "    except:\n",
    "        return 0\n",
    "merged['Text_length']=merged['Text'].apply(calc_len)"
   ]
  },
  {
   "cell_type": "markdown",
   "id": "cf69e276",
   "metadata": {},
   "source": [
    "<a id=\"7\"></a>\n",
    "# Exploratory data analysis"
   ]
  },
  {
   "cell_type": "code",
   "execution_count": 159,
   "id": "04ea7a33",
   "metadata": {},
   "outputs": [],
   "source": [
    "viz = merged.copy()"
   ]
  },
  {
   "cell_type": "code",
   "execution_count": 160,
   "id": "9080fe53",
   "metadata": {},
   "outputs": [
    {
     "data": {
      "text/html": [
       "<div>\n",
       "<style scoped>\n",
       "    .dataframe tbody tr th:only-of-type {\n",
       "        vertical-align: middle;\n",
       "    }\n",
       "\n",
       "    .dataframe tbody tr th {\n",
       "        vertical-align: top;\n",
       "    }\n",
       "\n",
       "    .dataframe thead th {\n",
       "        text-align: right;\n",
       "    }\n",
       "</style>\n",
       "<table border=\"1\" class=\"dataframe\">\n",
       "  <thead>\n",
       "    <tr style=\"text-align: right;\">\n",
       "      <th></th>\n",
       "      <th>Rating</th>\n",
       "      <th>Title</th>\n",
       "      <th>Text</th>\n",
       "      <th>Item</th>\n",
       "      <th>Polarity</th>\n",
       "      <th>Sentiment</th>\n",
       "      <th>Subjectivity</th>\n",
       "      <th>Subj_Obj</th>\n",
       "      <th>Text_length</th>\n",
       "    </tr>\n",
       "  </thead>\n",
       "  <tbody>\n",
       "    <tr>\n",
       "      <th>0</th>\n",
       "      <td>4.00</td>\n",
       "      <td>Pretty Solid Smart Lock</td>\n",
       "      <td>— Installation —I had a old Baldwin deadbolt that wasn’t compatible out of the box. Perhaps August customer support could have helped me out with a different adaptor, but I just went ahead a purchased a new deadbolt instead.As a result I had to enlarge the hole in my door somewhat &amp; adjust the strike plate. Hopefully, your deadbolt will be compatible (the August site has a list of ones that are), so you won’t need to swap out deadbolts as I did.The installation after that was easy. However, getting it calibrated took a bit of trial and error, but after almost giving up, I finally succeeded.— Look &amp; Feel —The lock itself is a nice peace of hardware &amp; is now small enough where it doesn’t look so ungainly.I also purchased the keypad. It seems to work fine, but is not the most elegant thing.— HomeKit —As other reviews have noted, the lock only works over Bluetooth with HomeKit and not via WiFiHowever, the August app works over WiFi, such as when you are at home on your WiFi network or away and on a cellular network (or any internet connection). Go figure!?Hopefully, this is a bug that August will sort out as it doesn’t make any sense.— Overall —4 stars due to the calibration hassle &amp; HomeKit weirdness.Otherwise a solid piece of hardware that lets you go key free with the flexibility to assign multiple users to the lock including guests.Edit 2020-06-12: I edited the HomeKit portion to be more clear on the WiFi limitations.</td>\n",
       "      <td>lock</td>\n",
       "      <td>0.14</td>\n",
       "      <td>positive</td>\n",
       "      <td>0.55</td>\n",
       "      <td>normal</td>\n",
       "      <td>259</td>\n",
       "    </tr>\n",
       "  </tbody>\n",
       "</table>\n",
       "</div>"
      ],
      "text/plain": [
       "   Rating                    Title  \\\n",
       "0    4.00  Pretty Solid Smart Lock   \n",
       "\n",
       "                                                                                                                                                                                                                                                                                                                                                                                                                                                                                                                                                                                                                                                                                                                                                                                                                                                                                                                                                                                                                                                                                                                                                                                                                                                                                                                                                                                                                                                                                                  Text  \\\n",
       "0    — Installation —I had a old Baldwin deadbolt that wasn’t compatible out of the box. Perhaps August customer support could have helped me out with a different adaptor, but I just went ahead a purchased a new deadbolt instead.As a result I had to enlarge the hole in my door somewhat & adjust the strike plate. Hopefully, your deadbolt will be compatible (the August site has a list of ones that are), so you won’t need to swap out deadbolts as I did.The installation after that was easy. However, getting it calibrated took a bit of trial and error, but after almost giving up, I finally succeeded.— Look & Feel —The lock itself is a nice peace of hardware & is now small enough where it doesn’t look so ungainly.I also purchased the keypad. It seems to work fine, but is not the most elegant thing.— HomeKit —As other reviews have noted, the lock only works over Bluetooth with HomeKit and not via WiFiHowever, the August app works over WiFi, such as when you are at home on your WiFi network or away and on a cellular network (or any internet connection). Go figure!?Hopefully, this is a bug that August will sort out as it doesn’t make any sense.— Overall —4 stars due to the calibration hassle & HomeKit weirdness.Otherwise a solid piece of hardware that lets you go key free with the flexibility to assign multiple users to the lock including guests.Edit 2020-06-12: I edited the HomeKit portion to be more clear on the WiFi limitations.   \n",
       "\n",
       "   Item  Polarity Sentiment  Subjectivity Subj_Obj  Text_length  \n",
       "0  lock      0.14  positive          0.55   normal          259  "
      ]
     },
     "execution_count": 160,
     "metadata": {},
     "output_type": "execute_result"
    }
   ],
   "source": [
    "# How looks our dataframe with created features\n",
    "viz.head(1)"
   ]
  },
  {
   "cell_type": "markdown",
   "id": "57ed6d9e",
   "metadata": {},
   "source": [
    "<a id=\"8\"></a>\n",
    "## Polarity analysis\n",
    "<br>\n",
    "-1 : highly negative sentiment\n",
    "\n",
    "+1 : highly positive sentiment"
   ]
  },
  {
   "cell_type": "code",
   "execution_count": 161,
   "id": "1a7cc1d0",
   "metadata": {},
   "outputs": [
    {
     "data": {
      "application/vnd.plotly.v1+json": {
       "config": {
        "plotlyServerURL": "https://plot.ly"
       },
       "data": [
        {
         "alignmentgroup": "True",
         "bingroup": "x",
         "hovertemplate": "polarity=%{x}<br>count=%{y}<extra></extra>",
         "legendgroup": "",
         "marker": {
          "color": "#F8766D",
          "opacity": 0.8,
          "pattern": {
           "shape": ""
          }
         },
         "name": "",
         "nbinsx": 100,
         "offsetgroup": "",
         "orientation": "v",
         "showlegend": false,
         "type": "histogram",
         "x": [
          0.14483471074380166,
          0.14120370370370372,
          0.0016498692279942294,
          0.1127710437710438,
          0.12385609340154793,
          0.006475593372145095,
          0.1373932938406623,
          0.10833333333333335,
          0.08949370941558439,
          0.0840287798621132,
          0.043333333333333335,
          0.07045454545454545,
          0.033208616780045365,
          0.21736111111111112,
          -0.0027619047619047666,
          -0.19270833333333331,
          -0.10000000000000002,
          0.11909090909090911,
          0.20758428440246623,
          0.10431547619047618,
          0.0019607843137254832,
          0.04010416666666669,
          -0.10097402597402595,
          0.12066005155892799,
          0.2148079004329005,
          0.15432900432900432,
          -0.1107142857142857,
          0.03861607142857143,
          -0.04232142857142859,
          -0.04146825396825397,
          0.11145833333333334,
          0,
          0.10515873015873016,
          0.17589285714285716,
          -0.013953308596165725,
          0.035884353741496615,
          0.24375000000000005,
          0.19108501963153127,
          0.19393939393939394,
          0.09796296296296297,
          0.12007575757575757,
          0.3214285714285715,
          0.12061204378277554,
          0.08876984126984126,
          0.15333333333333335,
          -0.0009277504105090264,
          0.12882716049382717,
          0.07091450216450218,
          0.177020202020202,
          0.07013888888888889,
          0.14992063492063493,
          0.026541274817136896,
          -0.013333333333333324,
          0.24496001683501684,
          0.1713235294117647,
          0.10578231292517007,
          0.022560908084163903,
          -0.13020833333333334,
          0.09135958892056455,
          0.04788359788359789,
          0.1411904761904762,
          0.18253968253968253,
          0.12702098626011668,
          0.125,
          -0.14499999999999996,
          -0.14227777777777773,
          0.15087412587412585,
          0.2233292748917749,
          0.3354220779220779,
          0.01897759103641457,
          -0.016666666666666666,
          0.1318518518518519,
          0.1387844611528822,
          0.09977699068608156,
          0.13616666666666666,
          0.020250626566416036,
          0.018181818181818188,
          0.04483266733266733,
          0.09008190008190008,
          0.3080769230769231,
          -0.008823529411764697,
          0.05543154761904763,
          -0.15357142857142855,
          -0.05428571428571427,
          0.337797619047619,
          0.10425438596491228,
          0.22048112706007442,
          0.27564102564102566,
          0.038603896103896106,
          0.0012648809523809236,
          0.22313852813852814,
          0.11101190476190476,
          0.0773299319727891,
          0.1633333333333333,
          -0.3083333333333333,
          0.08114478114478116,
          0.17258522727272727,
          0.015481631301303415,
          0.010740740740740742,
          -0.039455782312925174,
          0.03005246166263115,
          -0.01562049062049062,
          0.23942176870748297,
          0,
          0.04486454405809244,
          0,
          -0.0035714285714285665,
          0,
          0.08020833333333334,
          0.1111111111111111,
          0.22953423120089786,
          0.13599590373783924,
          0.14488455988455987,
          0.2676136363636364,
          0.3598412698412698,
          0.17409340659340655,
          0.020518518518518512,
          0.03740079365079365,
          0.08497536945812809,
          0.2022134115884116,
          -0.09097222222222223,
          0.06515151515151514,
          0.3208441558441559,
          0.06527777777777778,
          0.14922839506172836,
          0.17631987577639752,
          0.08648484848484847,
          0.10119047619047618,
          0.1876839826839827,
          0,
          0.05410052910052909,
          0.18163674560733384,
          0.08173701298701296,
          -0.0005856888209829394,
          0.02228354978354979,
          0.1365378111471861,
          0.2518532261389404,
          0.21496428571428572,
          0.22222222222222224,
          0.21203703703703702,
          -0.0020202020202020055,
          0.24825268817204307,
          0.2607142857142857,
          -0.10763888888888887,
          0.021567882472137794,
          0.06388888888888888,
          -0.10373809523809525,
          0.11442648005148007,
          0.00816993464052287,
          0.05158730158730159,
          0.11936507936507937,
          0.08248647186147187,
          -0.05718005952380953,
          0.039393939393939384,
          0.11234126984126983,
          0.14081632653061224,
          0.0909636544011544,
          0.10968860684769775,
          0.12965454545454544,
          0.1665120415982485,
          0.24632936507936506,
          0.11267361111111113,
          0.03522727272727274,
          0.22680639672827171,
          0.1428351370851371,
          0.1451388888888889,
          0.15071428571428575,
          0.09930555555555558,
          0.11689976689976692,
          0.26830006413339746,
          0.15652680652680656,
          0.31706349206349205,
          0.08294642857142857,
          0.21482142857142858,
          0.34190476190476193,
          0.1434920634920635,
          0.01322314049586777,
          0.22986094713367441,
          0.17305555555555555,
          0.14444444444444446,
          -0.03750000000000003,
          -0.026355820105820115,
          -0.0742857142857143,
          0.2503174603174604,
          -0.018750000000000003,
          0.254388036206218,
          -0.03571428571428571,
          0,
          0.06604996392496394,
          0.3058201058201058,
          0.13296930342384888,
          0.12374847374847374,
          0.22783882783882792,
          0.2248706004140787,
          0.07335353535353532,
          0.08915701415701416,
          -0.012738095238095224,
          0.012360053739364078,
          0.09408643081056875,
          0.02076719576719576,
          0.2638888888888889,
          0.14467261904761908,
          0.12929924242424243,
          0.3,
          -0.06666666666666667,
          -0.5,
          0.18495238095238098,
          0.13734297696351264,
          -0.44285714285714295,
          0.1593181818181818,
          0.08055555555555555,
          0.20468390804597697,
          0.08499999999999996,
          0.3275641025641026,
          0.14155701754385966,
          0.029956415112665107,
          0.06528745644599303,
          0.17895794681508967,
          0.16051136363636362,
          0,
          0.05298295454545455,
          -0.09090909090909091,
          0.11059422348484844,
          0.2,
          0.41488095238095246,
          -0.125,
          -0.03461538461538462,
          0.14364973262032088,
          0.1075174825174825,
          0.29,
          -0.055078125,
          0,
          0.06944444444444445,
          0.14047041847041844,
          0.17385658914728683,
          0,
          0.08333333333333333,
          0.10741509782207458,
          -0.06590909090909092,
          0.07967687074829934,
          -0.06336805555555554,
          -0.044886363636363634,
          0.12045454545454547,
          0,
          0.13715940921823272,
          -0.14333333333333328,
          0.14722222222222223,
          0.23701790633608819,
          0.054545454545454564,
          0.07458333333333333,
          -0.09791666666666662,
          0.10293007182211728,
          0.09527529761904763,
          -0.10711111111111112,
          0.3613181818181818,
          0.1091246753246753,
          0.029793650793650782,
          0.04292929292929293,
          0.19569490586932448,
          0,
          0.3047619047619048,
          -0.16540404040404041,
          0.19687500000000002,
          0.16651515151515153,
          0.15055361305361303,
          0.1876773835920178,
          0.3121212121212122,
          0.08402777777777778,
          0.17054059904059907,
          0,
          0.12435064935064936,
          0,
          0.027665755297334248,
          0.14952172096908942,
          0.1793847566574839,
          0.1464285714285714,
          0.1447214076246334,
          0.28622212912535494,
          -0.049621212121212115,
          0.17512820512820515,
          -0.06271795334295334,
          0.32857142857142857,
          0.05831830206830207,
          0.11664141414141417,
          0.07903370829507192,
          0.1620880819860412,
          0.085,
          0.013392857142857137,
          -0.016666666666666656,
          0.13444264069264067,
          0.1512222222222222,
          0.1784090909090909,
          0.20655797101449275,
          0.038388888888888896,
          0.18174603174603174,
          0.125,
          -0.026608187134502935,
          0.04992559523809523,
          0.23666666666666666,
          0.353125
         ],
         "xaxis": "x",
         "yaxis": "y"
        },
        {
         "alignmentgroup": "True",
         "hovertemplate": "polarity=%{x}<extra></extra>",
         "legendgroup": "",
         "marker": {
          "color": "#F8766D"
         },
         "name": "",
         "notched": true,
         "offsetgroup": "",
         "showlegend": false,
         "type": "box",
         "x": [
          0.14483471074380166,
          0.14120370370370372,
          0.0016498692279942294,
          0.1127710437710438,
          0.12385609340154793,
          0.006475593372145095,
          0.1373932938406623,
          0.10833333333333335,
          0.08949370941558439,
          0.0840287798621132,
          0.043333333333333335,
          0.07045454545454545,
          0.033208616780045365,
          0.21736111111111112,
          -0.0027619047619047666,
          -0.19270833333333331,
          -0.10000000000000002,
          0.11909090909090911,
          0.20758428440246623,
          0.10431547619047618,
          0.0019607843137254832,
          0.04010416666666669,
          -0.10097402597402595,
          0.12066005155892799,
          0.2148079004329005,
          0.15432900432900432,
          -0.1107142857142857,
          0.03861607142857143,
          -0.04232142857142859,
          -0.04146825396825397,
          0.11145833333333334,
          0,
          0.10515873015873016,
          0.17589285714285716,
          -0.013953308596165725,
          0.035884353741496615,
          0.24375000000000005,
          0.19108501963153127,
          0.19393939393939394,
          0.09796296296296297,
          0.12007575757575757,
          0.3214285714285715,
          0.12061204378277554,
          0.08876984126984126,
          0.15333333333333335,
          -0.0009277504105090264,
          0.12882716049382717,
          0.07091450216450218,
          0.177020202020202,
          0.07013888888888889,
          0.14992063492063493,
          0.026541274817136896,
          -0.013333333333333324,
          0.24496001683501684,
          0.1713235294117647,
          0.10578231292517007,
          0.022560908084163903,
          -0.13020833333333334,
          0.09135958892056455,
          0.04788359788359789,
          0.1411904761904762,
          0.18253968253968253,
          0.12702098626011668,
          0.125,
          -0.14499999999999996,
          -0.14227777777777773,
          0.15087412587412585,
          0.2233292748917749,
          0.3354220779220779,
          0.01897759103641457,
          -0.016666666666666666,
          0.1318518518518519,
          0.1387844611528822,
          0.09977699068608156,
          0.13616666666666666,
          0.020250626566416036,
          0.018181818181818188,
          0.04483266733266733,
          0.09008190008190008,
          0.3080769230769231,
          -0.008823529411764697,
          0.05543154761904763,
          -0.15357142857142855,
          -0.05428571428571427,
          0.337797619047619,
          0.10425438596491228,
          0.22048112706007442,
          0.27564102564102566,
          0.038603896103896106,
          0.0012648809523809236,
          0.22313852813852814,
          0.11101190476190476,
          0.0773299319727891,
          0.1633333333333333,
          -0.3083333333333333,
          0.08114478114478116,
          0.17258522727272727,
          0.015481631301303415,
          0.010740740740740742,
          -0.039455782312925174,
          0.03005246166263115,
          -0.01562049062049062,
          0.23942176870748297,
          0,
          0.04486454405809244,
          0,
          -0.0035714285714285665,
          0,
          0.08020833333333334,
          0.1111111111111111,
          0.22953423120089786,
          0.13599590373783924,
          0.14488455988455987,
          0.2676136363636364,
          0.3598412698412698,
          0.17409340659340655,
          0.020518518518518512,
          0.03740079365079365,
          0.08497536945812809,
          0.2022134115884116,
          -0.09097222222222223,
          0.06515151515151514,
          0.3208441558441559,
          0.06527777777777778,
          0.14922839506172836,
          0.17631987577639752,
          0.08648484848484847,
          0.10119047619047618,
          0.1876839826839827,
          0,
          0.05410052910052909,
          0.18163674560733384,
          0.08173701298701296,
          -0.0005856888209829394,
          0.02228354978354979,
          0.1365378111471861,
          0.2518532261389404,
          0.21496428571428572,
          0.22222222222222224,
          0.21203703703703702,
          -0.0020202020202020055,
          0.24825268817204307,
          0.2607142857142857,
          -0.10763888888888887,
          0.021567882472137794,
          0.06388888888888888,
          -0.10373809523809525,
          0.11442648005148007,
          0.00816993464052287,
          0.05158730158730159,
          0.11936507936507937,
          0.08248647186147187,
          -0.05718005952380953,
          0.039393939393939384,
          0.11234126984126983,
          0.14081632653061224,
          0.0909636544011544,
          0.10968860684769775,
          0.12965454545454544,
          0.1665120415982485,
          0.24632936507936506,
          0.11267361111111113,
          0.03522727272727274,
          0.22680639672827171,
          0.1428351370851371,
          0.1451388888888889,
          0.15071428571428575,
          0.09930555555555558,
          0.11689976689976692,
          0.26830006413339746,
          0.15652680652680656,
          0.31706349206349205,
          0.08294642857142857,
          0.21482142857142858,
          0.34190476190476193,
          0.1434920634920635,
          0.01322314049586777,
          0.22986094713367441,
          0.17305555555555555,
          0.14444444444444446,
          -0.03750000000000003,
          -0.026355820105820115,
          -0.0742857142857143,
          0.2503174603174604,
          -0.018750000000000003,
          0.254388036206218,
          -0.03571428571428571,
          0,
          0.06604996392496394,
          0.3058201058201058,
          0.13296930342384888,
          0.12374847374847374,
          0.22783882783882792,
          0.2248706004140787,
          0.07335353535353532,
          0.08915701415701416,
          -0.012738095238095224,
          0.012360053739364078,
          0.09408643081056875,
          0.02076719576719576,
          0.2638888888888889,
          0.14467261904761908,
          0.12929924242424243,
          0.3,
          -0.06666666666666667,
          -0.5,
          0.18495238095238098,
          0.13734297696351264,
          -0.44285714285714295,
          0.1593181818181818,
          0.08055555555555555,
          0.20468390804597697,
          0.08499999999999996,
          0.3275641025641026,
          0.14155701754385966,
          0.029956415112665107,
          0.06528745644599303,
          0.17895794681508967,
          0.16051136363636362,
          0,
          0.05298295454545455,
          -0.09090909090909091,
          0.11059422348484844,
          0.2,
          0.41488095238095246,
          -0.125,
          -0.03461538461538462,
          0.14364973262032088,
          0.1075174825174825,
          0.29,
          -0.055078125,
          0,
          0.06944444444444445,
          0.14047041847041844,
          0.17385658914728683,
          0,
          0.08333333333333333,
          0.10741509782207458,
          -0.06590909090909092,
          0.07967687074829934,
          -0.06336805555555554,
          -0.044886363636363634,
          0.12045454545454547,
          0,
          0.13715940921823272,
          -0.14333333333333328,
          0.14722222222222223,
          0.23701790633608819,
          0.054545454545454564,
          0.07458333333333333,
          -0.09791666666666662,
          0.10293007182211728,
          0.09527529761904763,
          -0.10711111111111112,
          0.3613181818181818,
          0.1091246753246753,
          0.029793650793650782,
          0.04292929292929293,
          0.19569490586932448,
          0,
          0.3047619047619048,
          -0.16540404040404041,
          0.19687500000000002,
          0.16651515151515153,
          0.15055361305361303,
          0.1876773835920178,
          0.3121212121212122,
          0.08402777777777778,
          0.17054059904059907,
          0,
          0.12435064935064936,
          0,
          0.027665755297334248,
          0.14952172096908942,
          0.1793847566574839,
          0.1464285714285714,
          0.1447214076246334,
          0.28622212912535494,
          -0.049621212121212115,
          0.17512820512820515,
          -0.06271795334295334,
          0.32857142857142857,
          0.05831830206830207,
          0.11664141414141417,
          0.07903370829507192,
          0.1620880819860412,
          0.085,
          0.013392857142857137,
          -0.016666666666666656,
          0.13444264069264067,
          0.1512222222222222,
          0.1784090909090909,
          0.20655797101449275,
          0.038388888888888896,
          0.18174603174603174,
          0.125,
          -0.026608187134502935,
          0.04992559523809523,
          0.23666666666666666,
          0.353125
         ],
         "xaxis": "x2",
         "yaxis": "y2"
        }
       ],
       "layout": {
        "barmode": "relative",
        "height": 400,
        "legend": {
         "tracegroupgap": 0
        },
        "template": {
         "data": {
          "bar": [
           {
            "error_x": {
             "color": "rgb(51,51,51)"
            },
            "error_y": {
             "color": "rgb(51,51,51)"
            },
            "marker": {
             "line": {
              "color": "rgb(237,237,237)",
              "width": 0.5
             },
             "pattern": {
              "fillmode": "overlay",
              "size": 10,
              "solidity": 0.2
             }
            },
            "type": "bar"
           }
          ],
          "barpolar": [
           {
            "marker": {
             "line": {
              "color": "rgb(237,237,237)",
              "width": 0.5
             },
             "pattern": {
              "fillmode": "overlay",
              "size": 10,
              "solidity": 0.2
             }
            },
            "type": "barpolar"
           }
          ],
          "carpet": [
           {
            "aaxis": {
             "endlinecolor": "rgb(51,51,51)",
             "gridcolor": "white",
             "linecolor": "white",
             "minorgridcolor": "white",
             "startlinecolor": "rgb(51,51,51)"
            },
            "baxis": {
             "endlinecolor": "rgb(51,51,51)",
             "gridcolor": "white",
             "linecolor": "white",
             "minorgridcolor": "white",
             "startlinecolor": "rgb(51,51,51)"
            },
            "type": "carpet"
           }
          ],
          "choropleth": [
           {
            "colorbar": {
             "outlinewidth": 0,
             "tickcolor": "rgb(237,237,237)",
             "ticklen": 6,
             "ticks": "inside"
            },
            "type": "choropleth"
           }
          ],
          "contour": [
           {
            "colorbar": {
             "outlinewidth": 0,
             "tickcolor": "rgb(237,237,237)",
             "ticklen": 6,
             "ticks": "inside"
            },
            "colorscale": [
             [
              0,
              "rgb(20,44,66)"
             ],
             [
              1,
              "rgb(90,179,244)"
             ]
            ],
            "type": "contour"
           }
          ],
          "contourcarpet": [
           {
            "colorbar": {
             "outlinewidth": 0,
             "tickcolor": "rgb(237,237,237)",
             "ticklen": 6,
             "ticks": "inside"
            },
            "type": "contourcarpet"
           }
          ],
          "heatmap": [
           {
            "colorbar": {
             "outlinewidth": 0,
             "tickcolor": "rgb(237,237,237)",
             "ticklen": 6,
             "ticks": "inside"
            },
            "colorscale": [
             [
              0,
              "rgb(20,44,66)"
             ],
             [
              1,
              "rgb(90,179,244)"
             ]
            ],
            "type": "heatmap"
           }
          ],
          "heatmapgl": [
           {
            "colorbar": {
             "outlinewidth": 0,
             "tickcolor": "rgb(237,237,237)",
             "ticklen": 6,
             "ticks": "inside"
            },
            "colorscale": [
             [
              0,
              "rgb(20,44,66)"
             ],
             [
              1,
              "rgb(90,179,244)"
             ]
            ],
            "type": "heatmapgl"
           }
          ],
          "histogram": [
           {
            "marker": {
             "pattern": {
              "fillmode": "overlay",
              "size": 10,
              "solidity": 0.2
             }
            },
            "type": "histogram"
           }
          ],
          "histogram2d": [
           {
            "colorbar": {
             "outlinewidth": 0,
             "tickcolor": "rgb(237,237,237)",
             "ticklen": 6,
             "ticks": "inside"
            },
            "colorscale": [
             [
              0,
              "rgb(20,44,66)"
             ],
             [
              1,
              "rgb(90,179,244)"
             ]
            ],
            "type": "histogram2d"
           }
          ],
          "histogram2dcontour": [
           {
            "colorbar": {
             "outlinewidth": 0,
             "tickcolor": "rgb(237,237,237)",
             "ticklen": 6,
             "ticks": "inside"
            },
            "colorscale": [
             [
              0,
              "rgb(20,44,66)"
             ],
             [
              1,
              "rgb(90,179,244)"
             ]
            ],
            "type": "histogram2dcontour"
           }
          ],
          "mesh3d": [
           {
            "colorbar": {
             "outlinewidth": 0,
             "tickcolor": "rgb(237,237,237)",
             "ticklen": 6,
             "ticks": "inside"
            },
            "type": "mesh3d"
           }
          ],
          "parcoords": [
           {
            "line": {
             "colorbar": {
              "outlinewidth": 0,
              "tickcolor": "rgb(237,237,237)",
              "ticklen": 6,
              "ticks": "inside"
             }
            },
            "type": "parcoords"
           }
          ],
          "pie": [
           {
            "automargin": true,
            "type": "pie"
           }
          ],
          "scatter": [
           {
            "marker": {
             "colorbar": {
              "outlinewidth": 0,
              "tickcolor": "rgb(237,237,237)",
              "ticklen": 6,
              "ticks": "inside"
             }
            },
            "type": "scatter"
           }
          ],
          "scatter3d": [
           {
            "line": {
             "colorbar": {
              "outlinewidth": 0,
              "tickcolor": "rgb(237,237,237)",
              "ticklen": 6,
              "ticks": "inside"
             }
            },
            "marker": {
             "colorbar": {
              "outlinewidth": 0,
              "tickcolor": "rgb(237,237,237)",
              "ticklen": 6,
              "ticks": "inside"
             }
            },
            "type": "scatter3d"
           }
          ],
          "scattercarpet": [
           {
            "marker": {
             "colorbar": {
              "outlinewidth": 0,
              "tickcolor": "rgb(237,237,237)",
              "ticklen": 6,
              "ticks": "inside"
             }
            },
            "type": "scattercarpet"
           }
          ],
          "scattergeo": [
           {
            "marker": {
             "colorbar": {
              "outlinewidth": 0,
              "tickcolor": "rgb(237,237,237)",
              "ticklen": 6,
              "ticks": "inside"
             }
            },
            "type": "scattergeo"
           }
          ],
          "scattergl": [
           {
            "marker": {
             "colorbar": {
              "outlinewidth": 0,
              "tickcolor": "rgb(237,237,237)",
              "ticklen": 6,
              "ticks": "inside"
             }
            },
            "type": "scattergl"
           }
          ],
          "scattermapbox": [
           {
            "marker": {
             "colorbar": {
              "outlinewidth": 0,
              "tickcolor": "rgb(237,237,237)",
              "ticklen": 6,
              "ticks": "inside"
             }
            },
            "type": "scattermapbox"
           }
          ],
          "scatterpolar": [
           {
            "marker": {
             "colorbar": {
              "outlinewidth": 0,
              "tickcolor": "rgb(237,237,237)",
              "ticklen": 6,
              "ticks": "inside"
             }
            },
            "type": "scatterpolar"
           }
          ],
          "scatterpolargl": [
           {
            "marker": {
             "colorbar": {
              "outlinewidth": 0,
              "tickcolor": "rgb(237,237,237)",
              "ticklen": 6,
              "ticks": "inside"
             }
            },
            "type": "scatterpolargl"
           }
          ],
          "scatterternary": [
           {
            "marker": {
             "colorbar": {
              "outlinewidth": 0,
              "tickcolor": "rgb(237,237,237)",
              "ticklen": 6,
              "ticks": "inside"
             }
            },
            "type": "scatterternary"
           }
          ],
          "surface": [
           {
            "colorbar": {
             "outlinewidth": 0,
             "tickcolor": "rgb(237,237,237)",
             "ticklen": 6,
             "ticks": "inside"
            },
            "colorscale": [
             [
              0,
              "rgb(20,44,66)"
             ],
             [
              1,
              "rgb(90,179,244)"
             ]
            ],
            "type": "surface"
           }
          ],
          "table": [
           {
            "cells": {
             "fill": {
              "color": "rgb(237,237,237)"
             },
             "line": {
              "color": "white"
             }
            },
            "header": {
             "fill": {
              "color": "rgb(217,217,217)"
             },
             "line": {
              "color": "white"
             }
            },
            "type": "table"
           }
          ]
         },
         "layout": {
          "annotationdefaults": {
           "arrowhead": 0,
           "arrowwidth": 1
          },
          "autotypenumbers": "strict",
          "coloraxis": {
           "colorbar": {
            "outlinewidth": 0,
            "tickcolor": "rgb(237,237,237)",
            "ticklen": 6,
            "ticks": "inside"
           }
          },
          "colorscale": {
           "sequential": [
            [
             0,
             "rgb(20,44,66)"
            ],
            [
             1,
             "rgb(90,179,244)"
            ]
           ],
           "sequentialminus": [
            [
             0,
             "rgb(20,44,66)"
            ],
            [
             1,
             "rgb(90,179,244)"
            ]
           ]
          },
          "colorway": [
           "#F8766D",
           "#A3A500",
           "#00BF7D",
           "#00B0F6",
           "#E76BF3"
          ],
          "font": {
           "color": "rgb(51,51,51)"
          },
          "geo": {
           "bgcolor": "white",
           "lakecolor": "white",
           "landcolor": "rgb(237,237,237)",
           "showlakes": true,
           "showland": true,
           "subunitcolor": "white"
          },
          "hoverlabel": {
           "align": "left"
          },
          "hovermode": "closest",
          "paper_bgcolor": "white",
          "plot_bgcolor": "rgb(237,237,237)",
          "polar": {
           "angularaxis": {
            "gridcolor": "white",
            "linecolor": "white",
            "showgrid": true,
            "tickcolor": "rgb(51,51,51)",
            "ticks": "outside"
           },
           "bgcolor": "rgb(237,237,237)",
           "radialaxis": {
            "gridcolor": "white",
            "linecolor": "white",
            "showgrid": true,
            "tickcolor": "rgb(51,51,51)",
            "ticks": "outside"
           }
          },
          "scene": {
           "xaxis": {
            "backgroundcolor": "rgb(237,237,237)",
            "gridcolor": "white",
            "gridwidth": 2,
            "linecolor": "white",
            "showbackground": true,
            "showgrid": true,
            "tickcolor": "rgb(51,51,51)",
            "ticks": "outside",
            "zerolinecolor": "white"
           },
           "yaxis": {
            "backgroundcolor": "rgb(237,237,237)",
            "gridcolor": "white",
            "gridwidth": 2,
            "linecolor": "white",
            "showbackground": true,
            "showgrid": true,
            "tickcolor": "rgb(51,51,51)",
            "ticks": "outside",
            "zerolinecolor": "white"
           },
           "zaxis": {
            "backgroundcolor": "rgb(237,237,237)",
            "gridcolor": "white",
            "gridwidth": 2,
            "linecolor": "white",
            "showbackground": true,
            "showgrid": true,
            "tickcolor": "rgb(51,51,51)",
            "ticks": "outside",
            "zerolinecolor": "white"
           }
          },
          "shapedefaults": {
           "fillcolor": "black",
           "line": {
            "width": 0
           },
           "opacity": 0.3
          },
          "ternary": {
           "aaxis": {
            "gridcolor": "white",
            "linecolor": "white",
            "showgrid": true,
            "tickcolor": "rgb(51,51,51)",
            "ticks": "outside"
           },
           "baxis": {
            "gridcolor": "white",
            "linecolor": "white",
            "showgrid": true,
            "tickcolor": "rgb(51,51,51)",
            "ticks": "outside"
           },
           "bgcolor": "rgb(237,237,237)",
           "caxis": {
            "gridcolor": "white",
            "linecolor": "white",
            "showgrid": true,
            "tickcolor": "rgb(51,51,51)",
            "ticks": "outside"
           }
          },
          "xaxis": {
           "automargin": true,
           "gridcolor": "white",
           "linecolor": "white",
           "showgrid": true,
           "tickcolor": "rgb(51,51,51)",
           "ticks": "outside",
           "title": {
            "standoff": 15
           },
           "zerolinecolor": "white"
          },
          "yaxis": {
           "automargin": true,
           "gridcolor": "white",
           "linecolor": "white",
           "showgrid": true,
           "tickcolor": "rgb(51,51,51)",
           "ticks": "outside",
           "title": {
            "standoff": 15
           },
           "zerolinecolor": "white"
          }
         }
        },
        "title": {
         "text": "Distribution of polarity"
        },
        "width": 700,
        "xaxis": {
         "anchor": "y",
         "domain": [
          0,
          1
         ],
         "title": {
          "text": "polarity"
         }
        },
        "xaxis2": {
         "anchor": "y2",
         "domain": [
          0,
          1
         ],
         "matches": "x",
         "showticklabels": false
        },
        "yaxis": {
         "anchor": "x",
         "domain": [
          0,
          0.8316
         ],
         "title": {
          "text": "count"
         }
        },
        "yaxis2": {
         "anchor": "x2",
         "domain": [
          0.8416,
          1
         ],
         "matches": "y2",
         "showline": false,
         "showticklabels": false,
         "ticks": ""
        }
       }
      },
      "text/html": [
       "<div>                            <div id=\"5a100d22-6bf7-434d-925b-dc2294042163\" class=\"plotly-graph-div\" style=\"height:400px; width:700px;\"></div>            <script type=\"text/javascript\">                require([\"plotly\"], function(Plotly) {                    window.PLOTLYENV=window.PLOTLYENV || {};                                    if (document.getElementById(\"5a100d22-6bf7-434d-925b-dc2294042163\")) {                    Plotly.newPlot(                        \"5a100d22-6bf7-434d-925b-dc2294042163\",                        [{\"alignmentgroup\":\"True\",\"bingroup\":\"x\",\"hovertemplate\":\"polarity=%{x}<br>count=%{y}<extra></extra>\",\"legendgroup\":\"\",\"marker\":{\"color\":\"#F8766D\",\"opacity\":0.8,\"pattern\":{\"shape\":\"\"}},\"name\":\"\",\"nbinsx\":100,\"offsetgroup\":\"\",\"orientation\":\"v\",\"showlegend\":false,\"x\":[0.14483471074380166,0.14120370370370372,0.0016498692279942294,0.1127710437710438,0.12385609340154793,0.006475593372145095,0.1373932938406623,0.10833333333333335,0.08949370941558439,0.0840287798621132,0.043333333333333335,0.07045454545454545,0.033208616780045365,0.21736111111111112,-0.0027619047619047666,-0.19270833333333331,-0.10000000000000002,0.11909090909090911,0.20758428440246623,0.10431547619047618,0.0019607843137254832,0.04010416666666669,-0.10097402597402595,0.12066005155892799,0.2148079004329005,0.15432900432900432,-0.1107142857142857,0.03861607142857143,-0.04232142857142859,-0.04146825396825397,0.11145833333333334,0.0,0.10515873015873016,0.17589285714285716,-0.013953308596165725,0.035884353741496615,0.24375000000000005,0.19108501963153127,0.19393939393939394,0.09796296296296297,0.12007575757575757,0.3214285714285715,0.12061204378277554,0.08876984126984126,0.15333333333333335,-0.0009277504105090264,0.12882716049382717,0.07091450216450218,0.177020202020202,0.07013888888888889,0.14992063492063493,0.026541274817136896,-0.013333333333333324,0.24496001683501684,0.1713235294117647,0.10578231292517007,0.022560908084163903,-0.13020833333333334,0.09135958892056455,0.04788359788359789,0.1411904761904762,0.18253968253968253,0.12702098626011668,0.125,-0.14499999999999996,-0.14227777777777773,0.15087412587412585,0.2233292748917749,0.3354220779220779,0.01897759103641457,-0.016666666666666666,0.1318518518518519,0.1387844611528822,0.09977699068608156,0.13616666666666666,0.020250626566416036,0.018181818181818188,0.04483266733266733,0.09008190008190008,0.3080769230769231,-0.008823529411764697,0.05543154761904763,-0.15357142857142855,-0.05428571428571427,0.337797619047619,0.10425438596491228,0.22048112706007442,0.27564102564102566,0.038603896103896106,0.0012648809523809236,0.22313852813852814,0.11101190476190476,0.0773299319727891,0.1633333333333333,-0.3083333333333333,0.08114478114478116,0.17258522727272727,0.015481631301303415,0.010740740740740742,-0.039455782312925174,0.03005246166263115,-0.01562049062049062,0.23942176870748297,0.0,0.04486454405809244,0.0,-0.0035714285714285665,0.0,0.08020833333333334,0.1111111111111111,0.22953423120089786,0.13599590373783924,0.14488455988455987,0.2676136363636364,0.3598412698412698,0.17409340659340655,0.020518518518518512,0.03740079365079365,0.08497536945812809,0.2022134115884116,-0.09097222222222223,0.06515151515151514,0.3208441558441559,0.06527777777777778,0.14922839506172836,0.17631987577639752,0.08648484848484847,0.10119047619047618,0.1876839826839827,0.0,0.05410052910052909,0.18163674560733384,0.08173701298701296,-0.0005856888209829394,0.02228354978354979,0.1365378111471861,0.2518532261389404,0.21496428571428572,0.22222222222222224,0.21203703703703702,-0.0020202020202020055,0.24825268817204307,0.2607142857142857,-0.10763888888888887,0.021567882472137794,0.06388888888888888,-0.10373809523809525,0.11442648005148007,0.00816993464052287,0.05158730158730159,0.11936507936507937,0.08248647186147187,-0.05718005952380953,0.039393939393939384,0.11234126984126983,0.14081632653061224,0.0909636544011544,0.10968860684769775,0.12965454545454544,0.1665120415982485,0.24632936507936506,0.11267361111111113,0.03522727272727274,0.22680639672827171,0.1428351370851371,0.1451388888888889,0.15071428571428575,0.09930555555555558,0.11689976689976692,0.26830006413339746,0.15652680652680656,0.31706349206349205,0.08294642857142857,0.21482142857142858,0.34190476190476193,0.1434920634920635,0.01322314049586777,0.22986094713367441,0.17305555555555555,0.14444444444444446,-0.03750000000000003,-0.026355820105820115,-0.0742857142857143,0.2503174603174604,-0.018750000000000003,0.254388036206218,-0.03571428571428571,0.0,0.06604996392496394,0.3058201058201058,0.13296930342384888,0.12374847374847374,0.22783882783882792,0.2248706004140787,0.07335353535353532,0.08915701415701416,-0.012738095238095224,0.012360053739364078,0.09408643081056875,0.02076719576719576,0.2638888888888889,0.14467261904761908,0.12929924242424243,0.3,-0.06666666666666667,-0.5,0.18495238095238098,0.13734297696351264,-0.44285714285714295,0.1593181818181818,0.08055555555555555,0.20468390804597697,0.08499999999999996,0.3275641025641026,0.14155701754385966,0.029956415112665107,0.06528745644599303,0.17895794681508967,0.16051136363636362,0.0,0.05298295454545455,-0.09090909090909091,0.11059422348484844,0.2,0.41488095238095246,-0.125,-0.03461538461538462,0.14364973262032088,0.1075174825174825,0.29,-0.055078125,0.0,0.06944444444444445,0.14047041847041844,0.17385658914728683,0.0,0.08333333333333333,0.10741509782207458,-0.06590909090909092,0.07967687074829934,-0.06336805555555554,-0.044886363636363634,0.12045454545454547,0.0,0.13715940921823272,-0.14333333333333328,0.14722222222222223,0.23701790633608819,0.054545454545454564,0.07458333333333333,-0.09791666666666662,0.10293007182211728,0.09527529761904763,-0.10711111111111112,0.3613181818181818,0.1091246753246753,0.029793650793650782,0.04292929292929293,0.19569490586932448,0.0,0.3047619047619048,-0.16540404040404041,0.19687500000000002,0.16651515151515153,0.15055361305361303,0.1876773835920178,0.3121212121212122,0.08402777777777778,0.17054059904059907,0.0,0.12435064935064936,0.0,0.027665755297334248,0.14952172096908942,0.1793847566574839,0.1464285714285714,0.1447214076246334,0.28622212912535494,-0.049621212121212115,0.17512820512820515,-0.06271795334295334,0.32857142857142857,0.05831830206830207,0.11664141414141417,0.07903370829507192,0.1620880819860412,0.085,0.013392857142857137,-0.016666666666666656,0.13444264069264067,0.1512222222222222,0.1784090909090909,0.20655797101449275,0.038388888888888896,0.18174603174603174,0.125,-0.026608187134502935,0.04992559523809523,0.23666666666666666,0.353125],\"xaxis\":\"x\",\"yaxis\":\"y\",\"type\":\"histogram\"},{\"alignmentgroup\":\"True\",\"hovertemplate\":\"polarity=%{x}<extra></extra>\",\"legendgroup\":\"\",\"marker\":{\"color\":\"#F8766D\"},\"name\":\"\",\"notched\":true,\"offsetgroup\":\"\",\"showlegend\":false,\"x\":[0.14483471074380166,0.14120370370370372,0.0016498692279942294,0.1127710437710438,0.12385609340154793,0.006475593372145095,0.1373932938406623,0.10833333333333335,0.08949370941558439,0.0840287798621132,0.043333333333333335,0.07045454545454545,0.033208616780045365,0.21736111111111112,-0.0027619047619047666,-0.19270833333333331,-0.10000000000000002,0.11909090909090911,0.20758428440246623,0.10431547619047618,0.0019607843137254832,0.04010416666666669,-0.10097402597402595,0.12066005155892799,0.2148079004329005,0.15432900432900432,-0.1107142857142857,0.03861607142857143,-0.04232142857142859,-0.04146825396825397,0.11145833333333334,0.0,0.10515873015873016,0.17589285714285716,-0.013953308596165725,0.035884353741496615,0.24375000000000005,0.19108501963153127,0.19393939393939394,0.09796296296296297,0.12007575757575757,0.3214285714285715,0.12061204378277554,0.08876984126984126,0.15333333333333335,-0.0009277504105090264,0.12882716049382717,0.07091450216450218,0.177020202020202,0.07013888888888889,0.14992063492063493,0.026541274817136896,-0.013333333333333324,0.24496001683501684,0.1713235294117647,0.10578231292517007,0.022560908084163903,-0.13020833333333334,0.09135958892056455,0.04788359788359789,0.1411904761904762,0.18253968253968253,0.12702098626011668,0.125,-0.14499999999999996,-0.14227777777777773,0.15087412587412585,0.2233292748917749,0.3354220779220779,0.01897759103641457,-0.016666666666666666,0.1318518518518519,0.1387844611528822,0.09977699068608156,0.13616666666666666,0.020250626566416036,0.018181818181818188,0.04483266733266733,0.09008190008190008,0.3080769230769231,-0.008823529411764697,0.05543154761904763,-0.15357142857142855,-0.05428571428571427,0.337797619047619,0.10425438596491228,0.22048112706007442,0.27564102564102566,0.038603896103896106,0.0012648809523809236,0.22313852813852814,0.11101190476190476,0.0773299319727891,0.1633333333333333,-0.3083333333333333,0.08114478114478116,0.17258522727272727,0.015481631301303415,0.010740740740740742,-0.039455782312925174,0.03005246166263115,-0.01562049062049062,0.23942176870748297,0.0,0.04486454405809244,0.0,-0.0035714285714285665,0.0,0.08020833333333334,0.1111111111111111,0.22953423120089786,0.13599590373783924,0.14488455988455987,0.2676136363636364,0.3598412698412698,0.17409340659340655,0.020518518518518512,0.03740079365079365,0.08497536945812809,0.2022134115884116,-0.09097222222222223,0.06515151515151514,0.3208441558441559,0.06527777777777778,0.14922839506172836,0.17631987577639752,0.08648484848484847,0.10119047619047618,0.1876839826839827,0.0,0.05410052910052909,0.18163674560733384,0.08173701298701296,-0.0005856888209829394,0.02228354978354979,0.1365378111471861,0.2518532261389404,0.21496428571428572,0.22222222222222224,0.21203703703703702,-0.0020202020202020055,0.24825268817204307,0.2607142857142857,-0.10763888888888887,0.021567882472137794,0.06388888888888888,-0.10373809523809525,0.11442648005148007,0.00816993464052287,0.05158730158730159,0.11936507936507937,0.08248647186147187,-0.05718005952380953,0.039393939393939384,0.11234126984126983,0.14081632653061224,0.0909636544011544,0.10968860684769775,0.12965454545454544,0.1665120415982485,0.24632936507936506,0.11267361111111113,0.03522727272727274,0.22680639672827171,0.1428351370851371,0.1451388888888889,0.15071428571428575,0.09930555555555558,0.11689976689976692,0.26830006413339746,0.15652680652680656,0.31706349206349205,0.08294642857142857,0.21482142857142858,0.34190476190476193,0.1434920634920635,0.01322314049586777,0.22986094713367441,0.17305555555555555,0.14444444444444446,-0.03750000000000003,-0.026355820105820115,-0.0742857142857143,0.2503174603174604,-0.018750000000000003,0.254388036206218,-0.03571428571428571,0.0,0.06604996392496394,0.3058201058201058,0.13296930342384888,0.12374847374847374,0.22783882783882792,0.2248706004140787,0.07335353535353532,0.08915701415701416,-0.012738095238095224,0.012360053739364078,0.09408643081056875,0.02076719576719576,0.2638888888888889,0.14467261904761908,0.12929924242424243,0.3,-0.06666666666666667,-0.5,0.18495238095238098,0.13734297696351264,-0.44285714285714295,0.1593181818181818,0.08055555555555555,0.20468390804597697,0.08499999999999996,0.3275641025641026,0.14155701754385966,0.029956415112665107,0.06528745644599303,0.17895794681508967,0.16051136363636362,0.0,0.05298295454545455,-0.09090909090909091,0.11059422348484844,0.2,0.41488095238095246,-0.125,-0.03461538461538462,0.14364973262032088,0.1075174825174825,0.29,-0.055078125,0.0,0.06944444444444445,0.14047041847041844,0.17385658914728683,0.0,0.08333333333333333,0.10741509782207458,-0.06590909090909092,0.07967687074829934,-0.06336805555555554,-0.044886363636363634,0.12045454545454547,0.0,0.13715940921823272,-0.14333333333333328,0.14722222222222223,0.23701790633608819,0.054545454545454564,0.07458333333333333,-0.09791666666666662,0.10293007182211728,0.09527529761904763,-0.10711111111111112,0.3613181818181818,0.1091246753246753,0.029793650793650782,0.04292929292929293,0.19569490586932448,0.0,0.3047619047619048,-0.16540404040404041,0.19687500000000002,0.16651515151515153,0.15055361305361303,0.1876773835920178,0.3121212121212122,0.08402777777777778,0.17054059904059907,0.0,0.12435064935064936,0.0,0.027665755297334248,0.14952172096908942,0.1793847566574839,0.1464285714285714,0.1447214076246334,0.28622212912535494,-0.049621212121212115,0.17512820512820515,-0.06271795334295334,0.32857142857142857,0.05831830206830207,0.11664141414141417,0.07903370829507192,0.1620880819860412,0.085,0.013392857142857137,-0.016666666666666656,0.13444264069264067,0.1512222222222222,0.1784090909090909,0.20655797101449275,0.038388888888888896,0.18174603174603174,0.125,-0.026608187134502935,0.04992559523809523,0.23666666666666666,0.353125],\"xaxis\":\"x2\",\"yaxis\":\"y2\",\"type\":\"box\"}],                        {\"template\":{\"data\":{\"bar\":[{\"error_x\":{\"color\":\"rgb(51,51,51)\"},\"error_y\":{\"color\":\"rgb(51,51,51)\"},\"marker\":{\"line\":{\"color\":\"rgb(237,237,237)\",\"width\":0.5},\"pattern\":{\"fillmode\":\"overlay\",\"size\":10,\"solidity\":0.2}},\"type\":\"bar\"}],\"barpolar\":[{\"marker\":{\"line\":{\"color\":\"rgb(237,237,237)\",\"width\":0.5},\"pattern\":{\"fillmode\":\"overlay\",\"size\":10,\"solidity\":0.2}},\"type\":\"barpolar\"}],\"carpet\":[{\"aaxis\":{\"endlinecolor\":\"rgb(51,51,51)\",\"gridcolor\":\"white\",\"linecolor\":\"white\",\"minorgridcolor\":\"white\",\"startlinecolor\":\"rgb(51,51,51)\"},\"baxis\":{\"endlinecolor\":\"rgb(51,51,51)\",\"gridcolor\":\"white\",\"linecolor\":\"white\",\"minorgridcolor\":\"white\",\"startlinecolor\":\"rgb(51,51,51)\"},\"type\":\"carpet\"}],\"choropleth\":[{\"colorbar\":{\"outlinewidth\":0,\"tickcolor\":\"rgb(237,237,237)\",\"ticklen\":6,\"ticks\":\"inside\"},\"type\":\"choropleth\"}],\"contour\":[{\"colorbar\":{\"outlinewidth\":0,\"tickcolor\":\"rgb(237,237,237)\",\"ticklen\":6,\"ticks\":\"inside\"},\"colorscale\":[[0,\"rgb(20,44,66)\"],[1,\"rgb(90,179,244)\"]],\"type\":\"contour\"}],\"contourcarpet\":[{\"colorbar\":{\"outlinewidth\":0,\"tickcolor\":\"rgb(237,237,237)\",\"ticklen\":6,\"ticks\":\"inside\"},\"type\":\"contourcarpet\"}],\"heatmap\":[{\"colorbar\":{\"outlinewidth\":0,\"tickcolor\":\"rgb(237,237,237)\",\"ticklen\":6,\"ticks\":\"inside\"},\"colorscale\":[[0,\"rgb(20,44,66)\"],[1,\"rgb(90,179,244)\"]],\"type\":\"heatmap\"}],\"heatmapgl\":[{\"colorbar\":{\"outlinewidth\":0,\"tickcolor\":\"rgb(237,237,237)\",\"ticklen\":6,\"ticks\":\"inside\"},\"colorscale\":[[0,\"rgb(20,44,66)\"],[1,\"rgb(90,179,244)\"]],\"type\":\"heatmapgl\"}],\"histogram\":[{\"marker\":{\"pattern\":{\"fillmode\":\"overlay\",\"size\":10,\"solidity\":0.2}},\"type\":\"histogram\"}],\"histogram2d\":[{\"colorbar\":{\"outlinewidth\":0,\"tickcolor\":\"rgb(237,237,237)\",\"ticklen\":6,\"ticks\":\"inside\"},\"colorscale\":[[0,\"rgb(20,44,66)\"],[1,\"rgb(90,179,244)\"]],\"type\":\"histogram2d\"}],\"histogram2dcontour\":[{\"colorbar\":{\"outlinewidth\":0,\"tickcolor\":\"rgb(237,237,237)\",\"ticklen\":6,\"ticks\":\"inside\"},\"colorscale\":[[0,\"rgb(20,44,66)\"],[1,\"rgb(90,179,244)\"]],\"type\":\"histogram2dcontour\"}],\"mesh3d\":[{\"colorbar\":{\"outlinewidth\":0,\"tickcolor\":\"rgb(237,237,237)\",\"ticklen\":6,\"ticks\":\"inside\"},\"type\":\"mesh3d\"}],\"parcoords\":[{\"line\":{\"colorbar\":{\"outlinewidth\":0,\"tickcolor\":\"rgb(237,237,237)\",\"ticklen\":6,\"ticks\":\"inside\"}},\"type\":\"parcoords\"}],\"pie\":[{\"automargin\":true,\"type\":\"pie\"}],\"scatter\":[{\"marker\":{\"colorbar\":{\"outlinewidth\":0,\"tickcolor\":\"rgb(237,237,237)\",\"ticklen\":6,\"ticks\":\"inside\"}},\"type\":\"scatter\"}],\"scatter3d\":[{\"line\":{\"colorbar\":{\"outlinewidth\":0,\"tickcolor\":\"rgb(237,237,237)\",\"ticklen\":6,\"ticks\":\"inside\"}},\"marker\":{\"colorbar\":{\"outlinewidth\":0,\"tickcolor\":\"rgb(237,237,237)\",\"ticklen\":6,\"ticks\":\"inside\"}},\"type\":\"scatter3d\"}],\"scattercarpet\":[{\"marker\":{\"colorbar\":{\"outlinewidth\":0,\"tickcolor\":\"rgb(237,237,237)\",\"ticklen\":6,\"ticks\":\"inside\"}},\"type\":\"scattercarpet\"}],\"scattergeo\":[{\"marker\":{\"colorbar\":{\"outlinewidth\":0,\"tickcolor\":\"rgb(237,237,237)\",\"ticklen\":6,\"ticks\":\"inside\"}},\"type\":\"scattergeo\"}],\"scattergl\":[{\"marker\":{\"colorbar\":{\"outlinewidth\":0,\"tickcolor\":\"rgb(237,237,237)\",\"ticklen\":6,\"ticks\":\"inside\"}},\"type\":\"scattergl\"}],\"scattermapbox\":[{\"marker\":{\"colorbar\":{\"outlinewidth\":0,\"tickcolor\":\"rgb(237,237,237)\",\"ticklen\":6,\"ticks\":\"inside\"}},\"type\":\"scattermapbox\"}],\"scatterpolar\":[{\"marker\":{\"colorbar\":{\"outlinewidth\":0,\"tickcolor\":\"rgb(237,237,237)\",\"ticklen\":6,\"ticks\":\"inside\"}},\"type\":\"scatterpolar\"}],\"scatterpolargl\":[{\"marker\":{\"colorbar\":{\"outlinewidth\":0,\"tickcolor\":\"rgb(237,237,237)\",\"ticklen\":6,\"ticks\":\"inside\"}},\"type\":\"scatterpolargl\"}],\"scatterternary\":[{\"marker\":{\"colorbar\":{\"outlinewidth\":0,\"tickcolor\":\"rgb(237,237,237)\",\"ticklen\":6,\"ticks\":\"inside\"}},\"type\":\"scatterternary\"}],\"surface\":[{\"colorbar\":{\"outlinewidth\":0,\"tickcolor\":\"rgb(237,237,237)\",\"ticklen\":6,\"ticks\":\"inside\"},\"colorscale\":[[0,\"rgb(20,44,66)\"],[1,\"rgb(90,179,244)\"]],\"type\":\"surface\"}],\"table\":[{\"cells\":{\"fill\":{\"color\":\"rgb(237,237,237)\"},\"line\":{\"color\":\"white\"}},\"header\":{\"fill\":{\"color\":\"rgb(217,217,217)\"},\"line\":{\"color\":\"white\"}},\"type\":\"table\"}]},\"layout\":{\"annotationdefaults\":{\"arrowhead\":0,\"arrowwidth\":1},\"autotypenumbers\":\"strict\",\"coloraxis\":{\"colorbar\":{\"outlinewidth\":0,\"tickcolor\":\"rgb(237,237,237)\",\"ticklen\":6,\"ticks\":\"inside\"}},\"colorscale\":{\"sequential\":[[0,\"rgb(20,44,66)\"],[1,\"rgb(90,179,244)\"]],\"sequentialminus\":[[0,\"rgb(20,44,66)\"],[1,\"rgb(90,179,244)\"]]},\"colorway\":[\"#F8766D\",\"#A3A500\",\"#00BF7D\",\"#00B0F6\",\"#E76BF3\"],\"font\":{\"color\":\"rgb(51,51,51)\"},\"geo\":{\"bgcolor\":\"white\",\"lakecolor\":\"white\",\"landcolor\":\"rgb(237,237,237)\",\"showlakes\":true,\"showland\":true,\"subunitcolor\":\"white\"},\"hoverlabel\":{\"align\":\"left\"},\"hovermode\":\"closest\",\"paper_bgcolor\":\"white\",\"plot_bgcolor\":\"rgb(237,237,237)\",\"polar\":{\"angularaxis\":{\"gridcolor\":\"white\",\"linecolor\":\"white\",\"showgrid\":true,\"tickcolor\":\"rgb(51,51,51)\",\"ticks\":\"outside\"},\"bgcolor\":\"rgb(237,237,237)\",\"radialaxis\":{\"gridcolor\":\"white\",\"linecolor\":\"white\",\"showgrid\":true,\"tickcolor\":\"rgb(51,51,51)\",\"ticks\":\"outside\"}},\"scene\":{\"xaxis\":{\"backgroundcolor\":\"rgb(237,237,237)\",\"gridcolor\":\"white\",\"gridwidth\":2,\"linecolor\":\"white\",\"showbackground\":true,\"showgrid\":true,\"tickcolor\":\"rgb(51,51,51)\",\"ticks\":\"outside\",\"zerolinecolor\":\"white\"},\"yaxis\":{\"backgroundcolor\":\"rgb(237,237,237)\",\"gridcolor\":\"white\",\"gridwidth\":2,\"linecolor\":\"white\",\"showbackground\":true,\"showgrid\":true,\"tickcolor\":\"rgb(51,51,51)\",\"ticks\":\"outside\",\"zerolinecolor\":\"white\"},\"zaxis\":{\"backgroundcolor\":\"rgb(237,237,237)\",\"gridcolor\":\"white\",\"gridwidth\":2,\"linecolor\":\"white\",\"showbackground\":true,\"showgrid\":true,\"tickcolor\":\"rgb(51,51,51)\",\"ticks\":\"outside\",\"zerolinecolor\":\"white\"}},\"shapedefaults\":{\"fillcolor\":\"black\",\"line\":{\"width\":0},\"opacity\":0.3},\"ternary\":{\"aaxis\":{\"gridcolor\":\"white\",\"linecolor\":\"white\",\"showgrid\":true,\"tickcolor\":\"rgb(51,51,51)\",\"ticks\":\"outside\"},\"baxis\":{\"gridcolor\":\"white\",\"linecolor\":\"white\",\"showgrid\":true,\"tickcolor\":\"rgb(51,51,51)\",\"ticks\":\"outside\"},\"bgcolor\":\"rgb(237,237,237)\",\"caxis\":{\"gridcolor\":\"white\",\"linecolor\":\"white\",\"showgrid\":true,\"tickcolor\":\"rgb(51,51,51)\",\"ticks\":\"outside\"}},\"xaxis\":{\"automargin\":true,\"gridcolor\":\"white\",\"linecolor\":\"white\",\"showgrid\":true,\"tickcolor\":\"rgb(51,51,51)\",\"ticks\":\"outside\",\"title\":{\"standoff\":15},\"zerolinecolor\":\"white\"},\"yaxis\":{\"automargin\":true,\"gridcolor\":\"white\",\"linecolor\":\"white\",\"showgrid\":true,\"tickcolor\":\"rgb(51,51,51)\",\"ticks\":\"outside\",\"title\":{\"standoff\":15},\"zerolinecolor\":\"white\"}}},\"xaxis\":{\"anchor\":\"y\",\"domain\":[0.0,1.0],\"title\":{\"text\":\"polarity\"}},\"yaxis\":{\"anchor\":\"x\",\"domain\":[0.0,0.8316],\"title\":{\"text\":\"count\"}},\"xaxis2\":{\"anchor\":\"y2\",\"domain\":[0.0,1.0],\"matches\":\"x\",\"showticklabels\":false},\"yaxis2\":{\"anchor\":\"x2\",\"domain\":[0.8416,1.0],\"matches\":\"y2\",\"showticklabels\":false,\"showline\":false,\"ticks\":\"\"},\"legend\":{\"tracegroupgap\":0},\"title\":{\"text\":\"Distribution of polarity\"},\"barmode\":\"relative\",\"height\":400,\"width\":700},                        {\"responsive\": true}                    ).then(function(){\n",
       "                            \n",
       "var gd = document.getElementById('5a100d22-6bf7-434d-925b-dc2294042163');\n",
       "var x = new MutationObserver(function (mutations, observer) {{\n",
       "        var display = window.getComputedStyle(gd).display;\n",
       "        if (!display || display === 'none') {{\n",
       "            console.log([gd, 'removed!']);\n",
       "            Plotly.purge(gd);\n",
       "            observer.disconnect();\n",
       "        }}\n",
       "}});\n",
       "\n",
       "// Listen for the removal of the full notebook cells\n",
       "var notebookContainer = gd.closest('#notebook-container');\n",
       "if (notebookContainer) {{\n",
       "    x.observe(notebookContainer, {childList: true});\n",
       "}}\n",
       "\n",
       "// Listen for the clearing of the current output cell\n",
       "var outputEl = gd.closest('.output');\n",
       "if (outputEl) {{\n",
       "    x.observe(outputEl, {childList: true});\n",
       "}}\n",
       "\n",
       "                        })                };                });            </script>        </div>"
      ]
     },
     "metadata": {},
     "output_type": "display_data"
    }
   ],
   "source": [
    "pol = px.histogram(x=viz.Polarity,\n",
    "                   opacity=0.8,\n",
    "                   labels = {\"x\": \"polarity\"},\n",
    "                   title=\"Distribution of polarity\",\n",
    "                   width=700,\n",
    "                   height=400,\n",
    "                   nbins=100,\n",
    "                   marginal=\"box\")\n",
    "\n",
    "pol.show()"
   ]
  },
  {
   "cell_type": "code",
   "execution_count": 162,
   "id": "f5c75332",
   "metadata": {},
   "outputs": [
    {
     "data": {
      "application/vnd.plotly.v1+json": {
       "config": {
        "plotlyServerURL": "https://plot.ly"
       },
       "data": [
        {
         "alignmentgroup": "True",
         "hovertemplate": "Item=%{x}<br>Polarity=%{y}<extra></extra>",
         "legendgroup": "lock",
         "marker": {
          "color": "#F8766D"
         },
         "name": "lock",
         "notched": false,
         "offsetgroup": "lock",
         "orientation": "v",
         "showlegend": true,
         "type": "box",
         "x": [
          "lock",
          "lock",
          "lock",
          "lock",
          "lock",
          "lock",
          "lock",
          "lock",
          "lock",
          "lock",
          "lock",
          "lock",
          "lock",
          "lock",
          "lock",
          "lock",
          "lock",
          "lock",
          "lock",
          "lock",
          "lock",
          "lock",
          "lock",
          "lock",
          "lock",
          "lock",
          "lock",
          "lock",
          "lock",
          "lock",
          "lock",
          "lock",
          "lock",
          "lock",
          "lock",
          "lock",
          "lock",
          "lock",
          "lock",
          "lock",
          "lock",
          "lock",
          "lock",
          "lock",
          "lock",
          "lock",
          "lock",
          "lock",
          "lock",
          "lock",
          "lock",
          "lock",
          "lock",
          "lock",
          "lock",
          "lock",
          "lock",
          "lock",
          "lock",
          "lock",
          "lock",
          "lock",
          "lock",
          "lock",
          "lock",
          "lock",
          "lock",
          "lock",
          "lock",
          "lock",
          "lock",
          "lock",
          "lock",
          "lock",
          "lock",
          "lock",
          "lock",
          "lock",
          "lock",
          "lock",
          "lock",
          "lock",
          "lock",
          "lock",
          "lock",
          "lock",
          "lock",
          "lock",
          "lock",
          "lock",
          "lock",
          "lock",
          "lock",
          "lock",
          "lock",
          "lock",
          "lock",
          "lock",
          "lock",
          "lock"
         ],
         "x0": " ",
         "xaxis": "x",
         "y": [
          0.14483471074380166,
          0.14120370370370372,
          0.0016498692279942294,
          0.1127710437710438,
          0.12385609340154793,
          0.006475593372145095,
          0.1373932938406623,
          0.10833333333333335,
          0.08949370941558439,
          0.0840287798621132,
          0.043333333333333335,
          0.07045454545454545,
          0.033208616780045365,
          0.21736111111111112,
          -0.0027619047619047666,
          -0.19270833333333331,
          -0.10000000000000002,
          0.11909090909090911,
          0.20758428440246623,
          0.10431547619047618,
          0.0019607843137254832,
          0.04010416666666669,
          -0.10097402597402595,
          0.12066005155892799,
          0.2148079004329005,
          0.15432900432900432,
          -0.1107142857142857,
          0.03861607142857143,
          -0.04232142857142859,
          -0.04146825396825397,
          0.11145833333333334,
          0,
          0.10515873015873016,
          0.17589285714285716,
          -0.013953308596165725,
          0.035884353741496615,
          0.24375000000000005,
          0.19108501963153127,
          0.19393939393939394,
          0.09796296296296297,
          0.12007575757575757,
          0.3214285714285715,
          0.12061204378277554,
          0.08876984126984126,
          0.15333333333333335,
          -0.0009277504105090264,
          0.12882716049382717,
          0.07091450216450218,
          0.177020202020202,
          0.07013888888888889,
          0.14992063492063493,
          0.026541274817136896,
          -0.013333333333333324,
          0.24496001683501684,
          0.1713235294117647,
          0.10578231292517007,
          0.022560908084163903,
          -0.13020833333333334,
          0.09135958892056455,
          0.04788359788359789,
          0.1411904761904762,
          0.18253968253968253,
          0.12702098626011668,
          0.125,
          -0.14499999999999996,
          -0.14227777777777773,
          0.15087412587412585,
          0.2233292748917749,
          0.3354220779220779,
          0.01897759103641457,
          -0.016666666666666666,
          0.1318518518518519,
          0.1387844611528822,
          0.09977699068608156,
          0.13616666666666666,
          0.020250626566416036,
          0.018181818181818188,
          0.04483266733266733,
          0.09008190008190008,
          0.3080769230769231,
          -0.008823529411764697,
          0.05543154761904763,
          -0.15357142857142855,
          -0.05428571428571427,
          0.337797619047619,
          0.10425438596491228,
          0.22048112706007442,
          0.27564102564102566,
          0.038603896103896106,
          0.0012648809523809236,
          0.22313852813852814,
          0.11101190476190476,
          0.0773299319727891,
          0.1633333333333333,
          -0.3083333333333333,
          0.08114478114478116,
          0.17258522727272727,
          0.015481631301303415,
          0.010740740740740742,
          -0.039455782312925174
         ],
         "y0": " ",
         "yaxis": "y"
        },
        {
         "alignmentgroup": "True",
         "hovertemplate": "Item=%{x}<br>Polarity=%{y}<extra></extra>",
         "legendgroup": "thermostat",
         "marker": {
          "color": "#A3A500"
         },
         "name": "thermostat",
         "notched": false,
         "offsetgroup": "thermostat",
         "orientation": "v",
         "showlegend": true,
         "type": "box",
         "x": [
          "thermostat",
          "thermostat",
          "thermostat",
          "thermostat",
          "thermostat",
          "thermostat",
          "thermostat",
          "thermostat",
          "thermostat",
          "thermostat",
          "thermostat",
          "thermostat",
          "thermostat",
          "thermostat",
          "thermostat",
          "thermostat",
          "thermostat",
          "thermostat",
          "thermostat",
          "thermostat",
          "thermostat",
          "thermostat",
          "thermostat",
          "thermostat",
          "thermostat",
          "thermostat",
          "thermostat",
          "thermostat",
          "thermostat",
          "thermostat",
          "thermostat",
          "thermostat",
          "thermostat",
          "thermostat",
          "thermostat",
          "thermostat",
          "thermostat",
          "thermostat",
          "thermostat",
          "thermostat",
          "thermostat",
          "thermostat",
          "thermostat",
          "thermostat",
          "thermostat",
          "thermostat",
          "thermostat",
          "thermostat",
          "thermostat",
          "thermostat",
          "thermostat",
          "thermostat",
          "thermostat",
          "thermostat",
          "thermostat",
          "thermostat",
          "thermostat",
          "thermostat",
          "thermostat",
          "thermostat",
          "thermostat",
          "thermostat",
          "thermostat",
          "thermostat",
          "thermostat",
          "thermostat",
          "thermostat",
          "thermostat",
          "thermostat",
          "thermostat",
          "thermostat",
          "thermostat",
          "thermostat",
          "thermostat",
          "thermostat",
          "thermostat",
          "thermostat",
          "thermostat",
          "thermostat",
          "thermostat",
          "thermostat",
          "thermostat",
          "thermostat",
          "thermostat",
          "thermostat",
          "thermostat",
          "thermostat",
          "thermostat",
          "thermostat",
          "thermostat",
          "thermostat",
          "thermostat",
          "thermostat",
          "thermostat",
          "thermostat",
          "thermostat",
          "thermostat",
          "thermostat",
          "thermostat",
          "thermostat"
         ],
         "x0": " ",
         "xaxis": "x",
         "y": [
          0.03005246166263115,
          -0.01562049062049062,
          0.23942176870748297,
          0,
          0.04486454405809244,
          0,
          -0.0035714285714285665,
          0,
          0.08020833333333334,
          0.1111111111111111,
          0.22953423120089786,
          0.13599590373783924,
          0.14488455988455987,
          0.2676136363636364,
          0.3598412698412698,
          0.17409340659340655,
          0.020518518518518512,
          0.03740079365079365,
          0.08497536945812809,
          0.2022134115884116,
          -0.09097222222222223,
          0.06515151515151514,
          0.3208441558441559,
          0.06527777777777778,
          0.14922839506172836,
          0.17631987577639752,
          0.08648484848484847,
          0.10119047619047618,
          0.1876839826839827,
          0,
          0.05410052910052909,
          0.18163674560733384,
          0.08173701298701296,
          -0.0005856888209829394,
          0.02228354978354979,
          0.1365378111471861,
          0.2518532261389404,
          0.21496428571428572,
          0.22222222222222224,
          0.21203703703703702,
          -0.0020202020202020055,
          0.24825268817204307,
          0.2607142857142857,
          -0.10763888888888887,
          0.021567882472137794,
          0.06388888888888888,
          -0.10373809523809525,
          0.11442648005148007,
          0.00816993464052287,
          0.05158730158730159,
          0.11936507936507937,
          0.08248647186147187,
          -0.05718005952380953,
          0.039393939393939384,
          0.11234126984126983,
          0.14081632653061224,
          0.0909636544011544,
          0.10968860684769775,
          0.12965454545454544,
          0.1665120415982485,
          0.24632936507936506,
          0.11267361111111113,
          0.03522727272727274,
          0.22680639672827171,
          0.1428351370851371,
          0.1451388888888889,
          0.15071428571428575,
          0.09930555555555558,
          0.11689976689976692,
          0.26830006413339746,
          0.15652680652680656,
          0.31706349206349205,
          0.08294642857142857,
          0.21482142857142858,
          0.34190476190476193,
          0.1434920634920635,
          0.01322314049586777,
          0.22986094713367441,
          0.17305555555555555,
          0.14444444444444446,
          -0.03750000000000003,
          -0.026355820105820115,
          -0.0742857142857143,
          0.2503174603174604,
          -0.018750000000000003,
          0.254388036206218,
          -0.03571428571428571,
          0,
          0.06604996392496394,
          0.3058201058201058,
          0.13296930342384888,
          0.12374847374847374,
          0.22783882783882792,
          0.2248706004140787,
          0.07335353535353532,
          0.08915701415701416,
          -0.012738095238095224,
          0.012360053739364078,
          0.09408643081056875,
          0.02076719576719576
         ],
         "y0": " ",
         "yaxis": "y"
        },
        {
         "alignmentgroup": "True",
         "hovertemplate": "Item=%{x}<br>Polarity=%{y}<extra></extra>",
         "legendgroup": "camera",
         "marker": {
          "color": "#00BF7D"
         },
         "name": "camera",
         "notched": false,
         "offsetgroup": "camera",
         "orientation": "v",
         "showlegend": true,
         "type": "box",
         "x": [
          "camera",
          "camera",
          "camera",
          "camera",
          "camera",
          "camera",
          "camera",
          "camera",
          "camera",
          "camera",
          "camera",
          "camera",
          "camera",
          "camera",
          "camera",
          "camera",
          "camera",
          "camera",
          "camera",
          "camera",
          "camera",
          "camera",
          "camera",
          "camera",
          "camera",
          "camera",
          "camera",
          "camera",
          "camera",
          "camera",
          "camera",
          "camera",
          "camera",
          "camera",
          "camera",
          "camera",
          "camera",
          "camera",
          "camera",
          "camera",
          "camera",
          "camera",
          "camera",
          "camera",
          "camera",
          "camera",
          "camera",
          "camera",
          "camera",
          "camera",
          "camera",
          "camera",
          "camera",
          "camera",
          "camera",
          "camera",
          "camera",
          "camera",
          "camera",
          "camera",
          "camera",
          "camera",
          "camera",
          "camera",
          "camera",
          "camera",
          "camera",
          "camera",
          "camera",
          "camera",
          "camera",
          "camera",
          "camera",
          "camera",
          "camera",
          "camera",
          "camera",
          "camera",
          "camera",
          "camera",
          "camera",
          "camera",
          "camera",
          "camera",
          "camera",
          "camera",
          "camera",
          "camera",
          "camera",
          "camera",
          "camera",
          "camera",
          "camera",
          "camera",
          "camera",
          "camera",
          "camera",
          "camera",
          "camera",
          "camera"
         ],
         "x0": " ",
         "xaxis": "x",
         "y": [
          0.2638888888888889,
          0.14467261904761908,
          0.12929924242424243,
          0.3,
          -0.06666666666666667,
          -0.5,
          0.18495238095238098,
          0.13734297696351264,
          -0.44285714285714295,
          0.1593181818181818,
          0.08055555555555555,
          0.20468390804597697,
          0.08499999999999996,
          0.3275641025641026,
          0.14155701754385966,
          0.029956415112665107,
          0.06528745644599303,
          0.17895794681508967,
          0.16051136363636362,
          0,
          0.05298295454545455,
          -0.09090909090909091,
          0.11059422348484844,
          0.2,
          0.41488095238095246,
          -0.125,
          -0.03461538461538462,
          0.14364973262032088,
          0.1075174825174825,
          0.29,
          -0.055078125,
          0,
          0.06944444444444445,
          0.14047041847041844,
          0.17385658914728683,
          0,
          0.08333333333333333,
          0.10741509782207458,
          -0.06590909090909092,
          0.07967687074829934,
          -0.06336805555555554,
          -0.044886363636363634,
          0.12045454545454547,
          0,
          0.13715940921823272,
          -0.14333333333333328,
          0.14722222222222223,
          0.23701790633608819,
          0.054545454545454564,
          0.07458333333333333,
          -0.09791666666666662,
          0.10293007182211728,
          0.09527529761904763,
          -0.10711111111111112,
          0.3613181818181818,
          0.1091246753246753,
          0.029793650793650782,
          0.04292929292929293,
          0.19569490586932448,
          0,
          0.3047619047619048,
          -0.16540404040404041,
          0.19687500000000002,
          0.16651515151515153,
          0.15055361305361303,
          0.1876773835920178,
          0.3121212121212122,
          0.08402777777777778,
          0.17054059904059907,
          0,
          0.12435064935064936,
          0,
          0.027665755297334248,
          0.14952172096908942,
          0.1793847566574839,
          0.1464285714285714,
          0.1447214076246334,
          0.28622212912535494,
          -0.049621212121212115,
          0.17512820512820515,
          -0.06271795334295334,
          0.32857142857142857,
          0.05831830206830207,
          0.11664141414141417,
          0.07903370829507192,
          0.1620880819860412,
          0.085,
          0.013392857142857137,
          -0.016666666666666656,
          0.13444264069264067,
          0.1512222222222222,
          0.1784090909090909,
          0.20655797101449275,
          0.038388888888888896,
          0.18174603174603174,
          0.125,
          -0.026608187134502935,
          0.04992559523809523,
          0.23666666666666666,
          0.353125
         ],
         "y0": " ",
         "yaxis": "y"
        }
       ],
       "layout": {
        "boxmode": "overlay",
        "height": 400,
        "legend": {
         "title": {
          "text": "Item"
         },
         "tracegroupgap": 0
        },
        "template": {
         "data": {
          "bar": [
           {
            "error_x": {
             "color": "rgb(51,51,51)"
            },
            "error_y": {
             "color": "rgb(51,51,51)"
            },
            "marker": {
             "line": {
              "color": "rgb(237,237,237)",
              "width": 0.5
             },
             "pattern": {
              "fillmode": "overlay",
              "size": 10,
              "solidity": 0.2
             }
            },
            "type": "bar"
           }
          ],
          "barpolar": [
           {
            "marker": {
             "line": {
              "color": "rgb(237,237,237)",
              "width": 0.5
             },
             "pattern": {
              "fillmode": "overlay",
              "size": 10,
              "solidity": 0.2
             }
            },
            "type": "barpolar"
           }
          ],
          "carpet": [
           {
            "aaxis": {
             "endlinecolor": "rgb(51,51,51)",
             "gridcolor": "white",
             "linecolor": "white",
             "minorgridcolor": "white",
             "startlinecolor": "rgb(51,51,51)"
            },
            "baxis": {
             "endlinecolor": "rgb(51,51,51)",
             "gridcolor": "white",
             "linecolor": "white",
             "minorgridcolor": "white",
             "startlinecolor": "rgb(51,51,51)"
            },
            "type": "carpet"
           }
          ],
          "choropleth": [
           {
            "colorbar": {
             "outlinewidth": 0,
             "tickcolor": "rgb(237,237,237)",
             "ticklen": 6,
             "ticks": "inside"
            },
            "type": "choropleth"
           }
          ],
          "contour": [
           {
            "colorbar": {
             "outlinewidth": 0,
             "tickcolor": "rgb(237,237,237)",
             "ticklen": 6,
             "ticks": "inside"
            },
            "colorscale": [
             [
              0,
              "rgb(20,44,66)"
             ],
             [
              1,
              "rgb(90,179,244)"
             ]
            ],
            "type": "contour"
           }
          ],
          "contourcarpet": [
           {
            "colorbar": {
             "outlinewidth": 0,
             "tickcolor": "rgb(237,237,237)",
             "ticklen": 6,
             "ticks": "inside"
            },
            "type": "contourcarpet"
           }
          ],
          "heatmap": [
           {
            "colorbar": {
             "outlinewidth": 0,
             "tickcolor": "rgb(237,237,237)",
             "ticklen": 6,
             "ticks": "inside"
            },
            "colorscale": [
             [
              0,
              "rgb(20,44,66)"
             ],
             [
              1,
              "rgb(90,179,244)"
             ]
            ],
            "type": "heatmap"
           }
          ],
          "heatmapgl": [
           {
            "colorbar": {
             "outlinewidth": 0,
             "tickcolor": "rgb(237,237,237)",
             "ticklen": 6,
             "ticks": "inside"
            },
            "colorscale": [
             [
              0,
              "rgb(20,44,66)"
             ],
             [
              1,
              "rgb(90,179,244)"
             ]
            ],
            "type": "heatmapgl"
           }
          ],
          "histogram": [
           {
            "marker": {
             "pattern": {
              "fillmode": "overlay",
              "size": 10,
              "solidity": 0.2
             }
            },
            "type": "histogram"
           }
          ],
          "histogram2d": [
           {
            "colorbar": {
             "outlinewidth": 0,
             "tickcolor": "rgb(237,237,237)",
             "ticklen": 6,
             "ticks": "inside"
            },
            "colorscale": [
             [
              0,
              "rgb(20,44,66)"
             ],
             [
              1,
              "rgb(90,179,244)"
             ]
            ],
            "type": "histogram2d"
           }
          ],
          "histogram2dcontour": [
           {
            "colorbar": {
             "outlinewidth": 0,
             "tickcolor": "rgb(237,237,237)",
             "ticklen": 6,
             "ticks": "inside"
            },
            "colorscale": [
             [
              0,
              "rgb(20,44,66)"
             ],
             [
              1,
              "rgb(90,179,244)"
             ]
            ],
            "type": "histogram2dcontour"
           }
          ],
          "mesh3d": [
           {
            "colorbar": {
             "outlinewidth": 0,
             "tickcolor": "rgb(237,237,237)",
             "ticklen": 6,
             "ticks": "inside"
            },
            "type": "mesh3d"
           }
          ],
          "parcoords": [
           {
            "line": {
             "colorbar": {
              "outlinewidth": 0,
              "tickcolor": "rgb(237,237,237)",
              "ticklen": 6,
              "ticks": "inside"
             }
            },
            "type": "parcoords"
           }
          ],
          "pie": [
           {
            "automargin": true,
            "type": "pie"
           }
          ],
          "scatter": [
           {
            "marker": {
             "colorbar": {
              "outlinewidth": 0,
              "tickcolor": "rgb(237,237,237)",
              "ticklen": 6,
              "ticks": "inside"
             }
            },
            "type": "scatter"
           }
          ],
          "scatter3d": [
           {
            "line": {
             "colorbar": {
              "outlinewidth": 0,
              "tickcolor": "rgb(237,237,237)",
              "ticklen": 6,
              "ticks": "inside"
             }
            },
            "marker": {
             "colorbar": {
              "outlinewidth": 0,
              "tickcolor": "rgb(237,237,237)",
              "ticklen": 6,
              "ticks": "inside"
             }
            },
            "type": "scatter3d"
           }
          ],
          "scattercarpet": [
           {
            "marker": {
             "colorbar": {
              "outlinewidth": 0,
              "tickcolor": "rgb(237,237,237)",
              "ticklen": 6,
              "ticks": "inside"
             }
            },
            "type": "scattercarpet"
           }
          ],
          "scattergeo": [
           {
            "marker": {
             "colorbar": {
              "outlinewidth": 0,
              "tickcolor": "rgb(237,237,237)",
              "ticklen": 6,
              "ticks": "inside"
             }
            },
            "type": "scattergeo"
           }
          ],
          "scattergl": [
           {
            "marker": {
             "colorbar": {
              "outlinewidth": 0,
              "tickcolor": "rgb(237,237,237)",
              "ticklen": 6,
              "ticks": "inside"
             }
            },
            "type": "scattergl"
           }
          ],
          "scattermapbox": [
           {
            "marker": {
             "colorbar": {
              "outlinewidth": 0,
              "tickcolor": "rgb(237,237,237)",
              "ticklen": 6,
              "ticks": "inside"
             }
            },
            "type": "scattermapbox"
           }
          ],
          "scatterpolar": [
           {
            "marker": {
             "colorbar": {
              "outlinewidth": 0,
              "tickcolor": "rgb(237,237,237)",
              "ticklen": 6,
              "ticks": "inside"
             }
            },
            "type": "scatterpolar"
           }
          ],
          "scatterpolargl": [
           {
            "marker": {
             "colorbar": {
              "outlinewidth": 0,
              "tickcolor": "rgb(237,237,237)",
              "ticklen": 6,
              "ticks": "inside"
             }
            },
            "type": "scatterpolargl"
           }
          ],
          "scatterternary": [
           {
            "marker": {
             "colorbar": {
              "outlinewidth": 0,
              "tickcolor": "rgb(237,237,237)",
              "ticklen": 6,
              "ticks": "inside"
             }
            },
            "type": "scatterternary"
           }
          ],
          "surface": [
           {
            "colorbar": {
             "outlinewidth": 0,
             "tickcolor": "rgb(237,237,237)",
             "ticklen": 6,
             "ticks": "inside"
            },
            "colorscale": [
             [
              0,
              "rgb(20,44,66)"
             ],
             [
              1,
              "rgb(90,179,244)"
             ]
            ],
            "type": "surface"
           }
          ],
          "table": [
           {
            "cells": {
             "fill": {
              "color": "rgb(237,237,237)"
             },
             "line": {
              "color": "white"
             }
            },
            "header": {
             "fill": {
              "color": "rgb(217,217,217)"
             },
             "line": {
              "color": "white"
             }
            },
            "type": "table"
           }
          ]
         },
         "layout": {
          "annotationdefaults": {
           "arrowhead": 0,
           "arrowwidth": 1
          },
          "autotypenumbers": "strict",
          "coloraxis": {
           "colorbar": {
            "outlinewidth": 0,
            "tickcolor": "rgb(237,237,237)",
            "ticklen": 6,
            "ticks": "inside"
           }
          },
          "colorscale": {
           "sequential": [
            [
             0,
             "rgb(20,44,66)"
            ],
            [
             1,
             "rgb(90,179,244)"
            ]
           ],
           "sequentialminus": [
            [
             0,
             "rgb(20,44,66)"
            ],
            [
             1,
             "rgb(90,179,244)"
            ]
           ]
          },
          "colorway": [
           "#F8766D",
           "#A3A500",
           "#00BF7D",
           "#00B0F6",
           "#E76BF3"
          ],
          "font": {
           "color": "rgb(51,51,51)"
          },
          "geo": {
           "bgcolor": "white",
           "lakecolor": "white",
           "landcolor": "rgb(237,237,237)",
           "showlakes": true,
           "showland": true,
           "subunitcolor": "white"
          },
          "hoverlabel": {
           "align": "left"
          },
          "hovermode": "closest",
          "paper_bgcolor": "white",
          "plot_bgcolor": "rgb(237,237,237)",
          "polar": {
           "angularaxis": {
            "gridcolor": "white",
            "linecolor": "white",
            "showgrid": true,
            "tickcolor": "rgb(51,51,51)",
            "ticks": "outside"
           },
           "bgcolor": "rgb(237,237,237)",
           "radialaxis": {
            "gridcolor": "white",
            "linecolor": "white",
            "showgrid": true,
            "tickcolor": "rgb(51,51,51)",
            "ticks": "outside"
           }
          },
          "scene": {
           "xaxis": {
            "backgroundcolor": "rgb(237,237,237)",
            "gridcolor": "white",
            "gridwidth": 2,
            "linecolor": "white",
            "showbackground": true,
            "showgrid": true,
            "tickcolor": "rgb(51,51,51)",
            "ticks": "outside",
            "zerolinecolor": "white"
           },
           "yaxis": {
            "backgroundcolor": "rgb(237,237,237)",
            "gridcolor": "white",
            "gridwidth": 2,
            "linecolor": "white",
            "showbackground": true,
            "showgrid": true,
            "tickcolor": "rgb(51,51,51)",
            "ticks": "outside",
            "zerolinecolor": "white"
           },
           "zaxis": {
            "backgroundcolor": "rgb(237,237,237)",
            "gridcolor": "white",
            "gridwidth": 2,
            "linecolor": "white",
            "showbackground": true,
            "showgrid": true,
            "tickcolor": "rgb(51,51,51)",
            "ticks": "outside",
            "zerolinecolor": "white"
           }
          },
          "shapedefaults": {
           "fillcolor": "black",
           "line": {
            "width": 0
           },
           "opacity": 0.3
          },
          "ternary": {
           "aaxis": {
            "gridcolor": "white",
            "linecolor": "white",
            "showgrid": true,
            "tickcolor": "rgb(51,51,51)",
            "ticks": "outside"
           },
           "baxis": {
            "gridcolor": "white",
            "linecolor": "white",
            "showgrid": true,
            "tickcolor": "rgb(51,51,51)",
            "ticks": "outside"
           },
           "bgcolor": "rgb(237,237,237)",
           "caxis": {
            "gridcolor": "white",
            "linecolor": "white",
            "showgrid": true,
            "tickcolor": "rgb(51,51,51)",
            "ticks": "outside"
           }
          },
          "xaxis": {
           "automargin": true,
           "gridcolor": "white",
           "linecolor": "white",
           "showgrid": true,
           "tickcolor": "rgb(51,51,51)",
           "ticks": "outside",
           "title": {
            "standoff": 15
           },
           "zerolinecolor": "white"
          },
          "yaxis": {
           "automargin": true,
           "gridcolor": "white",
           "linecolor": "white",
           "showgrid": true,
           "tickcolor": "rgb(51,51,51)",
           "ticks": "outside",
           "title": {
            "standoff": 15
           },
           "zerolinecolor": "white"
          }
         }
        },
        "title": {
         "text": "Distributions of polarity by Item"
        },
        "width": 700,
        "xaxis": {
         "anchor": "y",
         "categoryarray": [
          "lock",
          "thermostat",
          "camera"
         ],
         "categoryorder": "array",
         "domain": [
          0,
          1
         ],
         "title": {
          "text": "Item"
         }
        },
        "yaxis": {
         "anchor": "x",
         "domain": [
          0,
          1
         ],
         "title": {
          "text": "Polarity"
         }
        }
       }
      },
      "text/html": [
       "<div>                            <div id=\"4f6a3e8a-b1a1-4d3d-b6e1-e0910507bff8\" class=\"plotly-graph-div\" style=\"height:400px; width:700px;\"></div>            <script type=\"text/javascript\">                require([\"plotly\"], function(Plotly) {                    window.PLOTLYENV=window.PLOTLYENV || {};                                    if (document.getElementById(\"4f6a3e8a-b1a1-4d3d-b6e1-e0910507bff8\")) {                    Plotly.newPlot(                        \"4f6a3e8a-b1a1-4d3d-b6e1-e0910507bff8\",                        [{\"alignmentgroup\":\"True\",\"hovertemplate\":\"Item=%{x}<br>Polarity=%{y}<extra></extra>\",\"legendgroup\":\"lock\",\"marker\":{\"color\":\"#F8766D\"},\"name\":\"lock\",\"notched\":false,\"offsetgroup\":\"lock\",\"orientation\":\"v\",\"showlegend\":true,\"x\":[\"lock\",\"lock\",\"lock\",\"lock\",\"lock\",\"lock\",\"lock\",\"lock\",\"lock\",\"lock\",\"lock\",\"lock\",\"lock\",\"lock\",\"lock\",\"lock\",\"lock\",\"lock\",\"lock\",\"lock\",\"lock\",\"lock\",\"lock\",\"lock\",\"lock\",\"lock\",\"lock\",\"lock\",\"lock\",\"lock\",\"lock\",\"lock\",\"lock\",\"lock\",\"lock\",\"lock\",\"lock\",\"lock\",\"lock\",\"lock\",\"lock\",\"lock\",\"lock\",\"lock\",\"lock\",\"lock\",\"lock\",\"lock\",\"lock\",\"lock\",\"lock\",\"lock\",\"lock\",\"lock\",\"lock\",\"lock\",\"lock\",\"lock\",\"lock\",\"lock\",\"lock\",\"lock\",\"lock\",\"lock\",\"lock\",\"lock\",\"lock\",\"lock\",\"lock\",\"lock\",\"lock\",\"lock\",\"lock\",\"lock\",\"lock\",\"lock\",\"lock\",\"lock\",\"lock\",\"lock\",\"lock\",\"lock\",\"lock\",\"lock\",\"lock\",\"lock\",\"lock\",\"lock\",\"lock\",\"lock\",\"lock\",\"lock\",\"lock\",\"lock\",\"lock\",\"lock\",\"lock\",\"lock\",\"lock\",\"lock\"],\"x0\":\" \",\"xaxis\":\"x\",\"y\":[0.14483471074380166,0.14120370370370372,0.0016498692279942294,0.1127710437710438,0.12385609340154793,0.006475593372145095,0.1373932938406623,0.10833333333333335,0.08949370941558439,0.0840287798621132,0.043333333333333335,0.07045454545454545,0.033208616780045365,0.21736111111111112,-0.0027619047619047666,-0.19270833333333331,-0.10000000000000002,0.11909090909090911,0.20758428440246623,0.10431547619047618,0.0019607843137254832,0.04010416666666669,-0.10097402597402595,0.12066005155892799,0.2148079004329005,0.15432900432900432,-0.1107142857142857,0.03861607142857143,-0.04232142857142859,-0.04146825396825397,0.11145833333333334,0.0,0.10515873015873016,0.17589285714285716,-0.013953308596165725,0.035884353741496615,0.24375000000000005,0.19108501963153127,0.19393939393939394,0.09796296296296297,0.12007575757575757,0.3214285714285715,0.12061204378277554,0.08876984126984126,0.15333333333333335,-0.0009277504105090264,0.12882716049382717,0.07091450216450218,0.177020202020202,0.07013888888888889,0.14992063492063493,0.026541274817136896,-0.013333333333333324,0.24496001683501684,0.1713235294117647,0.10578231292517007,0.022560908084163903,-0.13020833333333334,0.09135958892056455,0.04788359788359789,0.1411904761904762,0.18253968253968253,0.12702098626011668,0.125,-0.14499999999999996,-0.14227777777777773,0.15087412587412585,0.2233292748917749,0.3354220779220779,0.01897759103641457,-0.016666666666666666,0.1318518518518519,0.1387844611528822,0.09977699068608156,0.13616666666666666,0.020250626566416036,0.018181818181818188,0.04483266733266733,0.09008190008190008,0.3080769230769231,-0.008823529411764697,0.05543154761904763,-0.15357142857142855,-0.05428571428571427,0.337797619047619,0.10425438596491228,0.22048112706007442,0.27564102564102566,0.038603896103896106,0.0012648809523809236,0.22313852813852814,0.11101190476190476,0.0773299319727891,0.1633333333333333,-0.3083333333333333,0.08114478114478116,0.17258522727272727,0.015481631301303415,0.010740740740740742,-0.039455782312925174],\"y0\":\" \",\"yaxis\":\"y\",\"type\":\"box\"},{\"alignmentgroup\":\"True\",\"hovertemplate\":\"Item=%{x}<br>Polarity=%{y}<extra></extra>\",\"legendgroup\":\"thermostat\",\"marker\":{\"color\":\"#A3A500\"},\"name\":\"thermostat\",\"notched\":false,\"offsetgroup\":\"thermostat\",\"orientation\":\"v\",\"showlegend\":true,\"x\":[\"thermostat\",\"thermostat\",\"thermostat\",\"thermostat\",\"thermostat\",\"thermostat\",\"thermostat\",\"thermostat\",\"thermostat\",\"thermostat\",\"thermostat\",\"thermostat\",\"thermostat\",\"thermostat\",\"thermostat\",\"thermostat\",\"thermostat\",\"thermostat\",\"thermostat\",\"thermostat\",\"thermostat\",\"thermostat\",\"thermostat\",\"thermostat\",\"thermostat\",\"thermostat\",\"thermostat\",\"thermostat\",\"thermostat\",\"thermostat\",\"thermostat\",\"thermostat\",\"thermostat\",\"thermostat\",\"thermostat\",\"thermostat\",\"thermostat\",\"thermostat\",\"thermostat\",\"thermostat\",\"thermostat\",\"thermostat\",\"thermostat\",\"thermostat\",\"thermostat\",\"thermostat\",\"thermostat\",\"thermostat\",\"thermostat\",\"thermostat\",\"thermostat\",\"thermostat\",\"thermostat\",\"thermostat\",\"thermostat\",\"thermostat\",\"thermostat\",\"thermostat\",\"thermostat\",\"thermostat\",\"thermostat\",\"thermostat\",\"thermostat\",\"thermostat\",\"thermostat\",\"thermostat\",\"thermostat\",\"thermostat\",\"thermostat\",\"thermostat\",\"thermostat\",\"thermostat\",\"thermostat\",\"thermostat\",\"thermostat\",\"thermostat\",\"thermostat\",\"thermostat\",\"thermostat\",\"thermostat\",\"thermostat\",\"thermostat\",\"thermostat\",\"thermostat\",\"thermostat\",\"thermostat\",\"thermostat\",\"thermostat\",\"thermostat\",\"thermostat\",\"thermostat\",\"thermostat\",\"thermostat\",\"thermostat\",\"thermostat\",\"thermostat\",\"thermostat\",\"thermostat\",\"thermostat\",\"thermostat\"],\"x0\":\" \",\"xaxis\":\"x\",\"y\":[0.03005246166263115,-0.01562049062049062,0.23942176870748297,0.0,0.04486454405809244,0.0,-0.0035714285714285665,0.0,0.08020833333333334,0.1111111111111111,0.22953423120089786,0.13599590373783924,0.14488455988455987,0.2676136363636364,0.3598412698412698,0.17409340659340655,0.020518518518518512,0.03740079365079365,0.08497536945812809,0.2022134115884116,-0.09097222222222223,0.06515151515151514,0.3208441558441559,0.06527777777777778,0.14922839506172836,0.17631987577639752,0.08648484848484847,0.10119047619047618,0.1876839826839827,0.0,0.05410052910052909,0.18163674560733384,0.08173701298701296,-0.0005856888209829394,0.02228354978354979,0.1365378111471861,0.2518532261389404,0.21496428571428572,0.22222222222222224,0.21203703703703702,-0.0020202020202020055,0.24825268817204307,0.2607142857142857,-0.10763888888888887,0.021567882472137794,0.06388888888888888,-0.10373809523809525,0.11442648005148007,0.00816993464052287,0.05158730158730159,0.11936507936507937,0.08248647186147187,-0.05718005952380953,0.039393939393939384,0.11234126984126983,0.14081632653061224,0.0909636544011544,0.10968860684769775,0.12965454545454544,0.1665120415982485,0.24632936507936506,0.11267361111111113,0.03522727272727274,0.22680639672827171,0.1428351370851371,0.1451388888888889,0.15071428571428575,0.09930555555555558,0.11689976689976692,0.26830006413339746,0.15652680652680656,0.31706349206349205,0.08294642857142857,0.21482142857142858,0.34190476190476193,0.1434920634920635,0.01322314049586777,0.22986094713367441,0.17305555555555555,0.14444444444444446,-0.03750000000000003,-0.026355820105820115,-0.0742857142857143,0.2503174603174604,-0.018750000000000003,0.254388036206218,-0.03571428571428571,0.0,0.06604996392496394,0.3058201058201058,0.13296930342384888,0.12374847374847374,0.22783882783882792,0.2248706004140787,0.07335353535353532,0.08915701415701416,-0.012738095238095224,0.012360053739364078,0.09408643081056875,0.02076719576719576],\"y0\":\" \",\"yaxis\":\"y\",\"type\":\"box\"},{\"alignmentgroup\":\"True\",\"hovertemplate\":\"Item=%{x}<br>Polarity=%{y}<extra></extra>\",\"legendgroup\":\"camera\",\"marker\":{\"color\":\"#00BF7D\"},\"name\":\"camera\",\"notched\":false,\"offsetgroup\":\"camera\",\"orientation\":\"v\",\"showlegend\":true,\"x\":[\"camera\",\"camera\",\"camera\",\"camera\",\"camera\",\"camera\",\"camera\",\"camera\",\"camera\",\"camera\",\"camera\",\"camera\",\"camera\",\"camera\",\"camera\",\"camera\",\"camera\",\"camera\",\"camera\",\"camera\",\"camera\",\"camera\",\"camera\",\"camera\",\"camera\",\"camera\",\"camera\",\"camera\",\"camera\",\"camera\",\"camera\",\"camera\",\"camera\",\"camera\",\"camera\",\"camera\",\"camera\",\"camera\",\"camera\",\"camera\",\"camera\",\"camera\",\"camera\",\"camera\",\"camera\",\"camera\",\"camera\",\"camera\",\"camera\",\"camera\",\"camera\",\"camera\",\"camera\",\"camera\",\"camera\",\"camera\",\"camera\",\"camera\",\"camera\",\"camera\",\"camera\",\"camera\",\"camera\",\"camera\",\"camera\",\"camera\",\"camera\",\"camera\",\"camera\",\"camera\",\"camera\",\"camera\",\"camera\",\"camera\",\"camera\",\"camera\",\"camera\",\"camera\",\"camera\",\"camera\",\"camera\",\"camera\",\"camera\",\"camera\",\"camera\",\"camera\",\"camera\",\"camera\",\"camera\",\"camera\",\"camera\",\"camera\",\"camera\",\"camera\",\"camera\",\"camera\",\"camera\",\"camera\",\"camera\",\"camera\"],\"x0\":\" \",\"xaxis\":\"x\",\"y\":[0.2638888888888889,0.14467261904761908,0.12929924242424243,0.3,-0.06666666666666667,-0.5,0.18495238095238098,0.13734297696351264,-0.44285714285714295,0.1593181818181818,0.08055555555555555,0.20468390804597697,0.08499999999999996,0.3275641025641026,0.14155701754385966,0.029956415112665107,0.06528745644599303,0.17895794681508967,0.16051136363636362,0.0,0.05298295454545455,-0.09090909090909091,0.11059422348484844,0.2,0.41488095238095246,-0.125,-0.03461538461538462,0.14364973262032088,0.1075174825174825,0.29,-0.055078125,0.0,0.06944444444444445,0.14047041847041844,0.17385658914728683,0.0,0.08333333333333333,0.10741509782207458,-0.06590909090909092,0.07967687074829934,-0.06336805555555554,-0.044886363636363634,0.12045454545454547,0.0,0.13715940921823272,-0.14333333333333328,0.14722222222222223,0.23701790633608819,0.054545454545454564,0.07458333333333333,-0.09791666666666662,0.10293007182211728,0.09527529761904763,-0.10711111111111112,0.3613181818181818,0.1091246753246753,0.029793650793650782,0.04292929292929293,0.19569490586932448,0.0,0.3047619047619048,-0.16540404040404041,0.19687500000000002,0.16651515151515153,0.15055361305361303,0.1876773835920178,0.3121212121212122,0.08402777777777778,0.17054059904059907,0.0,0.12435064935064936,0.0,0.027665755297334248,0.14952172096908942,0.1793847566574839,0.1464285714285714,0.1447214076246334,0.28622212912535494,-0.049621212121212115,0.17512820512820515,-0.06271795334295334,0.32857142857142857,0.05831830206830207,0.11664141414141417,0.07903370829507192,0.1620880819860412,0.085,0.013392857142857137,-0.016666666666666656,0.13444264069264067,0.1512222222222222,0.1784090909090909,0.20655797101449275,0.038388888888888896,0.18174603174603174,0.125,-0.026608187134502935,0.04992559523809523,0.23666666666666666,0.353125],\"y0\":\" \",\"yaxis\":\"y\",\"type\":\"box\"}],                        {\"template\":{\"data\":{\"bar\":[{\"error_x\":{\"color\":\"rgb(51,51,51)\"},\"error_y\":{\"color\":\"rgb(51,51,51)\"},\"marker\":{\"line\":{\"color\":\"rgb(237,237,237)\",\"width\":0.5},\"pattern\":{\"fillmode\":\"overlay\",\"size\":10,\"solidity\":0.2}},\"type\":\"bar\"}],\"barpolar\":[{\"marker\":{\"line\":{\"color\":\"rgb(237,237,237)\",\"width\":0.5},\"pattern\":{\"fillmode\":\"overlay\",\"size\":10,\"solidity\":0.2}},\"type\":\"barpolar\"}],\"carpet\":[{\"aaxis\":{\"endlinecolor\":\"rgb(51,51,51)\",\"gridcolor\":\"white\",\"linecolor\":\"white\",\"minorgridcolor\":\"white\",\"startlinecolor\":\"rgb(51,51,51)\"},\"baxis\":{\"endlinecolor\":\"rgb(51,51,51)\",\"gridcolor\":\"white\",\"linecolor\":\"white\",\"minorgridcolor\":\"white\",\"startlinecolor\":\"rgb(51,51,51)\"},\"type\":\"carpet\"}],\"choropleth\":[{\"colorbar\":{\"outlinewidth\":0,\"tickcolor\":\"rgb(237,237,237)\",\"ticklen\":6,\"ticks\":\"inside\"},\"type\":\"choropleth\"}],\"contour\":[{\"colorbar\":{\"outlinewidth\":0,\"tickcolor\":\"rgb(237,237,237)\",\"ticklen\":6,\"ticks\":\"inside\"},\"colorscale\":[[0,\"rgb(20,44,66)\"],[1,\"rgb(90,179,244)\"]],\"type\":\"contour\"}],\"contourcarpet\":[{\"colorbar\":{\"outlinewidth\":0,\"tickcolor\":\"rgb(237,237,237)\",\"ticklen\":6,\"ticks\":\"inside\"},\"type\":\"contourcarpet\"}],\"heatmap\":[{\"colorbar\":{\"outlinewidth\":0,\"tickcolor\":\"rgb(237,237,237)\",\"ticklen\":6,\"ticks\":\"inside\"},\"colorscale\":[[0,\"rgb(20,44,66)\"],[1,\"rgb(90,179,244)\"]],\"type\":\"heatmap\"}],\"heatmapgl\":[{\"colorbar\":{\"outlinewidth\":0,\"tickcolor\":\"rgb(237,237,237)\",\"ticklen\":6,\"ticks\":\"inside\"},\"colorscale\":[[0,\"rgb(20,44,66)\"],[1,\"rgb(90,179,244)\"]],\"type\":\"heatmapgl\"}],\"histogram\":[{\"marker\":{\"pattern\":{\"fillmode\":\"overlay\",\"size\":10,\"solidity\":0.2}},\"type\":\"histogram\"}],\"histogram2d\":[{\"colorbar\":{\"outlinewidth\":0,\"tickcolor\":\"rgb(237,237,237)\",\"ticklen\":6,\"ticks\":\"inside\"},\"colorscale\":[[0,\"rgb(20,44,66)\"],[1,\"rgb(90,179,244)\"]],\"type\":\"histogram2d\"}],\"histogram2dcontour\":[{\"colorbar\":{\"outlinewidth\":0,\"tickcolor\":\"rgb(237,237,237)\",\"ticklen\":6,\"ticks\":\"inside\"},\"colorscale\":[[0,\"rgb(20,44,66)\"],[1,\"rgb(90,179,244)\"]],\"type\":\"histogram2dcontour\"}],\"mesh3d\":[{\"colorbar\":{\"outlinewidth\":0,\"tickcolor\":\"rgb(237,237,237)\",\"ticklen\":6,\"ticks\":\"inside\"},\"type\":\"mesh3d\"}],\"parcoords\":[{\"line\":{\"colorbar\":{\"outlinewidth\":0,\"tickcolor\":\"rgb(237,237,237)\",\"ticklen\":6,\"ticks\":\"inside\"}},\"type\":\"parcoords\"}],\"pie\":[{\"automargin\":true,\"type\":\"pie\"}],\"scatter\":[{\"marker\":{\"colorbar\":{\"outlinewidth\":0,\"tickcolor\":\"rgb(237,237,237)\",\"ticklen\":6,\"ticks\":\"inside\"}},\"type\":\"scatter\"}],\"scatter3d\":[{\"line\":{\"colorbar\":{\"outlinewidth\":0,\"tickcolor\":\"rgb(237,237,237)\",\"ticklen\":6,\"ticks\":\"inside\"}},\"marker\":{\"colorbar\":{\"outlinewidth\":0,\"tickcolor\":\"rgb(237,237,237)\",\"ticklen\":6,\"ticks\":\"inside\"}},\"type\":\"scatter3d\"}],\"scattercarpet\":[{\"marker\":{\"colorbar\":{\"outlinewidth\":0,\"tickcolor\":\"rgb(237,237,237)\",\"ticklen\":6,\"ticks\":\"inside\"}},\"type\":\"scattercarpet\"}],\"scattergeo\":[{\"marker\":{\"colorbar\":{\"outlinewidth\":0,\"tickcolor\":\"rgb(237,237,237)\",\"ticklen\":6,\"ticks\":\"inside\"}},\"type\":\"scattergeo\"}],\"scattergl\":[{\"marker\":{\"colorbar\":{\"outlinewidth\":0,\"tickcolor\":\"rgb(237,237,237)\",\"ticklen\":6,\"ticks\":\"inside\"}},\"type\":\"scattergl\"}],\"scattermapbox\":[{\"marker\":{\"colorbar\":{\"outlinewidth\":0,\"tickcolor\":\"rgb(237,237,237)\",\"ticklen\":6,\"ticks\":\"inside\"}},\"type\":\"scattermapbox\"}],\"scatterpolar\":[{\"marker\":{\"colorbar\":{\"outlinewidth\":0,\"tickcolor\":\"rgb(237,237,237)\",\"ticklen\":6,\"ticks\":\"inside\"}},\"type\":\"scatterpolar\"}],\"scatterpolargl\":[{\"marker\":{\"colorbar\":{\"outlinewidth\":0,\"tickcolor\":\"rgb(237,237,237)\",\"ticklen\":6,\"ticks\":\"inside\"}},\"type\":\"scatterpolargl\"}],\"scatterternary\":[{\"marker\":{\"colorbar\":{\"outlinewidth\":0,\"tickcolor\":\"rgb(237,237,237)\",\"ticklen\":6,\"ticks\":\"inside\"}},\"type\":\"scatterternary\"}],\"surface\":[{\"colorbar\":{\"outlinewidth\":0,\"tickcolor\":\"rgb(237,237,237)\",\"ticklen\":6,\"ticks\":\"inside\"},\"colorscale\":[[0,\"rgb(20,44,66)\"],[1,\"rgb(90,179,244)\"]],\"type\":\"surface\"}],\"table\":[{\"cells\":{\"fill\":{\"color\":\"rgb(237,237,237)\"},\"line\":{\"color\":\"white\"}},\"header\":{\"fill\":{\"color\":\"rgb(217,217,217)\"},\"line\":{\"color\":\"white\"}},\"type\":\"table\"}]},\"layout\":{\"annotationdefaults\":{\"arrowhead\":0,\"arrowwidth\":1},\"autotypenumbers\":\"strict\",\"coloraxis\":{\"colorbar\":{\"outlinewidth\":0,\"tickcolor\":\"rgb(237,237,237)\",\"ticklen\":6,\"ticks\":\"inside\"}},\"colorscale\":{\"sequential\":[[0,\"rgb(20,44,66)\"],[1,\"rgb(90,179,244)\"]],\"sequentialminus\":[[0,\"rgb(20,44,66)\"],[1,\"rgb(90,179,244)\"]]},\"colorway\":[\"#F8766D\",\"#A3A500\",\"#00BF7D\",\"#00B0F6\",\"#E76BF3\"],\"font\":{\"color\":\"rgb(51,51,51)\"},\"geo\":{\"bgcolor\":\"white\",\"lakecolor\":\"white\",\"landcolor\":\"rgb(237,237,237)\",\"showlakes\":true,\"showland\":true,\"subunitcolor\":\"white\"},\"hoverlabel\":{\"align\":\"left\"},\"hovermode\":\"closest\",\"paper_bgcolor\":\"white\",\"plot_bgcolor\":\"rgb(237,237,237)\",\"polar\":{\"angularaxis\":{\"gridcolor\":\"white\",\"linecolor\":\"white\",\"showgrid\":true,\"tickcolor\":\"rgb(51,51,51)\",\"ticks\":\"outside\"},\"bgcolor\":\"rgb(237,237,237)\",\"radialaxis\":{\"gridcolor\":\"white\",\"linecolor\":\"white\",\"showgrid\":true,\"tickcolor\":\"rgb(51,51,51)\",\"ticks\":\"outside\"}},\"scene\":{\"xaxis\":{\"backgroundcolor\":\"rgb(237,237,237)\",\"gridcolor\":\"white\",\"gridwidth\":2,\"linecolor\":\"white\",\"showbackground\":true,\"showgrid\":true,\"tickcolor\":\"rgb(51,51,51)\",\"ticks\":\"outside\",\"zerolinecolor\":\"white\"},\"yaxis\":{\"backgroundcolor\":\"rgb(237,237,237)\",\"gridcolor\":\"white\",\"gridwidth\":2,\"linecolor\":\"white\",\"showbackground\":true,\"showgrid\":true,\"tickcolor\":\"rgb(51,51,51)\",\"ticks\":\"outside\",\"zerolinecolor\":\"white\"},\"zaxis\":{\"backgroundcolor\":\"rgb(237,237,237)\",\"gridcolor\":\"white\",\"gridwidth\":2,\"linecolor\":\"white\",\"showbackground\":true,\"showgrid\":true,\"tickcolor\":\"rgb(51,51,51)\",\"ticks\":\"outside\",\"zerolinecolor\":\"white\"}},\"shapedefaults\":{\"fillcolor\":\"black\",\"line\":{\"width\":0},\"opacity\":0.3},\"ternary\":{\"aaxis\":{\"gridcolor\":\"white\",\"linecolor\":\"white\",\"showgrid\":true,\"tickcolor\":\"rgb(51,51,51)\",\"ticks\":\"outside\"},\"baxis\":{\"gridcolor\":\"white\",\"linecolor\":\"white\",\"showgrid\":true,\"tickcolor\":\"rgb(51,51,51)\",\"ticks\":\"outside\"},\"bgcolor\":\"rgb(237,237,237)\",\"caxis\":{\"gridcolor\":\"white\",\"linecolor\":\"white\",\"showgrid\":true,\"tickcolor\":\"rgb(51,51,51)\",\"ticks\":\"outside\"}},\"xaxis\":{\"automargin\":true,\"gridcolor\":\"white\",\"linecolor\":\"white\",\"showgrid\":true,\"tickcolor\":\"rgb(51,51,51)\",\"ticks\":\"outside\",\"title\":{\"standoff\":15},\"zerolinecolor\":\"white\"},\"yaxis\":{\"automargin\":true,\"gridcolor\":\"white\",\"linecolor\":\"white\",\"showgrid\":true,\"tickcolor\":\"rgb(51,51,51)\",\"ticks\":\"outside\",\"title\":{\"standoff\":15},\"zerolinecolor\":\"white\"}}},\"xaxis\":{\"anchor\":\"y\",\"domain\":[0.0,1.0],\"title\":{\"text\":\"Item\"},\"categoryorder\":\"array\",\"categoryarray\":[\"lock\",\"thermostat\",\"camera\"]},\"yaxis\":{\"anchor\":\"x\",\"domain\":[0.0,1.0],\"title\":{\"text\":\"Polarity\"}},\"legend\":{\"title\":{\"text\":\"Item\"},\"tracegroupgap\":0},\"title\":{\"text\":\"Distributions of polarity by Item\"},\"boxmode\":\"overlay\",\"height\":400,\"width\":700},                        {\"responsive\": true}                    ).then(function(){\n",
       "                            \n",
       "var gd = document.getElementById('4f6a3e8a-b1a1-4d3d-b6e1-e0910507bff8');\n",
       "var x = new MutationObserver(function (mutations, observer) {{\n",
       "        var display = window.getComputedStyle(gd).display;\n",
       "        if (!display || display === 'none') {{\n",
       "            console.log([gd, 'removed!']);\n",
       "            Plotly.purge(gd);\n",
       "            observer.disconnect();\n",
       "        }}\n",
       "}});\n",
       "\n",
       "// Listen for the removal of the full notebook cells\n",
       "var notebookContainer = gd.closest('#notebook-container');\n",
       "if (notebookContainer) {{\n",
       "    x.observe(notebookContainer, {childList: true});\n",
       "}}\n",
       "\n",
       "// Listen for the clearing of the current output cell\n",
       "var outputEl = gd.closest('.output');\n",
       "if (outputEl) {{\n",
       "    x.observe(outputEl, {childList: true});\n",
       "}}\n",
       "\n",
       "                        })                };                });            </script>        </div>"
      ]
     },
     "metadata": {},
     "output_type": "display_data"
    }
   ],
   "source": [
    "pol2 = px.box(data_frame=viz,\n",
    "              x=\"Item\",\n",
    "              y=\"Polarity\",\n",
    "              color=\"Item\",\n",
    "              title=\"Distributions of polarity by Item\",\n",
    "              width=700,\n",
    "              height=400)\n",
    "pol2.show()"
   ]
  },
  {
   "cell_type": "markdown",
   "id": "94a75389",
   "metadata": {},
   "source": [
    "**Insights:**\n",
    "- 50% of all reviews have polarity between 0.02 and 0.17 which is on the positive side of the scale\n",
    "- Specific items have roughly same range of polarities\n",
    "- Smart camera have larger variation in polarities\n",
    "- We have some outlier reviews with negative sentiment"
   ]
  },
  {
   "cell_type": "markdown",
   "id": "eff3ce83",
   "metadata": {},
   "source": [
    "<a id=\"9\"></a>\n",
    "## Sentiment analysis"
   ]
  },
  {
   "cell_type": "code",
   "execution_count": 163,
   "id": "833daa37",
   "metadata": {},
   "outputs": [
    {
     "data": {
      "application/vnd.plotly.v1+json": {
       "config": {
        "plotlyServerURL": "https://plot.ly"
       },
       "data": [
        {
         "alignmentgroup": "True",
         "hovertemplate": "Sentiment=%{x}<br>Item=lock<br>count=%{y}<extra></extra>",
         "legendgroup": "positive",
         "marker": {
          "color": "#F8766D",
          "pattern": {
           "shape": ""
          }
         },
         "name": "positive",
         "offsetgroup": "positive",
         "orientation": "v",
         "showlegend": true,
         "textposition": "auto",
         "type": "bar",
         "x": [
          "positive",
          "positive",
          "positive",
          "positive",
          "positive",
          "positive",
          "positive",
          "positive",
          "positive",
          "positive",
          "positive",
          "positive",
          "positive",
          "positive",
          "positive",
          "positive",
          "positive",
          "positive",
          "positive",
          "positive",
          "positive",
          "positive",
          "positive",
          "positive",
          "positive",
          "positive",
          "positive",
          "positive",
          "positive",
          "positive",
          "positive",
          "positive",
          "positive",
          "positive",
          "positive",
          "positive",
          "positive",
          "positive",
          "positive",
          "positive",
          "positive",
          "positive",
          "positive",
          "positive",
          "positive",
          "positive",
          "positive",
          "positive"
         ],
         "xaxis": "x",
         "y": [
          1,
          1,
          1,
          1,
          1,
          1,
          1,
          1,
          1,
          1,
          1,
          1,
          1,
          1,
          1,
          1,
          1,
          1,
          1,
          1,
          1,
          1,
          1,
          1,
          1,
          1,
          1,
          1,
          1,
          1,
          1,
          1,
          1,
          1,
          1,
          1,
          1,
          1,
          1,
          1,
          1,
          1,
          1,
          1,
          1,
          1,
          1,
          1
         ],
         "yaxis": "y"
        },
        {
         "alignmentgroup": "True",
         "hovertemplate": "Sentiment=%{x}<br>Item=thermostat<br>count=%{y}<extra></extra>",
         "legendgroup": "positive",
         "marker": {
          "color": "#F8766D",
          "pattern": {
           "shape": ""
          }
         },
         "name": "positive",
         "offsetgroup": "positive",
         "orientation": "v",
         "showlegend": false,
         "textposition": "auto",
         "type": "bar",
         "x": [
          "positive",
          "positive",
          "positive",
          "positive",
          "positive",
          "positive",
          "positive",
          "positive",
          "positive",
          "positive",
          "positive",
          "positive",
          "positive",
          "positive",
          "positive",
          "positive",
          "positive",
          "positive",
          "positive",
          "positive",
          "positive",
          "positive",
          "positive",
          "positive",
          "positive",
          "positive",
          "positive",
          "positive",
          "positive",
          "positive",
          "positive",
          "positive",
          "positive",
          "positive",
          "positive",
          "positive",
          "positive",
          "positive",
          "positive",
          "positive",
          "positive",
          "positive",
          "positive",
          "positive",
          "positive",
          "positive",
          "positive",
          "positive",
          "positive",
          "positive",
          "positive",
          "positive"
         ],
         "xaxis": "x2",
         "y": [
          1,
          1,
          1,
          1,
          1,
          1,
          1,
          1,
          1,
          1,
          1,
          1,
          1,
          1,
          1,
          1,
          1,
          1,
          1,
          1,
          1,
          1,
          1,
          1,
          1,
          1,
          1,
          1,
          1,
          1,
          1,
          1,
          1,
          1,
          1,
          1,
          1,
          1,
          1,
          1,
          1,
          1,
          1,
          1,
          1,
          1,
          1,
          1,
          1,
          1,
          1,
          1
         ],
         "yaxis": "y2"
        },
        {
         "alignmentgroup": "True",
         "hovertemplate": "Sentiment=%{x}<br>Item=camera<br>count=%{y}<extra></extra>",
         "legendgroup": "positive",
         "marker": {
          "color": "#F8766D",
          "pattern": {
           "shape": ""
          }
         },
         "name": "positive",
         "offsetgroup": "positive",
         "orientation": "v",
         "showlegend": false,
         "textposition": "auto",
         "type": "bar",
         "x": [
          "positive",
          "positive",
          "positive",
          "positive",
          "positive",
          "positive",
          "positive",
          "positive",
          "positive",
          "positive",
          "positive",
          "positive",
          "positive",
          "positive",
          "positive",
          "positive",
          "positive",
          "positive",
          "positive",
          "positive",
          "positive",
          "positive",
          "positive",
          "positive",
          "positive",
          "positive",
          "positive",
          "positive",
          "positive",
          "positive",
          "positive",
          "positive",
          "positive",
          "positive",
          "positive",
          "positive",
          "positive",
          "positive",
          "positive",
          "positive",
          "positive",
          "positive",
          "positive",
          "positive",
          "positive",
          "positive",
          "positive",
          "positive",
          "positive",
          "positive",
          "positive",
          "positive",
          "positive",
          "positive"
         ],
         "xaxis": "x3",
         "y": [
          1,
          1,
          1,
          1,
          1,
          1,
          1,
          1,
          1,
          1,
          1,
          1,
          1,
          1,
          1,
          1,
          1,
          1,
          1,
          1,
          1,
          1,
          1,
          1,
          1,
          1,
          1,
          1,
          1,
          1,
          1,
          1,
          1,
          1,
          1,
          1,
          1,
          1,
          1,
          1,
          1,
          1,
          1,
          1,
          1,
          1,
          1,
          1,
          1,
          1,
          1,
          1,
          1,
          1
         ],
         "yaxis": "y3"
        },
        {
         "alignmentgroup": "True",
         "hovertemplate": "Sentiment=%{x}<br>Item=lock<br>count=%{y}<extra></extra>",
         "legendgroup": "neutral",
         "marker": {
          "color": "#A3A500",
          "pattern": {
           "shape": ""
          }
         },
         "name": "neutral",
         "offsetgroup": "neutral",
         "orientation": "v",
         "showlegend": true,
         "textposition": "auto",
         "type": "bar",
         "x": [
          "neutral",
          "neutral",
          "neutral",
          "neutral",
          "neutral",
          "neutral",
          "neutral",
          "neutral",
          "neutral",
          "neutral",
          "neutral",
          "neutral",
          "neutral",
          "neutral",
          "neutral",
          "neutral",
          "neutral",
          "neutral",
          "neutral",
          "neutral",
          "neutral",
          "neutral",
          "neutral",
          "neutral",
          "neutral",
          "neutral",
          "neutral",
          "neutral",
          "neutral",
          "neutral",
          "neutral",
          "neutral",
          "neutral"
         ],
         "xaxis": "x",
         "y": [
          1,
          1,
          1,
          1,
          1,
          1,
          1,
          1,
          1,
          1,
          1,
          1,
          1,
          1,
          1,
          1,
          1,
          1,
          1,
          1,
          1,
          1,
          1,
          1,
          1,
          1,
          1,
          1,
          1,
          1,
          1,
          1,
          1
         ],
         "yaxis": "y"
        },
        {
         "alignmentgroup": "True",
         "hovertemplate": "Sentiment=%{x}<br>Item=thermostat<br>count=%{y}<extra></extra>",
         "legendgroup": "neutral",
         "marker": {
          "color": "#A3A500",
          "pattern": {
           "shape": ""
          }
         },
         "name": "neutral",
         "offsetgroup": "neutral",
         "orientation": "v",
         "showlegend": false,
         "textposition": "auto",
         "type": "bar",
         "x": [
          "neutral",
          "neutral",
          "neutral",
          "neutral",
          "neutral",
          "neutral",
          "neutral",
          "neutral",
          "neutral",
          "neutral",
          "neutral",
          "neutral",
          "neutral",
          "neutral",
          "neutral",
          "neutral",
          "neutral",
          "neutral",
          "neutral",
          "neutral",
          "neutral",
          "neutral",
          "neutral",
          "neutral",
          "neutral",
          "neutral",
          "neutral",
          "neutral",
          "neutral",
          "neutral",
          "neutral",
          "neutral",
          "neutral",
          "neutral"
         ],
         "xaxis": "x2",
         "y": [
          1,
          1,
          1,
          1,
          1,
          1,
          1,
          1,
          1,
          1,
          1,
          1,
          1,
          1,
          1,
          1,
          1,
          1,
          1,
          1,
          1,
          1,
          1,
          1,
          1,
          1,
          1,
          1,
          1,
          1,
          1,
          1,
          1,
          1
         ],
         "yaxis": "y2"
        },
        {
         "alignmentgroup": "True",
         "hovertemplate": "Sentiment=%{x}<br>Item=camera<br>count=%{y}<extra></extra>",
         "legendgroup": "neutral",
         "marker": {
          "color": "#A3A500",
          "pattern": {
           "shape": ""
          }
         },
         "name": "neutral",
         "offsetgroup": "neutral",
         "orientation": "v",
         "showlegend": false,
         "textposition": "auto",
         "type": "bar",
         "x": [
          "neutral",
          "neutral",
          "neutral",
          "neutral",
          "neutral",
          "neutral",
          "neutral",
          "neutral",
          "neutral",
          "neutral",
          "neutral",
          "neutral",
          "neutral",
          "neutral",
          "neutral",
          "neutral",
          "neutral",
          "neutral",
          "neutral",
          "neutral",
          "neutral",
          "neutral",
          "neutral",
          "neutral",
          "neutral",
          "neutral",
          "neutral",
          "neutral"
         ],
         "xaxis": "x3",
         "y": [
          1,
          1,
          1,
          1,
          1,
          1,
          1,
          1,
          1,
          1,
          1,
          1,
          1,
          1,
          1,
          1,
          1,
          1,
          1,
          1,
          1,
          1,
          1,
          1,
          1,
          1,
          1,
          1
         ],
         "yaxis": "y3"
        },
        {
         "alignmentgroup": "True",
         "hovertemplate": "Sentiment=%{x}<br>Item=lock<br>count=%{y}<extra></extra>",
         "legendgroup": "negative",
         "marker": {
          "color": "#00BF7D",
          "pattern": {
           "shape": ""
          }
         },
         "name": "negative",
         "offsetgroup": "negative",
         "orientation": "v",
         "showlegend": true,
         "textposition": "auto",
         "type": "bar",
         "x": [
          "negative",
          "negative",
          "negative",
          "negative",
          "negative",
          "negative",
          "negative",
          "negative",
          "negative",
          "negative",
          "negative",
          "negative",
          "negative",
          "negative",
          "negative",
          "negative",
          "negative",
          "negative",
          "negative"
         ],
         "xaxis": "x",
         "y": [
          1,
          1,
          1,
          1,
          1,
          1,
          1,
          1,
          1,
          1,
          1,
          1,
          1,
          1,
          1,
          1,
          1,
          1,
          1
         ],
         "yaxis": "y"
        },
        {
         "alignmentgroup": "True",
         "hovertemplate": "Sentiment=%{x}<br>Item=thermostat<br>count=%{y}<extra></extra>",
         "legendgroup": "negative",
         "marker": {
          "color": "#00BF7D",
          "pattern": {
           "shape": ""
          }
         },
         "name": "negative",
         "offsetgroup": "negative",
         "orientation": "v",
         "showlegend": false,
         "textposition": "auto",
         "type": "bar",
         "x": [
          "negative",
          "negative",
          "negative",
          "negative",
          "negative",
          "negative",
          "negative",
          "negative",
          "negative",
          "negative",
          "negative",
          "negative",
          "negative",
          "negative"
         ],
         "xaxis": "x2",
         "y": [
          1,
          1,
          1,
          1,
          1,
          1,
          1,
          1,
          1,
          1,
          1,
          1,
          1,
          1
         ],
         "yaxis": "y2"
        },
        {
         "alignmentgroup": "True",
         "hovertemplate": "Sentiment=%{x}<br>Item=camera<br>count=%{y}<extra></extra>",
         "legendgroup": "negative",
         "marker": {
          "color": "#00BF7D",
          "pattern": {
           "shape": ""
          }
         },
         "name": "negative",
         "offsetgroup": "negative",
         "orientation": "v",
         "showlegend": false,
         "textposition": "auto",
         "type": "bar",
         "x": [
          "negative",
          "negative",
          "negative",
          "negative",
          "negative",
          "negative",
          "negative",
          "negative",
          "negative",
          "negative",
          "negative",
          "negative",
          "negative",
          "negative",
          "negative",
          "negative",
          "negative",
          "negative"
         ],
         "xaxis": "x3",
         "y": [
          1,
          1,
          1,
          1,
          1,
          1,
          1,
          1,
          1,
          1,
          1,
          1,
          1,
          1,
          1,
          1,
          1,
          1
         ],
         "yaxis": "y3"
        }
       ],
       "layout": {
        "annotations": [
         {
          "font": {},
          "showarrow": false,
          "text": "lock",
          "x": 0.15999999999999998,
          "xanchor": "center",
          "xref": "paper",
          "y": 1,
          "yanchor": "bottom",
          "yref": "paper"
         },
         {
          "font": {},
          "showarrow": false,
          "text": "thermostat",
          "x": 0.49999999999999994,
          "xanchor": "center",
          "xref": "paper",
          "y": 1,
          "yanchor": "bottom",
          "yref": "paper"
         },
         {
          "font": {},
          "showarrow": false,
          "text": "camera",
          "x": 0.8399999999999999,
          "xanchor": "center",
          "xref": "paper",
          "y": 1,
          "yanchor": "bottom",
          "yref": "paper"
         }
        ],
        "barmode": "relative",
        "height": 400,
        "legend": {
         "title": {
          "text": "Sentiment"
         },
         "tracegroupgap": 0
        },
        "margin": {
         "t": 60
        },
        "template": {
         "data": {
          "bar": [
           {
            "error_x": {
             "color": "rgb(51,51,51)"
            },
            "error_y": {
             "color": "rgb(51,51,51)"
            },
            "marker": {
             "line": {
              "color": "rgb(237,237,237)",
              "width": 0.5
             },
             "pattern": {
              "fillmode": "overlay",
              "size": 10,
              "solidity": 0.2
             }
            },
            "type": "bar"
           }
          ],
          "barpolar": [
           {
            "marker": {
             "line": {
              "color": "rgb(237,237,237)",
              "width": 0.5
             },
             "pattern": {
              "fillmode": "overlay",
              "size": 10,
              "solidity": 0.2
             }
            },
            "type": "barpolar"
           }
          ],
          "carpet": [
           {
            "aaxis": {
             "endlinecolor": "rgb(51,51,51)",
             "gridcolor": "white",
             "linecolor": "white",
             "minorgridcolor": "white",
             "startlinecolor": "rgb(51,51,51)"
            },
            "baxis": {
             "endlinecolor": "rgb(51,51,51)",
             "gridcolor": "white",
             "linecolor": "white",
             "minorgridcolor": "white",
             "startlinecolor": "rgb(51,51,51)"
            },
            "type": "carpet"
           }
          ],
          "choropleth": [
           {
            "colorbar": {
             "outlinewidth": 0,
             "tickcolor": "rgb(237,237,237)",
             "ticklen": 6,
             "ticks": "inside"
            },
            "type": "choropleth"
           }
          ],
          "contour": [
           {
            "colorbar": {
             "outlinewidth": 0,
             "tickcolor": "rgb(237,237,237)",
             "ticklen": 6,
             "ticks": "inside"
            },
            "colorscale": [
             [
              0,
              "rgb(20,44,66)"
             ],
             [
              1,
              "rgb(90,179,244)"
             ]
            ],
            "type": "contour"
           }
          ],
          "contourcarpet": [
           {
            "colorbar": {
             "outlinewidth": 0,
             "tickcolor": "rgb(237,237,237)",
             "ticklen": 6,
             "ticks": "inside"
            },
            "type": "contourcarpet"
           }
          ],
          "heatmap": [
           {
            "colorbar": {
             "outlinewidth": 0,
             "tickcolor": "rgb(237,237,237)",
             "ticklen": 6,
             "ticks": "inside"
            },
            "colorscale": [
             [
              0,
              "rgb(20,44,66)"
             ],
             [
              1,
              "rgb(90,179,244)"
             ]
            ],
            "type": "heatmap"
           }
          ],
          "heatmapgl": [
           {
            "colorbar": {
             "outlinewidth": 0,
             "tickcolor": "rgb(237,237,237)",
             "ticklen": 6,
             "ticks": "inside"
            },
            "colorscale": [
             [
              0,
              "rgb(20,44,66)"
             ],
             [
              1,
              "rgb(90,179,244)"
             ]
            ],
            "type": "heatmapgl"
           }
          ],
          "histogram": [
           {
            "marker": {
             "pattern": {
              "fillmode": "overlay",
              "size": 10,
              "solidity": 0.2
             }
            },
            "type": "histogram"
           }
          ],
          "histogram2d": [
           {
            "colorbar": {
             "outlinewidth": 0,
             "tickcolor": "rgb(237,237,237)",
             "ticklen": 6,
             "ticks": "inside"
            },
            "colorscale": [
             [
              0,
              "rgb(20,44,66)"
             ],
             [
              1,
              "rgb(90,179,244)"
             ]
            ],
            "type": "histogram2d"
           }
          ],
          "histogram2dcontour": [
           {
            "colorbar": {
             "outlinewidth": 0,
             "tickcolor": "rgb(237,237,237)",
             "ticklen": 6,
             "ticks": "inside"
            },
            "colorscale": [
             [
              0,
              "rgb(20,44,66)"
             ],
             [
              1,
              "rgb(90,179,244)"
             ]
            ],
            "type": "histogram2dcontour"
           }
          ],
          "mesh3d": [
           {
            "colorbar": {
             "outlinewidth": 0,
             "tickcolor": "rgb(237,237,237)",
             "ticklen": 6,
             "ticks": "inside"
            },
            "type": "mesh3d"
           }
          ],
          "parcoords": [
           {
            "line": {
             "colorbar": {
              "outlinewidth": 0,
              "tickcolor": "rgb(237,237,237)",
              "ticklen": 6,
              "ticks": "inside"
             }
            },
            "type": "parcoords"
           }
          ],
          "pie": [
           {
            "automargin": true,
            "type": "pie"
           }
          ],
          "scatter": [
           {
            "marker": {
             "colorbar": {
              "outlinewidth": 0,
              "tickcolor": "rgb(237,237,237)",
              "ticklen": 6,
              "ticks": "inside"
             }
            },
            "type": "scatter"
           }
          ],
          "scatter3d": [
           {
            "line": {
             "colorbar": {
              "outlinewidth": 0,
              "tickcolor": "rgb(237,237,237)",
              "ticklen": 6,
              "ticks": "inside"
             }
            },
            "marker": {
             "colorbar": {
              "outlinewidth": 0,
              "tickcolor": "rgb(237,237,237)",
              "ticklen": 6,
              "ticks": "inside"
             }
            },
            "type": "scatter3d"
           }
          ],
          "scattercarpet": [
           {
            "marker": {
             "colorbar": {
              "outlinewidth": 0,
              "tickcolor": "rgb(237,237,237)",
              "ticklen": 6,
              "ticks": "inside"
             }
            },
            "type": "scattercarpet"
           }
          ],
          "scattergeo": [
           {
            "marker": {
             "colorbar": {
              "outlinewidth": 0,
              "tickcolor": "rgb(237,237,237)",
              "ticklen": 6,
              "ticks": "inside"
             }
            },
            "type": "scattergeo"
           }
          ],
          "scattergl": [
           {
            "marker": {
             "colorbar": {
              "outlinewidth": 0,
              "tickcolor": "rgb(237,237,237)",
              "ticklen": 6,
              "ticks": "inside"
             }
            },
            "type": "scattergl"
           }
          ],
          "scattermapbox": [
           {
            "marker": {
             "colorbar": {
              "outlinewidth": 0,
              "tickcolor": "rgb(237,237,237)",
              "ticklen": 6,
              "ticks": "inside"
             }
            },
            "type": "scattermapbox"
           }
          ],
          "scatterpolar": [
           {
            "marker": {
             "colorbar": {
              "outlinewidth": 0,
              "tickcolor": "rgb(237,237,237)",
              "ticklen": 6,
              "ticks": "inside"
             }
            },
            "type": "scatterpolar"
           }
          ],
          "scatterpolargl": [
           {
            "marker": {
             "colorbar": {
              "outlinewidth": 0,
              "tickcolor": "rgb(237,237,237)",
              "ticklen": 6,
              "ticks": "inside"
             }
            },
            "type": "scatterpolargl"
           }
          ],
          "scatterternary": [
           {
            "marker": {
             "colorbar": {
              "outlinewidth": 0,
              "tickcolor": "rgb(237,237,237)",
              "ticklen": 6,
              "ticks": "inside"
             }
            },
            "type": "scatterternary"
           }
          ],
          "surface": [
           {
            "colorbar": {
             "outlinewidth": 0,
             "tickcolor": "rgb(237,237,237)",
             "ticklen": 6,
             "ticks": "inside"
            },
            "colorscale": [
             [
              0,
              "rgb(20,44,66)"
             ],
             [
              1,
              "rgb(90,179,244)"
             ]
            ],
            "type": "surface"
           }
          ],
          "table": [
           {
            "cells": {
             "fill": {
              "color": "rgb(237,237,237)"
             },
             "line": {
              "color": "white"
             }
            },
            "header": {
             "fill": {
              "color": "rgb(217,217,217)"
             },
             "line": {
              "color": "white"
             }
            },
            "type": "table"
           }
          ]
         },
         "layout": {
          "annotationdefaults": {
           "arrowhead": 0,
           "arrowwidth": 1
          },
          "autotypenumbers": "strict",
          "coloraxis": {
           "colorbar": {
            "outlinewidth": 0,
            "tickcolor": "rgb(237,237,237)",
            "ticklen": 6,
            "ticks": "inside"
           }
          },
          "colorscale": {
           "sequential": [
            [
             0,
             "rgb(20,44,66)"
            ],
            [
             1,
             "rgb(90,179,244)"
            ]
           ],
           "sequentialminus": [
            [
             0,
             "rgb(20,44,66)"
            ],
            [
             1,
             "rgb(90,179,244)"
            ]
           ]
          },
          "colorway": [
           "#F8766D",
           "#A3A500",
           "#00BF7D",
           "#00B0F6",
           "#E76BF3"
          ],
          "font": {
           "color": "rgb(51,51,51)"
          },
          "geo": {
           "bgcolor": "white",
           "lakecolor": "white",
           "landcolor": "rgb(237,237,237)",
           "showlakes": true,
           "showland": true,
           "subunitcolor": "white"
          },
          "hoverlabel": {
           "align": "left"
          },
          "hovermode": "closest",
          "paper_bgcolor": "white",
          "plot_bgcolor": "rgb(237,237,237)",
          "polar": {
           "angularaxis": {
            "gridcolor": "white",
            "linecolor": "white",
            "showgrid": true,
            "tickcolor": "rgb(51,51,51)",
            "ticks": "outside"
           },
           "bgcolor": "rgb(237,237,237)",
           "radialaxis": {
            "gridcolor": "white",
            "linecolor": "white",
            "showgrid": true,
            "tickcolor": "rgb(51,51,51)",
            "ticks": "outside"
           }
          },
          "scene": {
           "xaxis": {
            "backgroundcolor": "rgb(237,237,237)",
            "gridcolor": "white",
            "gridwidth": 2,
            "linecolor": "white",
            "showbackground": true,
            "showgrid": true,
            "tickcolor": "rgb(51,51,51)",
            "ticks": "outside",
            "zerolinecolor": "white"
           },
           "yaxis": {
            "backgroundcolor": "rgb(237,237,237)",
            "gridcolor": "white",
            "gridwidth": 2,
            "linecolor": "white",
            "showbackground": true,
            "showgrid": true,
            "tickcolor": "rgb(51,51,51)",
            "ticks": "outside",
            "zerolinecolor": "white"
           },
           "zaxis": {
            "backgroundcolor": "rgb(237,237,237)",
            "gridcolor": "white",
            "gridwidth": 2,
            "linecolor": "white",
            "showbackground": true,
            "showgrid": true,
            "tickcolor": "rgb(51,51,51)",
            "ticks": "outside",
            "zerolinecolor": "white"
           }
          },
          "shapedefaults": {
           "fillcolor": "black",
           "line": {
            "width": 0
           },
           "opacity": 0.3
          },
          "ternary": {
           "aaxis": {
            "gridcolor": "white",
            "linecolor": "white",
            "showgrid": true,
            "tickcolor": "rgb(51,51,51)",
            "ticks": "outside"
           },
           "baxis": {
            "gridcolor": "white",
            "linecolor": "white",
            "showgrid": true,
            "tickcolor": "rgb(51,51,51)",
            "ticks": "outside"
           },
           "bgcolor": "rgb(237,237,237)",
           "caxis": {
            "gridcolor": "white",
            "linecolor": "white",
            "showgrid": true,
            "tickcolor": "rgb(51,51,51)",
            "ticks": "outside"
           }
          },
          "xaxis": {
           "automargin": true,
           "gridcolor": "white",
           "linecolor": "white",
           "showgrid": true,
           "tickcolor": "rgb(51,51,51)",
           "ticks": "outside",
           "title": {
            "standoff": 15
           },
           "zerolinecolor": "white"
          },
          "yaxis": {
           "automargin": true,
           "gridcolor": "white",
           "linecolor": "white",
           "showgrid": true,
           "tickcolor": "rgb(51,51,51)",
           "ticks": "outside",
           "title": {
            "standoff": 15
           },
           "zerolinecolor": "white"
          }
         }
        },
        "width": 700,
        "xaxis": {
         "anchor": "y",
         "categoryarray": [
          "positive",
          "neutral",
          "negative"
         ],
         "categoryorder": "array",
         "domain": [
          0,
          0.31999999999999995
         ],
         "title": {
          "text": "Sentiment"
         }
        },
        "xaxis2": {
         "anchor": "y2",
         "categoryarray": [
          "positive",
          "neutral",
          "negative"
         ],
         "categoryorder": "array",
         "domain": [
          0.33999999999999997,
          0.6599999999999999
         ],
         "matches": "x",
         "title": {
          "text": "Sentiment"
         }
        },
        "xaxis3": {
         "anchor": "y3",
         "categoryarray": [
          "positive",
          "neutral",
          "negative"
         ],
         "categoryorder": "array",
         "domain": [
          0.6799999999999999,
          0.9999999999999999
         ],
         "matches": "x",
         "title": {
          "text": "Sentiment"
         }
        },
        "yaxis": {
         "anchor": "x",
         "domain": [
          0,
          1
         ],
         "title": {
          "text": "count"
         }
        },
        "yaxis2": {
         "anchor": "x2",
         "domain": [
          0,
          1
         ],
         "matches": "y",
         "showticklabels": false
        },
        "yaxis3": {
         "anchor": "x3",
         "domain": [
          0,
          1
         ],
         "matches": "y",
         "showticklabels": false
        }
       }
      },
      "text/html": [
       "<div>                            <div id=\"082a8aa9-86af-4555-9eb5-bd43999c9bee\" class=\"plotly-graph-div\" style=\"height:400px; width:700px;\"></div>            <script type=\"text/javascript\">                require([\"plotly\"], function(Plotly) {                    window.PLOTLYENV=window.PLOTLYENV || {};                                    if (document.getElementById(\"082a8aa9-86af-4555-9eb5-bd43999c9bee\")) {                    Plotly.newPlot(                        \"082a8aa9-86af-4555-9eb5-bd43999c9bee\",                        [{\"alignmentgroup\":\"True\",\"hovertemplate\":\"Sentiment=%{x}<br>Item=lock<br>count=%{y}<extra></extra>\",\"legendgroup\":\"positive\",\"marker\":{\"color\":\"#F8766D\",\"pattern\":{\"shape\":\"\"}},\"name\":\"positive\",\"offsetgroup\":\"positive\",\"orientation\":\"v\",\"showlegend\":true,\"textposition\":\"auto\",\"x\":[\"positive\",\"positive\",\"positive\",\"positive\",\"positive\",\"positive\",\"positive\",\"positive\",\"positive\",\"positive\",\"positive\",\"positive\",\"positive\",\"positive\",\"positive\",\"positive\",\"positive\",\"positive\",\"positive\",\"positive\",\"positive\",\"positive\",\"positive\",\"positive\",\"positive\",\"positive\",\"positive\",\"positive\",\"positive\",\"positive\",\"positive\",\"positive\",\"positive\",\"positive\",\"positive\",\"positive\",\"positive\",\"positive\",\"positive\",\"positive\",\"positive\",\"positive\",\"positive\",\"positive\",\"positive\",\"positive\",\"positive\",\"positive\"],\"xaxis\":\"x\",\"y\":[1,1,1,1,1,1,1,1,1,1,1,1,1,1,1,1,1,1,1,1,1,1,1,1,1,1,1,1,1,1,1,1,1,1,1,1,1,1,1,1,1,1,1,1,1,1,1,1],\"yaxis\":\"y\",\"type\":\"bar\"},{\"alignmentgroup\":\"True\",\"hovertemplate\":\"Sentiment=%{x}<br>Item=thermostat<br>count=%{y}<extra></extra>\",\"legendgroup\":\"positive\",\"marker\":{\"color\":\"#F8766D\",\"pattern\":{\"shape\":\"\"}},\"name\":\"positive\",\"offsetgroup\":\"positive\",\"orientation\":\"v\",\"showlegend\":false,\"textposition\":\"auto\",\"x\":[\"positive\",\"positive\",\"positive\",\"positive\",\"positive\",\"positive\",\"positive\",\"positive\",\"positive\",\"positive\",\"positive\",\"positive\",\"positive\",\"positive\",\"positive\",\"positive\",\"positive\",\"positive\",\"positive\",\"positive\",\"positive\",\"positive\",\"positive\",\"positive\",\"positive\",\"positive\",\"positive\",\"positive\",\"positive\",\"positive\",\"positive\",\"positive\",\"positive\",\"positive\",\"positive\",\"positive\",\"positive\",\"positive\",\"positive\",\"positive\",\"positive\",\"positive\",\"positive\",\"positive\",\"positive\",\"positive\",\"positive\",\"positive\",\"positive\",\"positive\",\"positive\",\"positive\"],\"xaxis\":\"x2\",\"y\":[1,1,1,1,1,1,1,1,1,1,1,1,1,1,1,1,1,1,1,1,1,1,1,1,1,1,1,1,1,1,1,1,1,1,1,1,1,1,1,1,1,1,1,1,1,1,1,1,1,1,1,1],\"yaxis\":\"y2\",\"type\":\"bar\"},{\"alignmentgroup\":\"True\",\"hovertemplate\":\"Sentiment=%{x}<br>Item=camera<br>count=%{y}<extra></extra>\",\"legendgroup\":\"positive\",\"marker\":{\"color\":\"#F8766D\",\"pattern\":{\"shape\":\"\"}},\"name\":\"positive\",\"offsetgroup\":\"positive\",\"orientation\":\"v\",\"showlegend\":false,\"textposition\":\"auto\",\"x\":[\"positive\",\"positive\",\"positive\",\"positive\",\"positive\",\"positive\",\"positive\",\"positive\",\"positive\",\"positive\",\"positive\",\"positive\",\"positive\",\"positive\",\"positive\",\"positive\",\"positive\",\"positive\",\"positive\",\"positive\",\"positive\",\"positive\",\"positive\",\"positive\",\"positive\",\"positive\",\"positive\",\"positive\",\"positive\",\"positive\",\"positive\",\"positive\",\"positive\",\"positive\",\"positive\",\"positive\",\"positive\",\"positive\",\"positive\",\"positive\",\"positive\",\"positive\",\"positive\",\"positive\",\"positive\",\"positive\",\"positive\",\"positive\",\"positive\",\"positive\",\"positive\",\"positive\",\"positive\",\"positive\"],\"xaxis\":\"x3\",\"y\":[1,1,1,1,1,1,1,1,1,1,1,1,1,1,1,1,1,1,1,1,1,1,1,1,1,1,1,1,1,1,1,1,1,1,1,1,1,1,1,1,1,1,1,1,1,1,1,1,1,1,1,1,1,1],\"yaxis\":\"y3\",\"type\":\"bar\"},{\"alignmentgroup\":\"True\",\"hovertemplate\":\"Sentiment=%{x}<br>Item=lock<br>count=%{y}<extra></extra>\",\"legendgroup\":\"neutral\",\"marker\":{\"color\":\"#A3A500\",\"pattern\":{\"shape\":\"\"}},\"name\":\"neutral\",\"offsetgroup\":\"neutral\",\"orientation\":\"v\",\"showlegend\":true,\"textposition\":\"auto\",\"x\":[\"neutral\",\"neutral\",\"neutral\",\"neutral\",\"neutral\",\"neutral\",\"neutral\",\"neutral\",\"neutral\",\"neutral\",\"neutral\",\"neutral\",\"neutral\",\"neutral\",\"neutral\",\"neutral\",\"neutral\",\"neutral\",\"neutral\",\"neutral\",\"neutral\",\"neutral\",\"neutral\",\"neutral\",\"neutral\",\"neutral\",\"neutral\",\"neutral\",\"neutral\",\"neutral\",\"neutral\",\"neutral\",\"neutral\"],\"xaxis\":\"x\",\"y\":[1,1,1,1,1,1,1,1,1,1,1,1,1,1,1,1,1,1,1,1,1,1,1,1,1,1,1,1,1,1,1,1,1],\"yaxis\":\"y\",\"type\":\"bar\"},{\"alignmentgroup\":\"True\",\"hovertemplate\":\"Sentiment=%{x}<br>Item=thermostat<br>count=%{y}<extra></extra>\",\"legendgroup\":\"neutral\",\"marker\":{\"color\":\"#A3A500\",\"pattern\":{\"shape\":\"\"}},\"name\":\"neutral\",\"offsetgroup\":\"neutral\",\"orientation\":\"v\",\"showlegend\":false,\"textposition\":\"auto\",\"x\":[\"neutral\",\"neutral\",\"neutral\",\"neutral\",\"neutral\",\"neutral\",\"neutral\",\"neutral\",\"neutral\",\"neutral\",\"neutral\",\"neutral\",\"neutral\",\"neutral\",\"neutral\",\"neutral\",\"neutral\",\"neutral\",\"neutral\",\"neutral\",\"neutral\",\"neutral\",\"neutral\",\"neutral\",\"neutral\",\"neutral\",\"neutral\",\"neutral\",\"neutral\",\"neutral\",\"neutral\",\"neutral\",\"neutral\",\"neutral\"],\"xaxis\":\"x2\",\"y\":[1,1,1,1,1,1,1,1,1,1,1,1,1,1,1,1,1,1,1,1,1,1,1,1,1,1,1,1,1,1,1,1,1,1],\"yaxis\":\"y2\",\"type\":\"bar\"},{\"alignmentgroup\":\"True\",\"hovertemplate\":\"Sentiment=%{x}<br>Item=camera<br>count=%{y}<extra></extra>\",\"legendgroup\":\"neutral\",\"marker\":{\"color\":\"#A3A500\",\"pattern\":{\"shape\":\"\"}},\"name\":\"neutral\",\"offsetgroup\":\"neutral\",\"orientation\":\"v\",\"showlegend\":false,\"textposition\":\"auto\",\"x\":[\"neutral\",\"neutral\",\"neutral\",\"neutral\",\"neutral\",\"neutral\",\"neutral\",\"neutral\",\"neutral\",\"neutral\",\"neutral\",\"neutral\",\"neutral\",\"neutral\",\"neutral\",\"neutral\",\"neutral\",\"neutral\",\"neutral\",\"neutral\",\"neutral\",\"neutral\",\"neutral\",\"neutral\",\"neutral\",\"neutral\",\"neutral\",\"neutral\"],\"xaxis\":\"x3\",\"y\":[1,1,1,1,1,1,1,1,1,1,1,1,1,1,1,1,1,1,1,1,1,1,1,1,1,1,1,1],\"yaxis\":\"y3\",\"type\":\"bar\"},{\"alignmentgroup\":\"True\",\"hovertemplate\":\"Sentiment=%{x}<br>Item=lock<br>count=%{y}<extra></extra>\",\"legendgroup\":\"negative\",\"marker\":{\"color\":\"#00BF7D\",\"pattern\":{\"shape\":\"\"}},\"name\":\"negative\",\"offsetgroup\":\"negative\",\"orientation\":\"v\",\"showlegend\":true,\"textposition\":\"auto\",\"x\":[\"negative\",\"negative\",\"negative\",\"negative\",\"negative\",\"negative\",\"negative\",\"negative\",\"negative\",\"negative\",\"negative\",\"negative\",\"negative\",\"negative\",\"negative\",\"negative\",\"negative\",\"negative\",\"negative\"],\"xaxis\":\"x\",\"y\":[1,1,1,1,1,1,1,1,1,1,1,1,1,1,1,1,1,1,1],\"yaxis\":\"y\",\"type\":\"bar\"},{\"alignmentgroup\":\"True\",\"hovertemplate\":\"Sentiment=%{x}<br>Item=thermostat<br>count=%{y}<extra></extra>\",\"legendgroup\":\"negative\",\"marker\":{\"color\":\"#00BF7D\",\"pattern\":{\"shape\":\"\"}},\"name\":\"negative\",\"offsetgroup\":\"negative\",\"orientation\":\"v\",\"showlegend\":false,\"textposition\":\"auto\",\"x\":[\"negative\",\"negative\",\"negative\",\"negative\",\"negative\",\"negative\",\"negative\",\"negative\",\"negative\",\"negative\",\"negative\",\"negative\",\"negative\",\"negative\"],\"xaxis\":\"x2\",\"y\":[1,1,1,1,1,1,1,1,1,1,1,1,1,1],\"yaxis\":\"y2\",\"type\":\"bar\"},{\"alignmentgroup\":\"True\",\"hovertemplate\":\"Sentiment=%{x}<br>Item=camera<br>count=%{y}<extra></extra>\",\"legendgroup\":\"negative\",\"marker\":{\"color\":\"#00BF7D\",\"pattern\":{\"shape\":\"\"}},\"name\":\"negative\",\"offsetgroup\":\"negative\",\"orientation\":\"v\",\"showlegend\":false,\"textposition\":\"auto\",\"x\":[\"negative\",\"negative\",\"negative\",\"negative\",\"negative\",\"negative\",\"negative\",\"negative\",\"negative\",\"negative\",\"negative\",\"negative\",\"negative\",\"negative\",\"negative\",\"negative\",\"negative\",\"negative\"],\"xaxis\":\"x3\",\"y\":[1,1,1,1,1,1,1,1,1,1,1,1,1,1,1,1,1,1],\"yaxis\":\"y3\",\"type\":\"bar\"}],                        {\"template\":{\"data\":{\"bar\":[{\"error_x\":{\"color\":\"rgb(51,51,51)\"},\"error_y\":{\"color\":\"rgb(51,51,51)\"},\"marker\":{\"line\":{\"color\":\"rgb(237,237,237)\",\"width\":0.5},\"pattern\":{\"fillmode\":\"overlay\",\"size\":10,\"solidity\":0.2}},\"type\":\"bar\"}],\"barpolar\":[{\"marker\":{\"line\":{\"color\":\"rgb(237,237,237)\",\"width\":0.5},\"pattern\":{\"fillmode\":\"overlay\",\"size\":10,\"solidity\":0.2}},\"type\":\"barpolar\"}],\"carpet\":[{\"aaxis\":{\"endlinecolor\":\"rgb(51,51,51)\",\"gridcolor\":\"white\",\"linecolor\":\"white\",\"minorgridcolor\":\"white\",\"startlinecolor\":\"rgb(51,51,51)\"},\"baxis\":{\"endlinecolor\":\"rgb(51,51,51)\",\"gridcolor\":\"white\",\"linecolor\":\"white\",\"minorgridcolor\":\"white\",\"startlinecolor\":\"rgb(51,51,51)\"},\"type\":\"carpet\"}],\"choropleth\":[{\"colorbar\":{\"outlinewidth\":0,\"tickcolor\":\"rgb(237,237,237)\",\"ticklen\":6,\"ticks\":\"inside\"},\"type\":\"choropleth\"}],\"contour\":[{\"colorbar\":{\"outlinewidth\":0,\"tickcolor\":\"rgb(237,237,237)\",\"ticklen\":6,\"ticks\":\"inside\"},\"colorscale\":[[0,\"rgb(20,44,66)\"],[1,\"rgb(90,179,244)\"]],\"type\":\"contour\"}],\"contourcarpet\":[{\"colorbar\":{\"outlinewidth\":0,\"tickcolor\":\"rgb(237,237,237)\",\"ticklen\":6,\"ticks\":\"inside\"},\"type\":\"contourcarpet\"}],\"heatmap\":[{\"colorbar\":{\"outlinewidth\":0,\"tickcolor\":\"rgb(237,237,237)\",\"ticklen\":6,\"ticks\":\"inside\"},\"colorscale\":[[0,\"rgb(20,44,66)\"],[1,\"rgb(90,179,244)\"]],\"type\":\"heatmap\"}],\"heatmapgl\":[{\"colorbar\":{\"outlinewidth\":0,\"tickcolor\":\"rgb(237,237,237)\",\"ticklen\":6,\"ticks\":\"inside\"},\"colorscale\":[[0,\"rgb(20,44,66)\"],[1,\"rgb(90,179,244)\"]],\"type\":\"heatmapgl\"}],\"histogram\":[{\"marker\":{\"pattern\":{\"fillmode\":\"overlay\",\"size\":10,\"solidity\":0.2}},\"type\":\"histogram\"}],\"histogram2d\":[{\"colorbar\":{\"outlinewidth\":0,\"tickcolor\":\"rgb(237,237,237)\",\"ticklen\":6,\"ticks\":\"inside\"},\"colorscale\":[[0,\"rgb(20,44,66)\"],[1,\"rgb(90,179,244)\"]],\"type\":\"histogram2d\"}],\"histogram2dcontour\":[{\"colorbar\":{\"outlinewidth\":0,\"tickcolor\":\"rgb(237,237,237)\",\"ticklen\":6,\"ticks\":\"inside\"},\"colorscale\":[[0,\"rgb(20,44,66)\"],[1,\"rgb(90,179,244)\"]],\"type\":\"histogram2dcontour\"}],\"mesh3d\":[{\"colorbar\":{\"outlinewidth\":0,\"tickcolor\":\"rgb(237,237,237)\",\"ticklen\":6,\"ticks\":\"inside\"},\"type\":\"mesh3d\"}],\"parcoords\":[{\"line\":{\"colorbar\":{\"outlinewidth\":0,\"tickcolor\":\"rgb(237,237,237)\",\"ticklen\":6,\"ticks\":\"inside\"}},\"type\":\"parcoords\"}],\"pie\":[{\"automargin\":true,\"type\":\"pie\"}],\"scatter\":[{\"marker\":{\"colorbar\":{\"outlinewidth\":0,\"tickcolor\":\"rgb(237,237,237)\",\"ticklen\":6,\"ticks\":\"inside\"}},\"type\":\"scatter\"}],\"scatter3d\":[{\"line\":{\"colorbar\":{\"outlinewidth\":0,\"tickcolor\":\"rgb(237,237,237)\",\"ticklen\":6,\"ticks\":\"inside\"}},\"marker\":{\"colorbar\":{\"outlinewidth\":0,\"tickcolor\":\"rgb(237,237,237)\",\"ticklen\":6,\"ticks\":\"inside\"}},\"type\":\"scatter3d\"}],\"scattercarpet\":[{\"marker\":{\"colorbar\":{\"outlinewidth\":0,\"tickcolor\":\"rgb(237,237,237)\",\"ticklen\":6,\"ticks\":\"inside\"}},\"type\":\"scattercarpet\"}],\"scattergeo\":[{\"marker\":{\"colorbar\":{\"outlinewidth\":0,\"tickcolor\":\"rgb(237,237,237)\",\"ticklen\":6,\"ticks\":\"inside\"}},\"type\":\"scattergeo\"}],\"scattergl\":[{\"marker\":{\"colorbar\":{\"outlinewidth\":0,\"tickcolor\":\"rgb(237,237,237)\",\"ticklen\":6,\"ticks\":\"inside\"}},\"type\":\"scattergl\"}],\"scattermapbox\":[{\"marker\":{\"colorbar\":{\"outlinewidth\":0,\"tickcolor\":\"rgb(237,237,237)\",\"ticklen\":6,\"ticks\":\"inside\"}},\"type\":\"scattermapbox\"}],\"scatterpolar\":[{\"marker\":{\"colorbar\":{\"outlinewidth\":0,\"tickcolor\":\"rgb(237,237,237)\",\"ticklen\":6,\"ticks\":\"inside\"}},\"type\":\"scatterpolar\"}],\"scatterpolargl\":[{\"marker\":{\"colorbar\":{\"outlinewidth\":0,\"tickcolor\":\"rgb(237,237,237)\",\"ticklen\":6,\"ticks\":\"inside\"}},\"type\":\"scatterpolargl\"}],\"scatterternary\":[{\"marker\":{\"colorbar\":{\"outlinewidth\":0,\"tickcolor\":\"rgb(237,237,237)\",\"ticklen\":6,\"ticks\":\"inside\"}},\"type\":\"scatterternary\"}],\"surface\":[{\"colorbar\":{\"outlinewidth\":0,\"tickcolor\":\"rgb(237,237,237)\",\"ticklen\":6,\"ticks\":\"inside\"},\"colorscale\":[[0,\"rgb(20,44,66)\"],[1,\"rgb(90,179,244)\"]],\"type\":\"surface\"}],\"table\":[{\"cells\":{\"fill\":{\"color\":\"rgb(237,237,237)\"},\"line\":{\"color\":\"white\"}},\"header\":{\"fill\":{\"color\":\"rgb(217,217,217)\"},\"line\":{\"color\":\"white\"}},\"type\":\"table\"}]},\"layout\":{\"annotationdefaults\":{\"arrowhead\":0,\"arrowwidth\":1},\"autotypenumbers\":\"strict\",\"coloraxis\":{\"colorbar\":{\"outlinewidth\":0,\"tickcolor\":\"rgb(237,237,237)\",\"ticklen\":6,\"ticks\":\"inside\"}},\"colorscale\":{\"sequential\":[[0,\"rgb(20,44,66)\"],[1,\"rgb(90,179,244)\"]],\"sequentialminus\":[[0,\"rgb(20,44,66)\"],[1,\"rgb(90,179,244)\"]]},\"colorway\":[\"#F8766D\",\"#A3A500\",\"#00BF7D\",\"#00B0F6\",\"#E76BF3\"],\"font\":{\"color\":\"rgb(51,51,51)\"},\"geo\":{\"bgcolor\":\"white\",\"lakecolor\":\"white\",\"landcolor\":\"rgb(237,237,237)\",\"showlakes\":true,\"showland\":true,\"subunitcolor\":\"white\"},\"hoverlabel\":{\"align\":\"left\"},\"hovermode\":\"closest\",\"paper_bgcolor\":\"white\",\"plot_bgcolor\":\"rgb(237,237,237)\",\"polar\":{\"angularaxis\":{\"gridcolor\":\"white\",\"linecolor\":\"white\",\"showgrid\":true,\"tickcolor\":\"rgb(51,51,51)\",\"ticks\":\"outside\"},\"bgcolor\":\"rgb(237,237,237)\",\"radialaxis\":{\"gridcolor\":\"white\",\"linecolor\":\"white\",\"showgrid\":true,\"tickcolor\":\"rgb(51,51,51)\",\"ticks\":\"outside\"}},\"scene\":{\"xaxis\":{\"backgroundcolor\":\"rgb(237,237,237)\",\"gridcolor\":\"white\",\"gridwidth\":2,\"linecolor\":\"white\",\"showbackground\":true,\"showgrid\":true,\"tickcolor\":\"rgb(51,51,51)\",\"ticks\":\"outside\",\"zerolinecolor\":\"white\"},\"yaxis\":{\"backgroundcolor\":\"rgb(237,237,237)\",\"gridcolor\":\"white\",\"gridwidth\":2,\"linecolor\":\"white\",\"showbackground\":true,\"showgrid\":true,\"tickcolor\":\"rgb(51,51,51)\",\"ticks\":\"outside\",\"zerolinecolor\":\"white\"},\"zaxis\":{\"backgroundcolor\":\"rgb(237,237,237)\",\"gridcolor\":\"white\",\"gridwidth\":2,\"linecolor\":\"white\",\"showbackground\":true,\"showgrid\":true,\"tickcolor\":\"rgb(51,51,51)\",\"ticks\":\"outside\",\"zerolinecolor\":\"white\"}},\"shapedefaults\":{\"fillcolor\":\"black\",\"line\":{\"width\":0},\"opacity\":0.3},\"ternary\":{\"aaxis\":{\"gridcolor\":\"white\",\"linecolor\":\"white\",\"showgrid\":true,\"tickcolor\":\"rgb(51,51,51)\",\"ticks\":\"outside\"},\"baxis\":{\"gridcolor\":\"white\",\"linecolor\":\"white\",\"showgrid\":true,\"tickcolor\":\"rgb(51,51,51)\",\"ticks\":\"outside\"},\"bgcolor\":\"rgb(237,237,237)\",\"caxis\":{\"gridcolor\":\"white\",\"linecolor\":\"white\",\"showgrid\":true,\"tickcolor\":\"rgb(51,51,51)\",\"ticks\":\"outside\"}},\"xaxis\":{\"automargin\":true,\"gridcolor\":\"white\",\"linecolor\":\"white\",\"showgrid\":true,\"tickcolor\":\"rgb(51,51,51)\",\"ticks\":\"outside\",\"title\":{\"standoff\":15},\"zerolinecolor\":\"white\"},\"yaxis\":{\"automargin\":true,\"gridcolor\":\"white\",\"linecolor\":\"white\",\"showgrid\":true,\"tickcolor\":\"rgb(51,51,51)\",\"ticks\":\"outside\",\"title\":{\"standoff\":15},\"zerolinecolor\":\"white\"}}},\"xaxis\":{\"anchor\":\"y\",\"domain\":[0.0,0.31999999999999995],\"title\":{\"text\":\"Sentiment\"},\"categoryorder\":\"array\",\"categoryarray\":[\"positive\",\"neutral\",\"negative\"]},\"yaxis\":{\"anchor\":\"x\",\"domain\":[0.0,1.0],\"title\":{\"text\":\"count\"}},\"xaxis2\":{\"anchor\":\"y2\",\"domain\":[0.33999999999999997,0.6599999999999999],\"matches\":\"x\",\"title\":{\"text\":\"Sentiment\"},\"categoryorder\":\"array\",\"categoryarray\":[\"positive\",\"neutral\",\"negative\"]},\"yaxis2\":{\"anchor\":\"x2\",\"domain\":[0.0,1.0],\"matches\":\"y\",\"showticklabels\":false},\"xaxis3\":{\"anchor\":\"y3\",\"domain\":[0.6799999999999999,0.9999999999999999],\"matches\":\"x\",\"title\":{\"text\":\"Sentiment\"},\"categoryorder\":\"array\",\"categoryarray\":[\"positive\",\"neutral\",\"negative\"]},\"yaxis3\":{\"anchor\":\"x3\",\"domain\":[0.0,1.0],\"matches\":\"y\",\"showticklabels\":false},\"annotations\":[{\"font\":{},\"showarrow\":false,\"text\":\"lock\",\"x\":0.15999999999999998,\"xanchor\":\"center\",\"xref\":\"paper\",\"y\":1.0,\"yanchor\":\"bottom\",\"yref\":\"paper\"},{\"font\":{},\"showarrow\":false,\"text\":\"thermostat\",\"x\":0.49999999999999994,\"xanchor\":\"center\",\"xref\":\"paper\",\"y\":1.0,\"yanchor\":\"bottom\",\"yref\":\"paper\"},{\"font\":{},\"showarrow\":false,\"text\":\"camera\",\"x\":0.8399999999999999,\"xanchor\":\"center\",\"xref\":\"paper\",\"y\":1.0,\"yanchor\":\"bottom\",\"yref\":\"paper\"}],\"legend\":{\"title\":{\"text\":\"Sentiment\"},\"tracegroupgap\":0},\"margin\":{\"t\":60},\"barmode\":\"relative\",\"height\":400,\"width\":700},                        {\"responsive\": true}                    ).then(function(){\n",
       "                            \n",
       "var gd = document.getElementById('082a8aa9-86af-4555-9eb5-bd43999c9bee');\n",
       "var x = new MutationObserver(function (mutations, observer) {{\n",
       "        var display = window.getComputedStyle(gd).display;\n",
       "        if (!display || display === 'none') {{\n",
       "            console.log([gd, 'removed!']);\n",
       "            Plotly.purge(gd);\n",
       "            observer.disconnect();\n",
       "        }}\n",
       "}});\n",
       "\n",
       "// Listen for the removal of the full notebook cells\n",
       "var notebookContainer = gd.closest('#notebook-container');\n",
       "if (notebookContainer) {{\n",
       "    x.observe(notebookContainer, {childList: true});\n",
       "}}\n",
       "\n",
       "// Listen for the clearing of the current output cell\n",
       "var outputEl = gd.closest('.output');\n",
       "if (outputEl) {{\n",
       "    x.observe(outputEl, {childList: true});\n",
       "}}\n",
       "\n",
       "                        })                };                });            </script>        </div>"
      ]
     },
     "metadata": {},
     "output_type": "display_data"
    }
   ],
   "source": [
    "sent = px.bar(data_frame=viz,\n",
    "              x=\"Sentiment\",\n",
    "              color=\"Sentiment\",\n",
    "              facet_col=\"Item\",\n",
    "              #title=\"Sentiment\",\n",
    "              width=700,\n",
    "              height=400)\n",
    "sent.for_each_annotation(lambda a: a.update(text=a.text.split(\"=\")[-1]))\n",
    "sent.show()"
   ]
  },
  {
   "cell_type": "code",
   "execution_count": 164,
   "id": "6fbbed75",
   "metadata": {},
   "outputs": [
    {
     "data": {
      "text/html": [
       "<style type=\"text/css\">\n",
       "#T_3a921_row0_col0 {\n",
       "  background-color: #bc141a;\n",
       "  color: #f1f1f1;\n",
       "}\n",
       "#T_3a921_row0_col1, #T_3a921_row1_col2, #T_3a921_row2_col0 {\n",
       "  background-color: #fff5f0;\n",
       "  color: #000000;\n",
       "}\n",
       "#T_3a921_row0_col2, #T_3a921_row1_col0, #T_3a921_row2_col1 {\n",
       "  background-color: #67000d;\n",
       "  color: #f1f1f1;\n",
       "}\n",
       "#T_3a921_row1_col1 {\n",
       "  background-color: #b11218;\n",
       "  color: #f1f1f1;\n",
       "}\n",
       "#T_3a921_row2_col2 {\n",
       "  background-color: #e32f27;\n",
       "  color: #f1f1f1;\n",
       "}\n",
       "</style>\n",
       "<table id=\"T_3a921_\">\n",
       "  <thead>\n",
       "    <tr>\n",
       "      <th class=\"index_name level0\" >Sentiment</th>\n",
       "      <th class=\"col_heading level0 col0\" >negative</th>\n",
       "      <th class=\"col_heading level0 col1\" >neutral</th>\n",
       "      <th class=\"col_heading level0 col2\" >positive</th>\n",
       "    </tr>\n",
       "    <tr>\n",
       "      <th class=\"index_name level0\" >Item</th>\n",
       "      <th class=\"blank col0\" >&nbsp;</th>\n",
       "      <th class=\"blank col1\" >&nbsp;</th>\n",
       "      <th class=\"blank col2\" >&nbsp;</th>\n",
       "    </tr>\n",
       "  </thead>\n",
       "  <tbody>\n",
       "    <tr>\n",
       "      <th id=\"T_3a921_level0_row0\" class=\"row_heading level0 row0\" >camera</th>\n",
       "      <td id=\"T_3a921_row0_col0\" class=\"data row0 col0\" >18</td>\n",
       "      <td id=\"T_3a921_row0_col1\" class=\"data row0 col1\" >28</td>\n",
       "      <td id=\"T_3a921_row0_col2\" class=\"data row0 col2\" >54</td>\n",
       "    </tr>\n",
       "    <tr>\n",
       "      <th id=\"T_3a921_level0_row1\" class=\"row_heading level0 row1\" >lock</th>\n",
       "      <td id=\"T_3a921_row1_col0\" class=\"data row1 col0\" >19</td>\n",
       "      <td id=\"T_3a921_row1_col1\" class=\"data row1 col1\" >33</td>\n",
       "      <td id=\"T_3a921_row1_col2\" class=\"data row1 col2\" >48</td>\n",
       "    </tr>\n",
       "    <tr>\n",
       "      <th id=\"T_3a921_level0_row2\" class=\"row_heading level0 row2\" >thermostat</th>\n",
       "      <td id=\"T_3a921_row2_col0\" class=\"data row2 col0\" >14</td>\n",
       "      <td id=\"T_3a921_row2_col1\" class=\"data row2 col1\" >34</td>\n",
       "      <td id=\"T_3a921_row2_col2\" class=\"data row2 col2\" >52</td>\n",
       "    </tr>\n",
       "  </tbody>\n",
       "</table>\n"
      ],
      "text/plain": [
       "<pandas.io.formats.style.Styler at 0x1c566e56f10>"
      ]
     },
     "execution_count": 164,
     "metadata": {},
     "output_type": "execute_result"
    }
   ],
   "source": [
    "group1 = viz.groupby([\"Item\", \"Sentiment\"]).Sentiment.count().unstack()\n",
    "group1.style.background_gradient(cmap='Reds')"
   ]
  },
  {
   "cell_type": "markdown",
   "id": "ecd1e443",
   "metadata": {},
   "source": [
    "**Insights:**\n",
    "- Most of our reviews are positive\n",
    "- Smart lock has the biggest number of negative reviews, so let' s closely investigate them. We are going to display 3 worst review for lock item"
   ]
  },
  {
   "cell_type": "code",
   "execution_count": 165,
   "id": "7becb473",
   "metadata": {},
   "outputs": [
    {
     "data": {
      "text/html": [
       "<div>\n",
       "<style scoped>\n",
       "    .dataframe tbody tr th:only-of-type {\n",
       "        vertical-align: middle;\n",
       "    }\n",
       "\n",
       "    .dataframe tbody tr th {\n",
       "        vertical-align: top;\n",
       "    }\n",
       "\n",
       "    .dataframe thead th {\n",
       "        text-align: right;\n",
       "    }\n",
       "</style>\n",
       "<table border=\"1\" class=\"dataframe\">\n",
       "  <thead>\n",
       "    <tr style=\"text-align: right;\">\n",
       "      <th></th>\n",
       "      <th>Title</th>\n",
       "      <th>Text</th>\n",
       "      <th>Subj_Obj</th>\n",
       "    </tr>\n",
       "  </thead>\n",
       "  <tbody>\n",
       "    <tr>\n",
       "      <th>94</th>\n",
       "      <td>Consumes Batteries Very Quickly</td>\n",
       "      <td>I would have given this lock a 5 star but this thing goes through batteries like crazy. I have to locks and they each use at least one battery every 30 days. The lock that gets the most use may be less that 30 days. This may not seem to be a lot but a 12 pack of batteries cost $26. So you have a $4 plus dollars a month maintenance fee per lock. Very disappointed.</td>\n",
       "      <td>normal</td>\n",
       "    </tr>\n",
       "    <tr>\n",
       "      <th>15</th>\n",
       "      <td>Did not work Poor quality app and packaging (Time waste)</td>\n",
       "      <td>The lock was not able to connect with the app. There is no troubleshooting or support instructions given. The packaging and app also indicates poor quality. Packaging is hard to unpack, and app interface is very couter-intuitive. At minimum the app should have a support number if it does not work. App simply hangs and does not do anything. A poor quality product trying to act like high-tech. It just makes you waste a few hours trying to get it working. Returned.</td>\n",
       "      <td>objective</td>\n",
       "    </tr>\n",
       "    <tr>\n",
       "      <th>82</th>\n",
       "      <td>Waste of money</td>\n",
       "      <td>While the lock works well, I have lots of issues waiting for auto unlock to work.  I typically wind up using my key to open the door instead of it being open when I get to it.I requested a replacement but they said it's a software issue.  I find hard to believe as my son has two and doesn't encounter problems which was why i bought it.  I have the same phone and software version he has so i find it hard to believe it's a software issue..Also, beware as the batteries only last about 3 months and you don't want to buy locally as they are expensive.  Order from Amazon, a lot cheaper considering I'll be going through 8 a year.Thoroughly frustrated and had thought of buying a second one, but won't waste a penny on another one.</td>\n",
       "      <td>normal</td>\n",
       "    </tr>\n",
       "  </tbody>\n",
       "</table>\n",
       "</div>"
      ],
      "text/plain": [
       "                                                       Title  \\\n",
       "94                           Consumes Batteries Very Quickly   \n",
       "15  Did not work Poor quality app and packaging (Time waste)   \n",
       "82                                            Waste of money   \n",
       "\n",
       "                                                                                                                                                                                                                                                                                                                                                                                                                                                                                                                                                                                                                                                                                                                                                             Text  \\\n",
       "94                                                                                                                                                                                                                                                                                                                                                                                  I would have given this lock a 5 star but this thing goes through batteries like crazy. I have to locks and they each use at least one battery every 30 days. The lock that gets the most use may be less that 30 days. This may not seem to be a lot but a 12 pack of batteries cost $26. So you have a $4 plus dollars a month maintenance fee per lock. Very disappointed.   \n",
       "15                                                                                                                                                                                                                                                                             The lock was not able to connect with the app. There is no troubleshooting or support instructions given. The packaging and app also indicates poor quality. Packaging is hard to unpack, and app interface is very couter-intuitive. At minimum the app should have a support number if it does not work. App simply hangs and does not do anything. A poor quality product trying to act like high-tech. It just makes you waste a few hours trying to get it working. Returned.   \n",
       "82    While the lock works well, I have lots of issues waiting for auto unlock to work.  I typically wind up using my key to open the door instead of it being open when I get to it.I requested a replacement but they said it's a software issue.  I find hard to believe as my son has two and doesn't encounter problems which was why i bought it.  I have the same phone and software version he has so i find it hard to believe it's a software issue..Also, beware as the batteries only last about 3 months and you don't want to buy locally as they are expensive.  Order from Amazon, a lot cheaper considering I'll be going through 8 a year.Thoroughly frustrated and had thought of buying a second one, but won't waste a penny on another one.   \n",
       "\n",
       "     Subj_Obj  \n",
       "94     normal  \n",
       "15  objective  \n",
       "82     normal  "
      ]
     },
     "execution_count": 165,
     "metadata": {},
     "output_type": "execute_result"
    }
   ],
   "source": [
    "viz[viz.Item == \"lock\"].sort_values(by=\"Polarity\", ascending=True).head(3)[[\"Title\",\"Text\",\"Subj_Obj\"]]"
   ]
  },
  {
   "cell_type": "markdown",
   "id": "2026b560",
   "metadata": {},
   "source": [
    "**Insights:**\n",
    "- Negative reviews can be sometimes highly subjective. Let' s examine how subjective are our negative reviews\n",
    "- 0 : highly objective\n",
    "- 1 : highly subjective"
   ]
  },
  {
   "cell_type": "code",
   "execution_count": 166,
   "id": "54582321",
   "metadata": {},
   "outputs": [],
   "source": [
    "negative = viz[viz.Sentiment == \"negative\"]"
   ]
  },
  {
   "cell_type": "code",
   "execution_count": 167,
   "id": "f1cf2f5d",
   "metadata": {},
   "outputs": [
    {
     "data": {
      "application/vnd.plotly.v1+json": {
       "config": {
        "plotlyServerURL": "https://plot.ly"
       },
       "data": [
        {
         "alignmentgroup": "True",
         "hovertemplate": "Subjectivity=%{x}<extra></extra>",
         "legendgroup": "",
         "marker": {
          "color": "#F8766D"
         },
         "name": "",
         "notched": false,
         "offsetgroup": "",
         "orientation": "h",
         "showlegend": false,
         "type": "box",
         "x": [
          0.5104285714285715,
          0.3904761904761905,
          0.6666666666666666,
          0.2847402597402598,
          0.5384920634920635,
          0.3742857142857142,
          0.31626984126984126,
          0.45044063079777363,
          0.40010673234811167,
          0.5516666666666666,
          0.5510416666666668,
          0.63,
          0.6300000000000001,
          0.24444444444444446,
          0.1980392156862745,
          0.40535714285714286,
          0.2846031746031746,
          0.5683333333333334,
          0.5690476190476191,
          0.5102092352092352,
          0.6738095238095237,
          0.2972222222222223,
          0.4089253883371531,
          0.3702020202020202,
          0.45793650793650803,
          0.46377380952380953,
          0.4523065476190476,
          0.8541666666666666,
          0.542228835978836,
          0.5222857142857142,
          0.39374999999999993,
          0.4785714285714286,
          0.5137755102040816,
          0.3733333333333333,
          1,
          0.7857142857142857,
          0.7511363636363636,
          0.4875,
          0.4442307692307692,
          0.18333333333333335,
          0.48863636363636365,
          0.6666666666666666,
          0.48496503496503485,
          0.6111111111111112,
          0.47291666666666665,
          0.476,
          0.4305555555555556,
          0.30056818181818185,
          0.5116402116402116,
          0.32499999999999996,
          0.47134502923976607
         ],
         "x0": " ",
         "xaxis": "x",
         "y0": " ",
         "yaxis": "y"
        }
       ],
       "layout": {
        "boxmode": "group",
        "height": 300,
        "legend": {
         "tracegroupgap": 0
        },
        "template": {
         "data": {
          "bar": [
           {
            "error_x": {
             "color": "rgb(51,51,51)"
            },
            "error_y": {
             "color": "rgb(51,51,51)"
            },
            "marker": {
             "line": {
              "color": "rgb(237,237,237)",
              "width": 0.5
             },
             "pattern": {
              "fillmode": "overlay",
              "size": 10,
              "solidity": 0.2
             }
            },
            "type": "bar"
           }
          ],
          "barpolar": [
           {
            "marker": {
             "line": {
              "color": "rgb(237,237,237)",
              "width": 0.5
             },
             "pattern": {
              "fillmode": "overlay",
              "size": 10,
              "solidity": 0.2
             }
            },
            "type": "barpolar"
           }
          ],
          "carpet": [
           {
            "aaxis": {
             "endlinecolor": "rgb(51,51,51)",
             "gridcolor": "white",
             "linecolor": "white",
             "minorgridcolor": "white",
             "startlinecolor": "rgb(51,51,51)"
            },
            "baxis": {
             "endlinecolor": "rgb(51,51,51)",
             "gridcolor": "white",
             "linecolor": "white",
             "minorgridcolor": "white",
             "startlinecolor": "rgb(51,51,51)"
            },
            "type": "carpet"
           }
          ],
          "choropleth": [
           {
            "colorbar": {
             "outlinewidth": 0,
             "tickcolor": "rgb(237,237,237)",
             "ticklen": 6,
             "ticks": "inside"
            },
            "type": "choropleth"
           }
          ],
          "contour": [
           {
            "colorbar": {
             "outlinewidth": 0,
             "tickcolor": "rgb(237,237,237)",
             "ticklen": 6,
             "ticks": "inside"
            },
            "colorscale": [
             [
              0,
              "rgb(20,44,66)"
             ],
             [
              1,
              "rgb(90,179,244)"
             ]
            ],
            "type": "contour"
           }
          ],
          "contourcarpet": [
           {
            "colorbar": {
             "outlinewidth": 0,
             "tickcolor": "rgb(237,237,237)",
             "ticklen": 6,
             "ticks": "inside"
            },
            "type": "contourcarpet"
           }
          ],
          "heatmap": [
           {
            "colorbar": {
             "outlinewidth": 0,
             "tickcolor": "rgb(237,237,237)",
             "ticklen": 6,
             "ticks": "inside"
            },
            "colorscale": [
             [
              0,
              "rgb(20,44,66)"
             ],
             [
              1,
              "rgb(90,179,244)"
             ]
            ],
            "type": "heatmap"
           }
          ],
          "heatmapgl": [
           {
            "colorbar": {
             "outlinewidth": 0,
             "tickcolor": "rgb(237,237,237)",
             "ticklen": 6,
             "ticks": "inside"
            },
            "colorscale": [
             [
              0,
              "rgb(20,44,66)"
             ],
             [
              1,
              "rgb(90,179,244)"
             ]
            ],
            "type": "heatmapgl"
           }
          ],
          "histogram": [
           {
            "marker": {
             "pattern": {
              "fillmode": "overlay",
              "size": 10,
              "solidity": 0.2
             }
            },
            "type": "histogram"
           }
          ],
          "histogram2d": [
           {
            "colorbar": {
             "outlinewidth": 0,
             "tickcolor": "rgb(237,237,237)",
             "ticklen": 6,
             "ticks": "inside"
            },
            "colorscale": [
             [
              0,
              "rgb(20,44,66)"
             ],
             [
              1,
              "rgb(90,179,244)"
             ]
            ],
            "type": "histogram2d"
           }
          ],
          "histogram2dcontour": [
           {
            "colorbar": {
             "outlinewidth": 0,
             "tickcolor": "rgb(237,237,237)",
             "ticklen": 6,
             "ticks": "inside"
            },
            "colorscale": [
             [
              0,
              "rgb(20,44,66)"
             ],
             [
              1,
              "rgb(90,179,244)"
             ]
            ],
            "type": "histogram2dcontour"
           }
          ],
          "mesh3d": [
           {
            "colorbar": {
             "outlinewidth": 0,
             "tickcolor": "rgb(237,237,237)",
             "ticklen": 6,
             "ticks": "inside"
            },
            "type": "mesh3d"
           }
          ],
          "parcoords": [
           {
            "line": {
             "colorbar": {
              "outlinewidth": 0,
              "tickcolor": "rgb(237,237,237)",
              "ticklen": 6,
              "ticks": "inside"
             }
            },
            "type": "parcoords"
           }
          ],
          "pie": [
           {
            "automargin": true,
            "type": "pie"
           }
          ],
          "scatter": [
           {
            "marker": {
             "colorbar": {
              "outlinewidth": 0,
              "tickcolor": "rgb(237,237,237)",
              "ticklen": 6,
              "ticks": "inside"
             }
            },
            "type": "scatter"
           }
          ],
          "scatter3d": [
           {
            "line": {
             "colorbar": {
              "outlinewidth": 0,
              "tickcolor": "rgb(237,237,237)",
              "ticklen": 6,
              "ticks": "inside"
             }
            },
            "marker": {
             "colorbar": {
              "outlinewidth": 0,
              "tickcolor": "rgb(237,237,237)",
              "ticklen": 6,
              "ticks": "inside"
             }
            },
            "type": "scatter3d"
           }
          ],
          "scattercarpet": [
           {
            "marker": {
             "colorbar": {
              "outlinewidth": 0,
              "tickcolor": "rgb(237,237,237)",
              "ticklen": 6,
              "ticks": "inside"
             }
            },
            "type": "scattercarpet"
           }
          ],
          "scattergeo": [
           {
            "marker": {
             "colorbar": {
              "outlinewidth": 0,
              "tickcolor": "rgb(237,237,237)",
              "ticklen": 6,
              "ticks": "inside"
             }
            },
            "type": "scattergeo"
           }
          ],
          "scattergl": [
           {
            "marker": {
             "colorbar": {
              "outlinewidth": 0,
              "tickcolor": "rgb(237,237,237)",
              "ticklen": 6,
              "ticks": "inside"
             }
            },
            "type": "scattergl"
           }
          ],
          "scattermapbox": [
           {
            "marker": {
             "colorbar": {
              "outlinewidth": 0,
              "tickcolor": "rgb(237,237,237)",
              "ticklen": 6,
              "ticks": "inside"
             }
            },
            "type": "scattermapbox"
           }
          ],
          "scatterpolar": [
           {
            "marker": {
             "colorbar": {
              "outlinewidth": 0,
              "tickcolor": "rgb(237,237,237)",
              "ticklen": 6,
              "ticks": "inside"
             }
            },
            "type": "scatterpolar"
           }
          ],
          "scatterpolargl": [
           {
            "marker": {
             "colorbar": {
              "outlinewidth": 0,
              "tickcolor": "rgb(237,237,237)",
              "ticklen": 6,
              "ticks": "inside"
             }
            },
            "type": "scatterpolargl"
           }
          ],
          "scatterternary": [
           {
            "marker": {
             "colorbar": {
              "outlinewidth": 0,
              "tickcolor": "rgb(237,237,237)",
              "ticklen": 6,
              "ticks": "inside"
             }
            },
            "type": "scatterternary"
           }
          ],
          "surface": [
           {
            "colorbar": {
             "outlinewidth": 0,
             "tickcolor": "rgb(237,237,237)",
             "ticklen": 6,
             "ticks": "inside"
            },
            "colorscale": [
             [
              0,
              "rgb(20,44,66)"
             ],
             [
              1,
              "rgb(90,179,244)"
             ]
            ],
            "type": "surface"
           }
          ],
          "table": [
           {
            "cells": {
             "fill": {
              "color": "rgb(237,237,237)"
             },
             "line": {
              "color": "white"
             }
            },
            "header": {
             "fill": {
              "color": "rgb(217,217,217)"
             },
             "line": {
              "color": "white"
             }
            },
            "type": "table"
           }
          ]
         },
         "layout": {
          "annotationdefaults": {
           "arrowhead": 0,
           "arrowwidth": 1
          },
          "autotypenumbers": "strict",
          "coloraxis": {
           "colorbar": {
            "outlinewidth": 0,
            "tickcolor": "rgb(237,237,237)",
            "ticklen": 6,
            "ticks": "inside"
           }
          },
          "colorscale": {
           "sequential": [
            [
             0,
             "rgb(20,44,66)"
            ],
            [
             1,
             "rgb(90,179,244)"
            ]
           ],
           "sequentialminus": [
            [
             0,
             "rgb(20,44,66)"
            ],
            [
             1,
             "rgb(90,179,244)"
            ]
           ]
          },
          "colorway": [
           "#F8766D",
           "#A3A500",
           "#00BF7D",
           "#00B0F6",
           "#E76BF3"
          ],
          "font": {
           "color": "rgb(51,51,51)"
          },
          "geo": {
           "bgcolor": "white",
           "lakecolor": "white",
           "landcolor": "rgb(237,237,237)",
           "showlakes": true,
           "showland": true,
           "subunitcolor": "white"
          },
          "hoverlabel": {
           "align": "left"
          },
          "hovermode": "closest",
          "paper_bgcolor": "white",
          "plot_bgcolor": "rgb(237,237,237)",
          "polar": {
           "angularaxis": {
            "gridcolor": "white",
            "linecolor": "white",
            "showgrid": true,
            "tickcolor": "rgb(51,51,51)",
            "ticks": "outside"
           },
           "bgcolor": "rgb(237,237,237)",
           "radialaxis": {
            "gridcolor": "white",
            "linecolor": "white",
            "showgrid": true,
            "tickcolor": "rgb(51,51,51)",
            "ticks": "outside"
           }
          },
          "scene": {
           "xaxis": {
            "backgroundcolor": "rgb(237,237,237)",
            "gridcolor": "white",
            "gridwidth": 2,
            "linecolor": "white",
            "showbackground": true,
            "showgrid": true,
            "tickcolor": "rgb(51,51,51)",
            "ticks": "outside",
            "zerolinecolor": "white"
           },
           "yaxis": {
            "backgroundcolor": "rgb(237,237,237)",
            "gridcolor": "white",
            "gridwidth": 2,
            "linecolor": "white",
            "showbackground": true,
            "showgrid": true,
            "tickcolor": "rgb(51,51,51)",
            "ticks": "outside",
            "zerolinecolor": "white"
           },
           "zaxis": {
            "backgroundcolor": "rgb(237,237,237)",
            "gridcolor": "white",
            "gridwidth": 2,
            "linecolor": "white",
            "showbackground": true,
            "showgrid": true,
            "tickcolor": "rgb(51,51,51)",
            "ticks": "outside",
            "zerolinecolor": "white"
           }
          },
          "shapedefaults": {
           "fillcolor": "black",
           "line": {
            "width": 0
           },
           "opacity": 0.3
          },
          "ternary": {
           "aaxis": {
            "gridcolor": "white",
            "linecolor": "white",
            "showgrid": true,
            "tickcolor": "rgb(51,51,51)",
            "ticks": "outside"
           },
           "baxis": {
            "gridcolor": "white",
            "linecolor": "white",
            "showgrid": true,
            "tickcolor": "rgb(51,51,51)",
            "ticks": "outside"
           },
           "bgcolor": "rgb(237,237,237)",
           "caxis": {
            "gridcolor": "white",
            "linecolor": "white",
            "showgrid": true,
            "tickcolor": "rgb(51,51,51)",
            "ticks": "outside"
           }
          },
          "xaxis": {
           "automargin": true,
           "gridcolor": "white",
           "linecolor": "white",
           "showgrid": true,
           "tickcolor": "rgb(51,51,51)",
           "ticks": "outside",
           "title": {
            "standoff": 15
           },
           "zerolinecolor": "white"
          },
          "yaxis": {
           "automargin": true,
           "gridcolor": "white",
           "linecolor": "white",
           "showgrid": true,
           "tickcolor": "rgb(51,51,51)",
           "ticks": "outside",
           "title": {
            "standoff": 15
           },
           "zerolinecolor": "white"
          }
         }
        },
        "title": {
         "text": "Distribution of subjectivity of negative reviews"
        },
        "width": 700,
        "xaxis": {
         "anchor": "y",
         "domain": [
          0,
          1
         ],
         "title": {
          "text": "Subjectivity"
         }
        },
        "yaxis": {
         "anchor": "x",
         "domain": [
          0,
          1
         ]
        }
       }
      },
      "text/html": [
       "<div>                            <div id=\"9a740669-467d-4093-84c0-0727170260b8\" class=\"plotly-graph-div\" style=\"height:300px; width:700px;\"></div>            <script type=\"text/javascript\">                require([\"plotly\"], function(Plotly) {                    window.PLOTLYENV=window.PLOTLYENV || {};                                    if (document.getElementById(\"9a740669-467d-4093-84c0-0727170260b8\")) {                    Plotly.newPlot(                        \"9a740669-467d-4093-84c0-0727170260b8\",                        [{\"alignmentgroup\":\"True\",\"hovertemplate\":\"Subjectivity=%{x}<extra></extra>\",\"legendgroup\":\"\",\"marker\":{\"color\":\"#F8766D\"},\"name\":\"\",\"notched\":false,\"offsetgroup\":\"\",\"orientation\":\"h\",\"showlegend\":false,\"x\":[0.5104285714285715,0.3904761904761905,0.6666666666666666,0.2847402597402598,0.5384920634920635,0.3742857142857142,0.31626984126984126,0.45044063079777363,0.40010673234811167,0.5516666666666666,0.5510416666666668,0.63,0.6300000000000001,0.24444444444444446,0.1980392156862745,0.40535714285714286,0.2846031746031746,0.5683333333333334,0.5690476190476191,0.5102092352092352,0.6738095238095237,0.2972222222222223,0.4089253883371531,0.3702020202020202,0.45793650793650803,0.46377380952380953,0.4523065476190476,0.8541666666666666,0.542228835978836,0.5222857142857142,0.39374999999999993,0.4785714285714286,0.5137755102040816,0.3733333333333333,1.0,0.7857142857142857,0.7511363636363636,0.4875,0.4442307692307692,0.18333333333333335,0.48863636363636365,0.6666666666666666,0.48496503496503485,0.6111111111111112,0.47291666666666665,0.476,0.4305555555555556,0.30056818181818185,0.5116402116402116,0.32499999999999996,0.47134502923976607],\"x0\":\" \",\"xaxis\":\"x\",\"y0\":\" \",\"yaxis\":\"y\",\"type\":\"box\"}],                        {\"template\":{\"data\":{\"bar\":[{\"error_x\":{\"color\":\"rgb(51,51,51)\"},\"error_y\":{\"color\":\"rgb(51,51,51)\"},\"marker\":{\"line\":{\"color\":\"rgb(237,237,237)\",\"width\":0.5},\"pattern\":{\"fillmode\":\"overlay\",\"size\":10,\"solidity\":0.2}},\"type\":\"bar\"}],\"barpolar\":[{\"marker\":{\"line\":{\"color\":\"rgb(237,237,237)\",\"width\":0.5},\"pattern\":{\"fillmode\":\"overlay\",\"size\":10,\"solidity\":0.2}},\"type\":\"barpolar\"}],\"carpet\":[{\"aaxis\":{\"endlinecolor\":\"rgb(51,51,51)\",\"gridcolor\":\"white\",\"linecolor\":\"white\",\"minorgridcolor\":\"white\",\"startlinecolor\":\"rgb(51,51,51)\"},\"baxis\":{\"endlinecolor\":\"rgb(51,51,51)\",\"gridcolor\":\"white\",\"linecolor\":\"white\",\"minorgridcolor\":\"white\",\"startlinecolor\":\"rgb(51,51,51)\"},\"type\":\"carpet\"}],\"choropleth\":[{\"colorbar\":{\"outlinewidth\":0,\"tickcolor\":\"rgb(237,237,237)\",\"ticklen\":6,\"ticks\":\"inside\"},\"type\":\"choropleth\"}],\"contour\":[{\"colorbar\":{\"outlinewidth\":0,\"tickcolor\":\"rgb(237,237,237)\",\"ticklen\":6,\"ticks\":\"inside\"},\"colorscale\":[[0,\"rgb(20,44,66)\"],[1,\"rgb(90,179,244)\"]],\"type\":\"contour\"}],\"contourcarpet\":[{\"colorbar\":{\"outlinewidth\":0,\"tickcolor\":\"rgb(237,237,237)\",\"ticklen\":6,\"ticks\":\"inside\"},\"type\":\"contourcarpet\"}],\"heatmap\":[{\"colorbar\":{\"outlinewidth\":0,\"tickcolor\":\"rgb(237,237,237)\",\"ticklen\":6,\"ticks\":\"inside\"},\"colorscale\":[[0,\"rgb(20,44,66)\"],[1,\"rgb(90,179,244)\"]],\"type\":\"heatmap\"}],\"heatmapgl\":[{\"colorbar\":{\"outlinewidth\":0,\"tickcolor\":\"rgb(237,237,237)\",\"ticklen\":6,\"ticks\":\"inside\"},\"colorscale\":[[0,\"rgb(20,44,66)\"],[1,\"rgb(90,179,244)\"]],\"type\":\"heatmapgl\"}],\"histogram\":[{\"marker\":{\"pattern\":{\"fillmode\":\"overlay\",\"size\":10,\"solidity\":0.2}},\"type\":\"histogram\"}],\"histogram2d\":[{\"colorbar\":{\"outlinewidth\":0,\"tickcolor\":\"rgb(237,237,237)\",\"ticklen\":6,\"ticks\":\"inside\"},\"colorscale\":[[0,\"rgb(20,44,66)\"],[1,\"rgb(90,179,244)\"]],\"type\":\"histogram2d\"}],\"histogram2dcontour\":[{\"colorbar\":{\"outlinewidth\":0,\"tickcolor\":\"rgb(237,237,237)\",\"ticklen\":6,\"ticks\":\"inside\"},\"colorscale\":[[0,\"rgb(20,44,66)\"],[1,\"rgb(90,179,244)\"]],\"type\":\"histogram2dcontour\"}],\"mesh3d\":[{\"colorbar\":{\"outlinewidth\":0,\"tickcolor\":\"rgb(237,237,237)\",\"ticklen\":6,\"ticks\":\"inside\"},\"type\":\"mesh3d\"}],\"parcoords\":[{\"line\":{\"colorbar\":{\"outlinewidth\":0,\"tickcolor\":\"rgb(237,237,237)\",\"ticklen\":6,\"ticks\":\"inside\"}},\"type\":\"parcoords\"}],\"pie\":[{\"automargin\":true,\"type\":\"pie\"}],\"scatter\":[{\"marker\":{\"colorbar\":{\"outlinewidth\":0,\"tickcolor\":\"rgb(237,237,237)\",\"ticklen\":6,\"ticks\":\"inside\"}},\"type\":\"scatter\"}],\"scatter3d\":[{\"line\":{\"colorbar\":{\"outlinewidth\":0,\"tickcolor\":\"rgb(237,237,237)\",\"ticklen\":6,\"ticks\":\"inside\"}},\"marker\":{\"colorbar\":{\"outlinewidth\":0,\"tickcolor\":\"rgb(237,237,237)\",\"ticklen\":6,\"ticks\":\"inside\"}},\"type\":\"scatter3d\"}],\"scattercarpet\":[{\"marker\":{\"colorbar\":{\"outlinewidth\":0,\"tickcolor\":\"rgb(237,237,237)\",\"ticklen\":6,\"ticks\":\"inside\"}},\"type\":\"scattercarpet\"}],\"scattergeo\":[{\"marker\":{\"colorbar\":{\"outlinewidth\":0,\"tickcolor\":\"rgb(237,237,237)\",\"ticklen\":6,\"ticks\":\"inside\"}},\"type\":\"scattergeo\"}],\"scattergl\":[{\"marker\":{\"colorbar\":{\"outlinewidth\":0,\"tickcolor\":\"rgb(237,237,237)\",\"ticklen\":6,\"ticks\":\"inside\"}},\"type\":\"scattergl\"}],\"scattermapbox\":[{\"marker\":{\"colorbar\":{\"outlinewidth\":0,\"tickcolor\":\"rgb(237,237,237)\",\"ticklen\":6,\"ticks\":\"inside\"}},\"type\":\"scattermapbox\"}],\"scatterpolar\":[{\"marker\":{\"colorbar\":{\"outlinewidth\":0,\"tickcolor\":\"rgb(237,237,237)\",\"ticklen\":6,\"ticks\":\"inside\"}},\"type\":\"scatterpolar\"}],\"scatterpolargl\":[{\"marker\":{\"colorbar\":{\"outlinewidth\":0,\"tickcolor\":\"rgb(237,237,237)\",\"ticklen\":6,\"ticks\":\"inside\"}},\"type\":\"scatterpolargl\"}],\"scatterternary\":[{\"marker\":{\"colorbar\":{\"outlinewidth\":0,\"tickcolor\":\"rgb(237,237,237)\",\"ticklen\":6,\"ticks\":\"inside\"}},\"type\":\"scatterternary\"}],\"surface\":[{\"colorbar\":{\"outlinewidth\":0,\"tickcolor\":\"rgb(237,237,237)\",\"ticklen\":6,\"ticks\":\"inside\"},\"colorscale\":[[0,\"rgb(20,44,66)\"],[1,\"rgb(90,179,244)\"]],\"type\":\"surface\"}],\"table\":[{\"cells\":{\"fill\":{\"color\":\"rgb(237,237,237)\"},\"line\":{\"color\":\"white\"}},\"header\":{\"fill\":{\"color\":\"rgb(217,217,217)\"},\"line\":{\"color\":\"white\"}},\"type\":\"table\"}]},\"layout\":{\"annotationdefaults\":{\"arrowhead\":0,\"arrowwidth\":1},\"autotypenumbers\":\"strict\",\"coloraxis\":{\"colorbar\":{\"outlinewidth\":0,\"tickcolor\":\"rgb(237,237,237)\",\"ticklen\":6,\"ticks\":\"inside\"}},\"colorscale\":{\"sequential\":[[0,\"rgb(20,44,66)\"],[1,\"rgb(90,179,244)\"]],\"sequentialminus\":[[0,\"rgb(20,44,66)\"],[1,\"rgb(90,179,244)\"]]},\"colorway\":[\"#F8766D\",\"#A3A500\",\"#00BF7D\",\"#00B0F6\",\"#E76BF3\"],\"font\":{\"color\":\"rgb(51,51,51)\"},\"geo\":{\"bgcolor\":\"white\",\"lakecolor\":\"white\",\"landcolor\":\"rgb(237,237,237)\",\"showlakes\":true,\"showland\":true,\"subunitcolor\":\"white\"},\"hoverlabel\":{\"align\":\"left\"},\"hovermode\":\"closest\",\"paper_bgcolor\":\"white\",\"plot_bgcolor\":\"rgb(237,237,237)\",\"polar\":{\"angularaxis\":{\"gridcolor\":\"white\",\"linecolor\":\"white\",\"showgrid\":true,\"tickcolor\":\"rgb(51,51,51)\",\"ticks\":\"outside\"},\"bgcolor\":\"rgb(237,237,237)\",\"radialaxis\":{\"gridcolor\":\"white\",\"linecolor\":\"white\",\"showgrid\":true,\"tickcolor\":\"rgb(51,51,51)\",\"ticks\":\"outside\"}},\"scene\":{\"xaxis\":{\"backgroundcolor\":\"rgb(237,237,237)\",\"gridcolor\":\"white\",\"gridwidth\":2,\"linecolor\":\"white\",\"showbackground\":true,\"showgrid\":true,\"tickcolor\":\"rgb(51,51,51)\",\"ticks\":\"outside\",\"zerolinecolor\":\"white\"},\"yaxis\":{\"backgroundcolor\":\"rgb(237,237,237)\",\"gridcolor\":\"white\",\"gridwidth\":2,\"linecolor\":\"white\",\"showbackground\":true,\"showgrid\":true,\"tickcolor\":\"rgb(51,51,51)\",\"ticks\":\"outside\",\"zerolinecolor\":\"white\"},\"zaxis\":{\"backgroundcolor\":\"rgb(237,237,237)\",\"gridcolor\":\"white\",\"gridwidth\":2,\"linecolor\":\"white\",\"showbackground\":true,\"showgrid\":true,\"tickcolor\":\"rgb(51,51,51)\",\"ticks\":\"outside\",\"zerolinecolor\":\"white\"}},\"shapedefaults\":{\"fillcolor\":\"black\",\"line\":{\"width\":0},\"opacity\":0.3},\"ternary\":{\"aaxis\":{\"gridcolor\":\"white\",\"linecolor\":\"white\",\"showgrid\":true,\"tickcolor\":\"rgb(51,51,51)\",\"ticks\":\"outside\"},\"baxis\":{\"gridcolor\":\"white\",\"linecolor\":\"white\",\"showgrid\":true,\"tickcolor\":\"rgb(51,51,51)\",\"ticks\":\"outside\"},\"bgcolor\":\"rgb(237,237,237)\",\"caxis\":{\"gridcolor\":\"white\",\"linecolor\":\"white\",\"showgrid\":true,\"tickcolor\":\"rgb(51,51,51)\",\"ticks\":\"outside\"}},\"xaxis\":{\"automargin\":true,\"gridcolor\":\"white\",\"linecolor\":\"white\",\"showgrid\":true,\"tickcolor\":\"rgb(51,51,51)\",\"ticks\":\"outside\",\"title\":{\"standoff\":15},\"zerolinecolor\":\"white\"},\"yaxis\":{\"automargin\":true,\"gridcolor\":\"white\",\"linecolor\":\"white\",\"showgrid\":true,\"tickcolor\":\"rgb(51,51,51)\",\"ticks\":\"outside\",\"title\":{\"standoff\":15},\"zerolinecolor\":\"white\"}}},\"xaxis\":{\"anchor\":\"y\",\"domain\":[0.0,1.0],\"title\":{\"text\":\"Subjectivity\"}},\"yaxis\":{\"anchor\":\"x\",\"domain\":[0.0,1.0]},\"legend\":{\"tracegroupgap\":0},\"title\":{\"text\":\"Distribution of subjectivity of negative reviews\"},\"boxmode\":\"group\",\"height\":300,\"width\":700},                        {\"responsive\": true}                    ).then(function(){\n",
       "                            \n",
       "var gd = document.getElementById('9a740669-467d-4093-84c0-0727170260b8');\n",
       "var x = new MutationObserver(function (mutations, observer) {{\n",
       "        var display = window.getComputedStyle(gd).display;\n",
       "        if (!display || display === 'none') {{\n",
       "            console.log([gd, 'removed!']);\n",
       "            Plotly.purge(gd);\n",
       "            observer.disconnect();\n",
       "        }}\n",
       "}});\n",
       "\n",
       "// Listen for the removal of the full notebook cells\n",
       "var notebookContainer = gd.closest('#notebook-container');\n",
       "if (notebookContainer) {{\n",
       "    x.observe(notebookContainer, {childList: true});\n",
       "}}\n",
       "\n",
       "// Listen for the clearing of the current output cell\n",
       "var outputEl = gd.closest('.output');\n",
       "if (outputEl) {{\n",
       "    x.observe(outputEl, {childList: true});\n",
       "}}\n",
       "\n",
       "                        })                };                });            </script>        </div>"
      ]
     },
     "metadata": {},
     "output_type": "display_data"
    }
   ],
   "source": [
    "subj = px.box(data_frame=negative,\n",
    "              x=\"Subjectivity\",\n",
    "              title=\"Distribution of subjectivity of negative reviews\",\n",
    "              width=700,\n",
    "              height=300)\n",
    "\n",
    "subj.show()"
   ]
  },
  {
   "cell_type": "markdown",
   "id": "8d01ee1b",
   "metadata": {},
   "source": [
    "**Insights:**\n",
    "- Majority of our negative reviews range between 0.39 and 0.55\n",
    "- The subjectivity is somewhere in the middle. We should definitely pay close attention to negative reviews"
   ]
  },
  {
   "cell_type": "markdown",
   "id": "cf1da034",
   "metadata": {},
   "source": [
    "<a id=\"10\"></a>\n",
    "## Ratings analysis"
   ]
  },
  {
   "cell_type": "code",
   "execution_count": 168,
   "id": "cc6ebf00",
   "metadata": {},
   "outputs": [],
   "source": [
    "viz.Rating = viz.Rating.astype(\"string\")"
   ]
  },
  {
   "cell_type": "code",
   "execution_count": 169,
   "id": "5f32a569",
   "metadata": {},
   "outputs": [],
   "source": [
    "ratings = viz.groupby([\"Item\",\"Rating\"]).agg(count=(\"Text\",\"count\")).reset_index()"
   ]
  },
  {
   "cell_type": "code",
   "execution_count": 170,
   "id": "4c4fc799",
   "metadata": {},
   "outputs": [
    {
     "data": {
      "application/vnd.plotly.v1+json": {
       "config": {
        "plotlyServerURL": "https://plot.ly"
       },
       "data": [
        {
         "alignmentgroup": "True",
         "hovertemplate": "Rating=%{x}<br>Item=camera<br>count=%{y}<extra></extra>",
         "legendgroup": "1.0",
         "marker": {
          "color": "#F8766D",
          "pattern": {
           "shape": ""
          }
         },
         "name": "1.0",
         "offsetgroup": "1.0",
         "orientation": "v",
         "showlegend": true,
         "textposition": "auto",
         "type": "bar",
         "x": [
          "1.0"
         ],
         "xaxis": "x",
         "y": [
          48
         ],
         "yaxis": "y"
        },
        {
         "alignmentgroup": "True",
         "hovertemplate": "Rating=%{x}<br>Item=lock<br>count=%{y}<extra></extra>",
         "legendgroup": "1.0",
         "marker": {
          "color": "#F8766D",
          "pattern": {
           "shape": ""
          }
         },
         "name": "1.0",
         "offsetgroup": "1.0",
         "orientation": "v",
         "showlegend": false,
         "textposition": "auto",
         "type": "bar",
         "x": [
          "1.0"
         ],
         "xaxis": "x2",
         "y": [
          43
         ],
         "yaxis": "y2"
        },
        {
         "alignmentgroup": "True",
         "hovertemplate": "Rating=%{x}<br>Item=thermostat<br>count=%{y}<extra></extra>",
         "legendgroup": "1.0",
         "marker": {
          "color": "#F8766D",
          "pattern": {
           "shape": ""
          }
         },
         "name": "1.0",
         "offsetgroup": "1.0",
         "orientation": "v",
         "showlegend": false,
         "textposition": "auto",
         "type": "bar",
         "x": [
          "1.0"
         ],
         "xaxis": "x3",
         "y": [
          23
         ],
         "yaxis": "y3"
        },
        {
         "alignmentgroup": "True",
         "hovertemplate": "Rating=%{x}<br>Item=camera<br>count=%{y}<extra></extra>",
         "legendgroup": "2.0",
         "marker": {
          "color": "#A3A500",
          "pattern": {
           "shape": ""
          }
         },
         "name": "2.0",
         "offsetgroup": "2.0",
         "orientation": "v",
         "showlegend": true,
         "textposition": "auto",
         "type": "bar",
         "x": [
          "2.0"
         ],
         "xaxis": "x",
         "y": [
          8
         ],
         "yaxis": "y"
        },
        {
         "alignmentgroup": "True",
         "hovertemplate": "Rating=%{x}<br>Item=lock<br>count=%{y}<extra></extra>",
         "legendgroup": "2.0",
         "marker": {
          "color": "#A3A500",
          "pattern": {
           "shape": ""
          }
         },
         "name": "2.0",
         "offsetgroup": "2.0",
         "orientation": "v",
         "showlegend": false,
         "textposition": "auto",
         "type": "bar",
         "x": [
          "2.0"
         ],
         "xaxis": "x2",
         "y": [
          11
         ],
         "yaxis": "y2"
        },
        {
         "alignmentgroup": "True",
         "hovertemplate": "Rating=%{x}<br>Item=thermostat<br>count=%{y}<extra></extra>",
         "legendgroup": "2.0",
         "marker": {
          "color": "#A3A500",
          "pattern": {
           "shape": ""
          }
         },
         "name": "2.0",
         "offsetgroup": "2.0",
         "orientation": "v",
         "showlegend": false,
         "textposition": "auto",
         "type": "bar",
         "x": [
          "2.0"
         ],
         "xaxis": "x3",
         "y": [
          12
         ],
         "yaxis": "y3"
        },
        {
         "alignmentgroup": "True",
         "hovertemplate": "Rating=%{x}<br>Item=camera<br>count=%{y}<extra></extra>",
         "legendgroup": "3.0",
         "marker": {
          "color": "#00BF7D",
          "pattern": {
           "shape": ""
          }
         },
         "name": "3.0",
         "offsetgroup": "3.0",
         "orientation": "v",
         "showlegend": true,
         "textposition": "auto",
         "type": "bar",
         "x": [
          "3.0"
         ],
         "xaxis": "x",
         "y": [
          13
         ],
         "yaxis": "y"
        },
        {
         "alignmentgroup": "True",
         "hovertemplate": "Rating=%{x}<br>Item=lock<br>count=%{y}<extra></extra>",
         "legendgroup": "3.0",
         "marker": {
          "color": "#00BF7D",
          "pattern": {
           "shape": ""
          }
         },
         "name": "3.0",
         "offsetgroup": "3.0",
         "orientation": "v",
         "showlegend": false,
         "textposition": "auto",
         "type": "bar",
         "x": [
          "3.0"
         ],
         "xaxis": "x2",
         "y": [
          13
         ],
         "yaxis": "y2"
        },
        {
         "alignmentgroup": "True",
         "hovertemplate": "Rating=%{x}<br>Item=thermostat<br>count=%{y}<extra></extra>",
         "legendgroup": "3.0",
         "marker": {
          "color": "#00BF7D",
          "pattern": {
           "shape": ""
          }
         },
         "name": "3.0",
         "offsetgroup": "3.0",
         "orientation": "v",
         "showlegend": false,
         "textposition": "auto",
         "type": "bar",
         "x": [
          "3.0"
         ],
         "xaxis": "x3",
         "y": [
          15
         ],
         "yaxis": "y3"
        },
        {
         "alignmentgroup": "True",
         "hovertemplate": "Rating=%{x}<br>Item=camera<br>count=%{y}<extra></extra>",
         "legendgroup": "4.0",
         "marker": {
          "color": "#00B0F6",
          "pattern": {
           "shape": ""
          }
         },
         "name": "4.0",
         "offsetgroup": "4.0",
         "orientation": "v",
         "showlegend": true,
         "textposition": "auto",
         "type": "bar",
         "x": [
          "4.0"
         ],
         "xaxis": "x",
         "y": [
          7
         ],
         "yaxis": "y"
        },
        {
         "alignmentgroup": "True",
         "hovertemplate": "Rating=%{x}<br>Item=lock<br>count=%{y}<extra></extra>",
         "legendgroup": "4.0",
         "marker": {
          "color": "#00B0F6",
          "pattern": {
           "shape": ""
          }
         },
         "name": "4.0",
         "offsetgroup": "4.0",
         "orientation": "v",
         "showlegend": false,
         "textposition": "auto",
         "type": "bar",
         "x": [
          "4.0"
         ],
         "xaxis": "x2",
         "y": [
          10
         ],
         "yaxis": "y2"
        },
        {
         "alignmentgroup": "True",
         "hovertemplate": "Rating=%{x}<br>Item=thermostat<br>count=%{y}<extra></extra>",
         "legendgroup": "4.0",
         "marker": {
          "color": "#00B0F6",
          "pattern": {
           "shape": ""
          }
         },
         "name": "4.0",
         "offsetgroup": "4.0",
         "orientation": "v",
         "showlegend": false,
         "textposition": "auto",
         "type": "bar",
         "x": [
          "4.0"
         ],
         "xaxis": "x3",
         "y": [
          18
         ],
         "yaxis": "y3"
        },
        {
         "alignmentgroup": "True",
         "hovertemplate": "Rating=%{x}<br>Item=camera<br>count=%{y}<extra></extra>",
         "legendgroup": "5.0",
         "marker": {
          "color": "#E76BF3",
          "pattern": {
           "shape": ""
          }
         },
         "name": "5.0",
         "offsetgroup": "5.0",
         "orientation": "v",
         "showlegend": true,
         "textposition": "auto",
         "type": "bar",
         "x": [
          "5.0"
         ],
         "xaxis": "x",
         "y": [
          17
         ],
         "yaxis": "y"
        },
        {
         "alignmentgroup": "True",
         "hovertemplate": "Rating=%{x}<br>Item=lock<br>count=%{y}<extra></extra>",
         "legendgroup": "5.0",
         "marker": {
          "color": "#E76BF3",
          "pattern": {
           "shape": ""
          }
         },
         "name": "5.0",
         "offsetgroup": "5.0",
         "orientation": "v",
         "showlegend": false,
         "textposition": "auto",
         "type": "bar",
         "x": [
          "5.0"
         ],
         "xaxis": "x2",
         "y": [
          22
         ],
         "yaxis": "y2"
        },
        {
         "alignmentgroup": "True",
         "hovertemplate": "Rating=%{x}<br>Item=thermostat<br>count=%{y}<extra></extra>",
         "legendgroup": "5.0",
         "marker": {
          "color": "#E76BF3",
          "pattern": {
           "shape": ""
          }
         },
         "name": "5.0",
         "offsetgroup": "5.0",
         "orientation": "v",
         "showlegend": false,
         "textposition": "auto",
         "type": "bar",
         "x": [
          "5.0"
         ],
         "xaxis": "x3",
         "y": [
          27
         ],
         "yaxis": "y3"
        }
       ],
       "layout": {
        "annotations": [
         {
          "font": {},
          "showarrow": false,
          "text": "camera",
          "x": 0.15999999999999998,
          "xanchor": "center",
          "xref": "paper",
          "y": 1,
          "yanchor": "bottom",
          "yref": "paper"
         },
         {
          "font": {},
          "showarrow": false,
          "text": "lock",
          "x": 0.49999999999999994,
          "xanchor": "center",
          "xref": "paper",
          "y": 1,
          "yanchor": "bottom",
          "yref": "paper"
         },
         {
          "font": {},
          "showarrow": false,
          "text": "thermostat",
          "x": 0.8399999999999999,
          "xanchor": "center",
          "xref": "paper",
          "y": 1,
          "yanchor": "bottom",
          "yref": "paper"
         }
        ],
        "barmode": "relative",
        "height": 400,
        "legend": {
         "title": {
          "text": "Rating"
         },
         "tracegroupgap": 0
        },
        "template": {
         "data": {
          "bar": [
           {
            "error_x": {
             "color": "rgb(51,51,51)"
            },
            "error_y": {
             "color": "rgb(51,51,51)"
            },
            "marker": {
             "line": {
              "color": "rgb(237,237,237)",
              "width": 0.5
             },
             "pattern": {
              "fillmode": "overlay",
              "size": 10,
              "solidity": 0.2
             }
            },
            "type": "bar"
           }
          ],
          "barpolar": [
           {
            "marker": {
             "line": {
              "color": "rgb(237,237,237)",
              "width": 0.5
             },
             "pattern": {
              "fillmode": "overlay",
              "size": 10,
              "solidity": 0.2
             }
            },
            "type": "barpolar"
           }
          ],
          "carpet": [
           {
            "aaxis": {
             "endlinecolor": "rgb(51,51,51)",
             "gridcolor": "white",
             "linecolor": "white",
             "minorgridcolor": "white",
             "startlinecolor": "rgb(51,51,51)"
            },
            "baxis": {
             "endlinecolor": "rgb(51,51,51)",
             "gridcolor": "white",
             "linecolor": "white",
             "minorgridcolor": "white",
             "startlinecolor": "rgb(51,51,51)"
            },
            "type": "carpet"
           }
          ],
          "choropleth": [
           {
            "colorbar": {
             "outlinewidth": 0,
             "tickcolor": "rgb(237,237,237)",
             "ticklen": 6,
             "ticks": "inside"
            },
            "type": "choropleth"
           }
          ],
          "contour": [
           {
            "colorbar": {
             "outlinewidth": 0,
             "tickcolor": "rgb(237,237,237)",
             "ticklen": 6,
             "ticks": "inside"
            },
            "colorscale": [
             [
              0,
              "rgb(20,44,66)"
             ],
             [
              1,
              "rgb(90,179,244)"
             ]
            ],
            "type": "contour"
           }
          ],
          "contourcarpet": [
           {
            "colorbar": {
             "outlinewidth": 0,
             "tickcolor": "rgb(237,237,237)",
             "ticklen": 6,
             "ticks": "inside"
            },
            "type": "contourcarpet"
           }
          ],
          "heatmap": [
           {
            "colorbar": {
             "outlinewidth": 0,
             "tickcolor": "rgb(237,237,237)",
             "ticklen": 6,
             "ticks": "inside"
            },
            "colorscale": [
             [
              0,
              "rgb(20,44,66)"
             ],
             [
              1,
              "rgb(90,179,244)"
             ]
            ],
            "type": "heatmap"
           }
          ],
          "heatmapgl": [
           {
            "colorbar": {
             "outlinewidth": 0,
             "tickcolor": "rgb(237,237,237)",
             "ticklen": 6,
             "ticks": "inside"
            },
            "colorscale": [
             [
              0,
              "rgb(20,44,66)"
             ],
             [
              1,
              "rgb(90,179,244)"
             ]
            ],
            "type": "heatmapgl"
           }
          ],
          "histogram": [
           {
            "marker": {
             "pattern": {
              "fillmode": "overlay",
              "size": 10,
              "solidity": 0.2
             }
            },
            "type": "histogram"
           }
          ],
          "histogram2d": [
           {
            "colorbar": {
             "outlinewidth": 0,
             "tickcolor": "rgb(237,237,237)",
             "ticklen": 6,
             "ticks": "inside"
            },
            "colorscale": [
             [
              0,
              "rgb(20,44,66)"
             ],
             [
              1,
              "rgb(90,179,244)"
             ]
            ],
            "type": "histogram2d"
           }
          ],
          "histogram2dcontour": [
           {
            "colorbar": {
             "outlinewidth": 0,
             "tickcolor": "rgb(237,237,237)",
             "ticklen": 6,
             "ticks": "inside"
            },
            "colorscale": [
             [
              0,
              "rgb(20,44,66)"
             ],
             [
              1,
              "rgb(90,179,244)"
             ]
            ],
            "type": "histogram2dcontour"
           }
          ],
          "mesh3d": [
           {
            "colorbar": {
             "outlinewidth": 0,
             "tickcolor": "rgb(237,237,237)",
             "ticklen": 6,
             "ticks": "inside"
            },
            "type": "mesh3d"
           }
          ],
          "parcoords": [
           {
            "line": {
             "colorbar": {
              "outlinewidth": 0,
              "tickcolor": "rgb(237,237,237)",
              "ticklen": 6,
              "ticks": "inside"
             }
            },
            "type": "parcoords"
           }
          ],
          "pie": [
           {
            "automargin": true,
            "type": "pie"
           }
          ],
          "scatter": [
           {
            "marker": {
             "colorbar": {
              "outlinewidth": 0,
              "tickcolor": "rgb(237,237,237)",
              "ticklen": 6,
              "ticks": "inside"
             }
            },
            "type": "scatter"
           }
          ],
          "scatter3d": [
           {
            "line": {
             "colorbar": {
              "outlinewidth": 0,
              "tickcolor": "rgb(237,237,237)",
              "ticklen": 6,
              "ticks": "inside"
             }
            },
            "marker": {
             "colorbar": {
              "outlinewidth": 0,
              "tickcolor": "rgb(237,237,237)",
              "ticklen": 6,
              "ticks": "inside"
             }
            },
            "type": "scatter3d"
           }
          ],
          "scattercarpet": [
           {
            "marker": {
             "colorbar": {
              "outlinewidth": 0,
              "tickcolor": "rgb(237,237,237)",
              "ticklen": 6,
              "ticks": "inside"
             }
            },
            "type": "scattercarpet"
           }
          ],
          "scattergeo": [
           {
            "marker": {
             "colorbar": {
              "outlinewidth": 0,
              "tickcolor": "rgb(237,237,237)",
              "ticklen": 6,
              "ticks": "inside"
             }
            },
            "type": "scattergeo"
           }
          ],
          "scattergl": [
           {
            "marker": {
             "colorbar": {
              "outlinewidth": 0,
              "tickcolor": "rgb(237,237,237)",
              "ticklen": 6,
              "ticks": "inside"
             }
            },
            "type": "scattergl"
           }
          ],
          "scattermapbox": [
           {
            "marker": {
             "colorbar": {
              "outlinewidth": 0,
              "tickcolor": "rgb(237,237,237)",
              "ticklen": 6,
              "ticks": "inside"
             }
            },
            "type": "scattermapbox"
           }
          ],
          "scatterpolar": [
           {
            "marker": {
             "colorbar": {
              "outlinewidth": 0,
              "tickcolor": "rgb(237,237,237)",
              "ticklen": 6,
              "ticks": "inside"
             }
            },
            "type": "scatterpolar"
           }
          ],
          "scatterpolargl": [
           {
            "marker": {
             "colorbar": {
              "outlinewidth": 0,
              "tickcolor": "rgb(237,237,237)",
              "ticklen": 6,
              "ticks": "inside"
             }
            },
            "type": "scatterpolargl"
           }
          ],
          "scatterternary": [
           {
            "marker": {
             "colorbar": {
              "outlinewidth": 0,
              "tickcolor": "rgb(237,237,237)",
              "ticklen": 6,
              "ticks": "inside"
             }
            },
            "type": "scatterternary"
           }
          ],
          "surface": [
           {
            "colorbar": {
             "outlinewidth": 0,
             "tickcolor": "rgb(237,237,237)",
             "ticklen": 6,
             "ticks": "inside"
            },
            "colorscale": [
             [
              0,
              "rgb(20,44,66)"
             ],
             [
              1,
              "rgb(90,179,244)"
             ]
            ],
            "type": "surface"
           }
          ],
          "table": [
           {
            "cells": {
             "fill": {
              "color": "rgb(237,237,237)"
             },
             "line": {
              "color": "white"
             }
            },
            "header": {
             "fill": {
              "color": "rgb(217,217,217)"
             },
             "line": {
              "color": "white"
             }
            },
            "type": "table"
           }
          ]
         },
         "layout": {
          "annotationdefaults": {
           "arrowhead": 0,
           "arrowwidth": 1
          },
          "autotypenumbers": "strict",
          "coloraxis": {
           "colorbar": {
            "outlinewidth": 0,
            "tickcolor": "rgb(237,237,237)",
            "ticklen": 6,
            "ticks": "inside"
           }
          },
          "colorscale": {
           "sequential": [
            [
             0,
             "rgb(20,44,66)"
            ],
            [
             1,
             "rgb(90,179,244)"
            ]
           ],
           "sequentialminus": [
            [
             0,
             "rgb(20,44,66)"
            ],
            [
             1,
             "rgb(90,179,244)"
            ]
           ]
          },
          "colorway": [
           "#F8766D",
           "#A3A500",
           "#00BF7D",
           "#00B0F6",
           "#E76BF3"
          ],
          "font": {
           "color": "rgb(51,51,51)"
          },
          "geo": {
           "bgcolor": "white",
           "lakecolor": "white",
           "landcolor": "rgb(237,237,237)",
           "showlakes": true,
           "showland": true,
           "subunitcolor": "white"
          },
          "hoverlabel": {
           "align": "left"
          },
          "hovermode": "closest",
          "paper_bgcolor": "white",
          "plot_bgcolor": "rgb(237,237,237)",
          "polar": {
           "angularaxis": {
            "gridcolor": "white",
            "linecolor": "white",
            "showgrid": true,
            "tickcolor": "rgb(51,51,51)",
            "ticks": "outside"
           },
           "bgcolor": "rgb(237,237,237)",
           "radialaxis": {
            "gridcolor": "white",
            "linecolor": "white",
            "showgrid": true,
            "tickcolor": "rgb(51,51,51)",
            "ticks": "outside"
           }
          },
          "scene": {
           "xaxis": {
            "backgroundcolor": "rgb(237,237,237)",
            "gridcolor": "white",
            "gridwidth": 2,
            "linecolor": "white",
            "showbackground": true,
            "showgrid": true,
            "tickcolor": "rgb(51,51,51)",
            "ticks": "outside",
            "zerolinecolor": "white"
           },
           "yaxis": {
            "backgroundcolor": "rgb(237,237,237)",
            "gridcolor": "white",
            "gridwidth": 2,
            "linecolor": "white",
            "showbackground": true,
            "showgrid": true,
            "tickcolor": "rgb(51,51,51)",
            "ticks": "outside",
            "zerolinecolor": "white"
           },
           "zaxis": {
            "backgroundcolor": "rgb(237,237,237)",
            "gridcolor": "white",
            "gridwidth": 2,
            "linecolor": "white",
            "showbackground": true,
            "showgrid": true,
            "tickcolor": "rgb(51,51,51)",
            "ticks": "outside",
            "zerolinecolor": "white"
           }
          },
          "shapedefaults": {
           "fillcolor": "black",
           "line": {
            "width": 0
           },
           "opacity": 0.3
          },
          "ternary": {
           "aaxis": {
            "gridcolor": "white",
            "linecolor": "white",
            "showgrid": true,
            "tickcolor": "rgb(51,51,51)",
            "ticks": "outside"
           },
           "baxis": {
            "gridcolor": "white",
            "linecolor": "white",
            "showgrid": true,
            "tickcolor": "rgb(51,51,51)",
            "ticks": "outside"
           },
           "bgcolor": "rgb(237,237,237)",
           "caxis": {
            "gridcolor": "white",
            "linecolor": "white",
            "showgrid": true,
            "tickcolor": "rgb(51,51,51)",
            "ticks": "outside"
           }
          },
          "xaxis": {
           "automargin": true,
           "gridcolor": "white",
           "linecolor": "white",
           "showgrid": true,
           "tickcolor": "rgb(51,51,51)",
           "ticks": "outside",
           "title": {
            "standoff": 15
           },
           "zerolinecolor": "white"
          },
          "yaxis": {
           "automargin": true,
           "gridcolor": "white",
           "linecolor": "white",
           "showgrid": true,
           "tickcolor": "rgb(51,51,51)",
           "ticks": "outside",
           "title": {
            "standoff": 15
           },
           "zerolinecolor": "white"
          }
         }
        },
        "title": {
         "text": "Ratings"
        },
        "width": 700,
        "xaxis": {
         "anchor": "y",
         "categoryarray": [
          "1.0",
          "2.0",
          "3.0",
          "4.0",
          "5.0"
         ],
         "categoryorder": "array",
         "domain": [
          0,
          0.31999999999999995
         ],
         "title": {
          "text": "Rating"
         }
        },
        "xaxis2": {
         "anchor": "y2",
         "categoryarray": [
          "1.0",
          "2.0",
          "3.0",
          "4.0",
          "5.0"
         ],
         "categoryorder": "array",
         "domain": [
          0.33999999999999997,
          0.6599999999999999
         ],
         "matches": "x",
         "title": {
          "text": "Rating"
         }
        },
        "xaxis3": {
         "anchor": "y3",
         "categoryarray": [
          "1.0",
          "2.0",
          "3.0",
          "4.0",
          "5.0"
         ],
         "categoryorder": "array",
         "domain": [
          0.6799999999999999,
          0.9999999999999999
         ],
         "matches": "x",
         "title": {
          "text": "Rating"
         }
        },
        "yaxis": {
         "anchor": "x",
         "domain": [
          0,
          1
         ],
         "title": {
          "text": "count"
         }
        },
        "yaxis2": {
         "anchor": "x2",
         "domain": [
          0,
          1
         ],
         "matches": "y",
         "showticklabels": false
        },
        "yaxis3": {
         "anchor": "x3",
         "domain": [
          0,
          1
         ],
         "matches": "y",
         "showticklabels": false
        }
       }
      },
      "text/html": [
       "<div>                            <div id=\"8e95f896-eb97-43b2-9f2d-e4f4d1050ca9\" class=\"plotly-graph-div\" style=\"height:400px; width:700px;\"></div>            <script type=\"text/javascript\">                require([\"plotly\"], function(Plotly) {                    window.PLOTLYENV=window.PLOTLYENV || {};                                    if (document.getElementById(\"8e95f896-eb97-43b2-9f2d-e4f4d1050ca9\")) {                    Plotly.newPlot(                        \"8e95f896-eb97-43b2-9f2d-e4f4d1050ca9\",                        [{\"alignmentgroup\":\"True\",\"hovertemplate\":\"Rating=%{x}<br>Item=camera<br>count=%{y}<extra></extra>\",\"legendgroup\":\"1.0\",\"marker\":{\"color\":\"#F8766D\",\"pattern\":{\"shape\":\"\"}},\"name\":\"1.0\",\"offsetgroup\":\"1.0\",\"orientation\":\"v\",\"showlegend\":true,\"textposition\":\"auto\",\"x\":[\"1.0\"],\"xaxis\":\"x\",\"y\":[48],\"yaxis\":\"y\",\"type\":\"bar\"},{\"alignmentgroup\":\"True\",\"hovertemplate\":\"Rating=%{x}<br>Item=lock<br>count=%{y}<extra></extra>\",\"legendgroup\":\"1.0\",\"marker\":{\"color\":\"#F8766D\",\"pattern\":{\"shape\":\"\"}},\"name\":\"1.0\",\"offsetgroup\":\"1.0\",\"orientation\":\"v\",\"showlegend\":false,\"textposition\":\"auto\",\"x\":[\"1.0\"],\"xaxis\":\"x2\",\"y\":[43],\"yaxis\":\"y2\",\"type\":\"bar\"},{\"alignmentgroup\":\"True\",\"hovertemplate\":\"Rating=%{x}<br>Item=thermostat<br>count=%{y}<extra></extra>\",\"legendgroup\":\"1.0\",\"marker\":{\"color\":\"#F8766D\",\"pattern\":{\"shape\":\"\"}},\"name\":\"1.0\",\"offsetgroup\":\"1.0\",\"orientation\":\"v\",\"showlegend\":false,\"textposition\":\"auto\",\"x\":[\"1.0\"],\"xaxis\":\"x3\",\"y\":[23],\"yaxis\":\"y3\",\"type\":\"bar\"},{\"alignmentgroup\":\"True\",\"hovertemplate\":\"Rating=%{x}<br>Item=camera<br>count=%{y}<extra></extra>\",\"legendgroup\":\"2.0\",\"marker\":{\"color\":\"#A3A500\",\"pattern\":{\"shape\":\"\"}},\"name\":\"2.0\",\"offsetgroup\":\"2.0\",\"orientation\":\"v\",\"showlegend\":true,\"textposition\":\"auto\",\"x\":[\"2.0\"],\"xaxis\":\"x\",\"y\":[8],\"yaxis\":\"y\",\"type\":\"bar\"},{\"alignmentgroup\":\"True\",\"hovertemplate\":\"Rating=%{x}<br>Item=lock<br>count=%{y}<extra></extra>\",\"legendgroup\":\"2.0\",\"marker\":{\"color\":\"#A3A500\",\"pattern\":{\"shape\":\"\"}},\"name\":\"2.0\",\"offsetgroup\":\"2.0\",\"orientation\":\"v\",\"showlegend\":false,\"textposition\":\"auto\",\"x\":[\"2.0\"],\"xaxis\":\"x2\",\"y\":[11],\"yaxis\":\"y2\",\"type\":\"bar\"},{\"alignmentgroup\":\"True\",\"hovertemplate\":\"Rating=%{x}<br>Item=thermostat<br>count=%{y}<extra></extra>\",\"legendgroup\":\"2.0\",\"marker\":{\"color\":\"#A3A500\",\"pattern\":{\"shape\":\"\"}},\"name\":\"2.0\",\"offsetgroup\":\"2.0\",\"orientation\":\"v\",\"showlegend\":false,\"textposition\":\"auto\",\"x\":[\"2.0\"],\"xaxis\":\"x3\",\"y\":[12],\"yaxis\":\"y3\",\"type\":\"bar\"},{\"alignmentgroup\":\"True\",\"hovertemplate\":\"Rating=%{x}<br>Item=camera<br>count=%{y}<extra></extra>\",\"legendgroup\":\"3.0\",\"marker\":{\"color\":\"#00BF7D\",\"pattern\":{\"shape\":\"\"}},\"name\":\"3.0\",\"offsetgroup\":\"3.0\",\"orientation\":\"v\",\"showlegend\":true,\"textposition\":\"auto\",\"x\":[\"3.0\"],\"xaxis\":\"x\",\"y\":[13],\"yaxis\":\"y\",\"type\":\"bar\"},{\"alignmentgroup\":\"True\",\"hovertemplate\":\"Rating=%{x}<br>Item=lock<br>count=%{y}<extra></extra>\",\"legendgroup\":\"3.0\",\"marker\":{\"color\":\"#00BF7D\",\"pattern\":{\"shape\":\"\"}},\"name\":\"3.0\",\"offsetgroup\":\"3.0\",\"orientation\":\"v\",\"showlegend\":false,\"textposition\":\"auto\",\"x\":[\"3.0\"],\"xaxis\":\"x2\",\"y\":[13],\"yaxis\":\"y2\",\"type\":\"bar\"},{\"alignmentgroup\":\"True\",\"hovertemplate\":\"Rating=%{x}<br>Item=thermostat<br>count=%{y}<extra></extra>\",\"legendgroup\":\"3.0\",\"marker\":{\"color\":\"#00BF7D\",\"pattern\":{\"shape\":\"\"}},\"name\":\"3.0\",\"offsetgroup\":\"3.0\",\"orientation\":\"v\",\"showlegend\":false,\"textposition\":\"auto\",\"x\":[\"3.0\"],\"xaxis\":\"x3\",\"y\":[15],\"yaxis\":\"y3\",\"type\":\"bar\"},{\"alignmentgroup\":\"True\",\"hovertemplate\":\"Rating=%{x}<br>Item=camera<br>count=%{y}<extra></extra>\",\"legendgroup\":\"4.0\",\"marker\":{\"color\":\"#00B0F6\",\"pattern\":{\"shape\":\"\"}},\"name\":\"4.0\",\"offsetgroup\":\"4.0\",\"orientation\":\"v\",\"showlegend\":true,\"textposition\":\"auto\",\"x\":[\"4.0\"],\"xaxis\":\"x\",\"y\":[7],\"yaxis\":\"y\",\"type\":\"bar\"},{\"alignmentgroup\":\"True\",\"hovertemplate\":\"Rating=%{x}<br>Item=lock<br>count=%{y}<extra></extra>\",\"legendgroup\":\"4.0\",\"marker\":{\"color\":\"#00B0F6\",\"pattern\":{\"shape\":\"\"}},\"name\":\"4.0\",\"offsetgroup\":\"4.0\",\"orientation\":\"v\",\"showlegend\":false,\"textposition\":\"auto\",\"x\":[\"4.0\"],\"xaxis\":\"x2\",\"y\":[10],\"yaxis\":\"y2\",\"type\":\"bar\"},{\"alignmentgroup\":\"True\",\"hovertemplate\":\"Rating=%{x}<br>Item=thermostat<br>count=%{y}<extra></extra>\",\"legendgroup\":\"4.0\",\"marker\":{\"color\":\"#00B0F6\",\"pattern\":{\"shape\":\"\"}},\"name\":\"4.0\",\"offsetgroup\":\"4.0\",\"orientation\":\"v\",\"showlegend\":false,\"textposition\":\"auto\",\"x\":[\"4.0\"],\"xaxis\":\"x3\",\"y\":[18],\"yaxis\":\"y3\",\"type\":\"bar\"},{\"alignmentgroup\":\"True\",\"hovertemplate\":\"Rating=%{x}<br>Item=camera<br>count=%{y}<extra></extra>\",\"legendgroup\":\"5.0\",\"marker\":{\"color\":\"#E76BF3\",\"pattern\":{\"shape\":\"\"}},\"name\":\"5.0\",\"offsetgroup\":\"5.0\",\"orientation\":\"v\",\"showlegend\":true,\"textposition\":\"auto\",\"x\":[\"5.0\"],\"xaxis\":\"x\",\"y\":[17],\"yaxis\":\"y\",\"type\":\"bar\"},{\"alignmentgroup\":\"True\",\"hovertemplate\":\"Rating=%{x}<br>Item=lock<br>count=%{y}<extra></extra>\",\"legendgroup\":\"5.0\",\"marker\":{\"color\":\"#E76BF3\",\"pattern\":{\"shape\":\"\"}},\"name\":\"5.0\",\"offsetgroup\":\"5.0\",\"orientation\":\"v\",\"showlegend\":false,\"textposition\":\"auto\",\"x\":[\"5.0\"],\"xaxis\":\"x2\",\"y\":[22],\"yaxis\":\"y2\",\"type\":\"bar\"},{\"alignmentgroup\":\"True\",\"hovertemplate\":\"Rating=%{x}<br>Item=thermostat<br>count=%{y}<extra></extra>\",\"legendgroup\":\"5.0\",\"marker\":{\"color\":\"#E76BF3\",\"pattern\":{\"shape\":\"\"}},\"name\":\"5.0\",\"offsetgroup\":\"5.0\",\"orientation\":\"v\",\"showlegend\":false,\"textposition\":\"auto\",\"x\":[\"5.0\"],\"xaxis\":\"x3\",\"y\":[27],\"yaxis\":\"y3\",\"type\":\"bar\"}],                        {\"template\":{\"data\":{\"bar\":[{\"error_x\":{\"color\":\"rgb(51,51,51)\"},\"error_y\":{\"color\":\"rgb(51,51,51)\"},\"marker\":{\"line\":{\"color\":\"rgb(237,237,237)\",\"width\":0.5},\"pattern\":{\"fillmode\":\"overlay\",\"size\":10,\"solidity\":0.2}},\"type\":\"bar\"}],\"barpolar\":[{\"marker\":{\"line\":{\"color\":\"rgb(237,237,237)\",\"width\":0.5},\"pattern\":{\"fillmode\":\"overlay\",\"size\":10,\"solidity\":0.2}},\"type\":\"barpolar\"}],\"carpet\":[{\"aaxis\":{\"endlinecolor\":\"rgb(51,51,51)\",\"gridcolor\":\"white\",\"linecolor\":\"white\",\"minorgridcolor\":\"white\",\"startlinecolor\":\"rgb(51,51,51)\"},\"baxis\":{\"endlinecolor\":\"rgb(51,51,51)\",\"gridcolor\":\"white\",\"linecolor\":\"white\",\"minorgridcolor\":\"white\",\"startlinecolor\":\"rgb(51,51,51)\"},\"type\":\"carpet\"}],\"choropleth\":[{\"colorbar\":{\"outlinewidth\":0,\"tickcolor\":\"rgb(237,237,237)\",\"ticklen\":6,\"ticks\":\"inside\"},\"type\":\"choropleth\"}],\"contour\":[{\"colorbar\":{\"outlinewidth\":0,\"tickcolor\":\"rgb(237,237,237)\",\"ticklen\":6,\"ticks\":\"inside\"},\"colorscale\":[[0,\"rgb(20,44,66)\"],[1,\"rgb(90,179,244)\"]],\"type\":\"contour\"}],\"contourcarpet\":[{\"colorbar\":{\"outlinewidth\":0,\"tickcolor\":\"rgb(237,237,237)\",\"ticklen\":6,\"ticks\":\"inside\"},\"type\":\"contourcarpet\"}],\"heatmap\":[{\"colorbar\":{\"outlinewidth\":0,\"tickcolor\":\"rgb(237,237,237)\",\"ticklen\":6,\"ticks\":\"inside\"},\"colorscale\":[[0,\"rgb(20,44,66)\"],[1,\"rgb(90,179,244)\"]],\"type\":\"heatmap\"}],\"heatmapgl\":[{\"colorbar\":{\"outlinewidth\":0,\"tickcolor\":\"rgb(237,237,237)\",\"ticklen\":6,\"ticks\":\"inside\"},\"colorscale\":[[0,\"rgb(20,44,66)\"],[1,\"rgb(90,179,244)\"]],\"type\":\"heatmapgl\"}],\"histogram\":[{\"marker\":{\"pattern\":{\"fillmode\":\"overlay\",\"size\":10,\"solidity\":0.2}},\"type\":\"histogram\"}],\"histogram2d\":[{\"colorbar\":{\"outlinewidth\":0,\"tickcolor\":\"rgb(237,237,237)\",\"ticklen\":6,\"ticks\":\"inside\"},\"colorscale\":[[0,\"rgb(20,44,66)\"],[1,\"rgb(90,179,244)\"]],\"type\":\"histogram2d\"}],\"histogram2dcontour\":[{\"colorbar\":{\"outlinewidth\":0,\"tickcolor\":\"rgb(237,237,237)\",\"ticklen\":6,\"ticks\":\"inside\"},\"colorscale\":[[0,\"rgb(20,44,66)\"],[1,\"rgb(90,179,244)\"]],\"type\":\"histogram2dcontour\"}],\"mesh3d\":[{\"colorbar\":{\"outlinewidth\":0,\"tickcolor\":\"rgb(237,237,237)\",\"ticklen\":6,\"ticks\":\"inside\"},\"type\":\"mesh3d\"}],\"parcoords\":[{\"line\":{\"colorbar\":{\"outlinewidth\":0,\"tickcolor\":\"rgb(237,237,237)\",\"ticklen\":6,\"ticks\":\"inside\"}},\"type\":\"parcoords\"}],\"pie\":[{\"automargin\":true,\"type\":\"pie\"}],\"scatter\":[{\"marker\":{\"colorbar\":{\"outlinewidth\":0,\"tickcolor\":\"rgb(237,237,237)\",\"ticklen\":6,\"ticks\":\"inside\"}},\"type\":\"scatter\"}],\"scatter3d\":[{\"line\":{\"colorbar\":{\"outlinewidth\":0,\"tickcolor\":\"rgb(237,237,237)\",\"ticklen\":6,\"ticks\":\"inside\"}},\"marker\":{\"colorbar\":{\"outlinewidth\":0,\"tickcolor\":\"rgb(237,237,237)\",\"ticklen\":6,\"ticks\":\"inside\"}},\"type\":\"scatter3d\"}],\"scattercarpet\":[{\"marker\":{\"colorbar\":{\"outlinewidth\":0,\"tickcolor\":\"rgb(237,237,237)\",\"ticklen\":6,\"ticks\":\"inside\"}},\"type\":\"scattercarpet\"}],\"scattergeo\":[{\"marker\":{\"colorbar\":{\"outlinewidth\":0,\"tickcolor\":\"rgb(237,237,237)\",\"ticklen\":6,\"ticks\":\"inside\"}},\"type\":\"scattergeo\"}],\"scattergl\":[{\"marker\":{\"colorbar\":{\"outlinewidth\":0,\"tickcolor\":\"rgb(237,237,237)\",\"ticklen\":6,\"ticks\":\"inside\"}},\"type\":\"scattergl\"}],\"scattermapbox\":[{\"marker\":{\"colorbar\":{\"outlinewidth\":0,\"tickcolor\":\"rgb(237,237,237)\",\"ticklen\":6,\"ticks\":\"inside\"}},\"type\":\"scattermapbox\"}],\"scatterpolar\":[{\"marker\":{\"colorbar\":{\"outlinewidth\":0,\"tickcolor\":\"rgb(237,237,237)\",\"ticklen\":6,\"ticks\":\"inside\"}},\"type\":\"scatterpolar\"}],\"scatterpolargl\":[{\"marker\":{\"colorbar\":{\"outlinewidth\":0,\"tickcolor\":\"rgb(237,237,237)\",\"ticklen\":6,\"ticks\":\"inside\"}},\"type\":\"scatterpolargl\"}],\"scatterternary\":[{\"marker\":{\"colorbar\":{\"outlinewidth\":0,\"tickcolor\":\"rgb(237,237,237)\",\"ticklen\":6,\"ticks\":\"inside\"}},\"type\":\"scatterternary\"}],\"surface\":[{\"colorbar\":{\"outlinewidth\":0,\"tickcolor\":\"rgb(237,237,237)\",\"ticklen\":6,\"ticks\":\"inside\"},\"colorscale\":[[0,\"rgb(20,44,66)\"],[1,\"rgb(90,179,244)\"]],\"type\":\"surface\"}],\"table\":[{\"cells\":{\"fill\":{\"color\":\"rgb(237,237,237)\"},\"line\":{\"color\":\"white\"}},\"header\":{\"fill\":{\"color\":\"rgb(217,217,217)\"},\"line\":{\"color\":\"white\"}},\"type\":\"table\"}]},\"layout\":{\"annotationdefaults\":{\"arrowhead\":0,\"arrowwidth\":1},\"autotypenumbers\":\"strict\",\"coloraxis\":{\"colorbar\":{\"outlinewidth\":0,\"tickcolor\":\"rgb(237,237,237)\",\"ticklen\":6,\"ticks\":\"inside\"}},\"colorscale\":{\"sequential\":[[0,\"rgb(20,44,66)\"],[1,\"rgb(90,179,244)\"]],\"sequentialminus\":[[0,\"rgb(20,44,66)\"],[1,\"rgb(90,179,244)\"]]},\"colorway\":[\"#F8766D\",\"#A3A500\",\"#00BF7D\",\"#00B0F6\",\"#E76BF3\"],\"font\":{\"color\":\"rgb(51,51,51)\"},\"geo\":{\"bgcolor\":\"white\",\"lakecolor\":\"white\",\"landcolor\":\"rgb(237,237,237)\",\"showlakes\":true,\"showland\":true,\"subunitcolor\":\"white\"},\"hoverlabel\":{\"align\":\"left\"},\"hovermode\":\"closest\",\"paper_bgcolor\":\"white\",\"plot_bgcolor\":\"rgb(237,237,237)\",\"polar\":{\"angularaxis\":{\"gridcolor\":\"white\",\"linecolor\":\"white\",\"showgrid\":true,\"tickcolor\":\"rgb(51,51,51)\",\"ticks\":\"outside\"},\"bgcolor\":\"rgb(237,237,237)\",\"radialaxis\":{\"gridcolor\":\"white\",\"linecolor\":\"white\",\"showgrid\":true,\"tickcolor\":\"rgb(51,51,51)\",\"ticks\":\"outside\"}},\"scene\":{\"xaxis\":{\"backgroundcolor\":\"rgb(237,237,237)\",\"gridcolor\":\"white\",\"gridwidth\":2,\"linecolor\":\"white\",\"showbackground\":true,\"showgrid\":true,\"tickcolor\":\"rgb(51,51,51)\",\"ticks\":\"outside\",\"zerolinecolor\":\"white\"},\"yaxis\":{\"backgroundcolor\":\"rgb(237,237,237)\",\"gridcolor\":\"white\",\"gridwidth\":2,\"linecolor\":\"white\",\"showbackground\":true,\"showgrid\":true,\"tickcolor\":\"rgb(51,51,51)\",\"ticks\":\"outside\",\"zerolinecolor\":\"white\"},\"zaxis\":{\"backgroundcolor\":\"rgb(237,237,237)\",\"gridcolor\":\"white\",\"gridwidth\":2,\"linecolor\":\"white\",\"showbackground\":true,\"showgrid\":true,\"tickcolor\":\"rgb(51,51,51)\",\"ticks\":\"outside\",\"zerolinecolor\":\"white\"}},\"shapedefaults\":{\"fillcolor\":\"black\",\"line\":{\"width\":0},\"opacity\":0.3},\"ternary\":{\"aaxis\":{\"gridcolor\":\"white\",\"linecolor\":\"white\",\"showgrid\":true,\"tickcolor\":\"rgb(51,51,51)\",\"ticks\":\"outside\"},\"baxis\":{\"gridcolor\":\"white\",\"linecolor\":\"white\",\"showgrid\":true,\"tickcolor\":\"rgb(51,51,51)\",\"ticks\":\"outside\"},\"bgcolor\":\"rgb(237,237,237)\",\"caxis\":{\"gridcolor\":\"white\",\"linecolor\":\"white\",\"showgrid\":true,\"tickcolor\":\"rgb(51,51,51)\",\"ticks\":\"outside\"}},\"xaxis\":{\"automargin\":true,\"gridcolor\":\"white\",\"linecolor\":\"white\",\"showgrid\":true,\"tickcolor\":\"rgb(51,51,51)\",\"ticks\":\"outside\",\"title\":{\"standoff\":15},\"zerolinecolor\":\"white\"},\"yaxis\":{\"automargin\":true,\"gridcolor\":\"white\",\"linecolor\":\"white\",\"showgrid\":true,\"tickcolor\":\"rgb(51,51,51)\",\"ticks\":\"outside\",\"title\":{\"standoff\":15},\"zerolinecolor\":\"white\"}}},\"xaxis\":{\"anchor\":\"y\",\"domain\":[0.0,0.31999999999999995],\"title\":{\"text\":\"Rating\"},\"categoryorder\":\"array\",\"categoryarray\":[\"1.0\",\"2.0\",\"3.0\",\"4.0\",\"5.0\"]},\"yaxis\":{\"anchor\":\"x\",\"domain\":[0.0,1.0],\"title\":{\"text\":\"count\"}},\"xaxis2\":{\"anchor\":\"y2\",\"domain\":[0.33999999999999997,0.6599999999999999],\"matches\":\"x\",\"title\":{\"text\":\"Rating\"},\"categoryorder\":\"array\",\"categoryarray\":[\"1.0\",\"2.0\",\"3.0\",\"4.0\",\"5.0\"]},\"yaxis2\":{\"anchor\":\"x2\",\"domain\":[0.0,1.0],\"matches\":\"y\",\"showticklabels\":false},\"xaxis3\":{\"anchor\":\"y3\",\"domain\":[0.6799999999999999,0.9999999999999999],\"matches\":\"x\",\"title\":{\"text\":\"Rating\"},\"categoryorder\":\"array\",\"categoryarray\":[\"1.0\",\"2.0\",\"3.0\",\"4.0\",\"5.0\"]},\"yaxis3\":{\"anchor\":\"x3\",\"domain\":[0.0,1.0],\"matches\":\"y\",\"showticklabels\":false},\"annotations\":[{\"font\":{},\"showarrow\":false,\"text\":\"camera\",\"x\":0.15999999999999998,\"xanchor\":\"center\",\"xref\":\"paper\",\"y\":1.0,\"yanchor\":\"bottom\",\"yref\":\"paper\"},{\"font\":{},\"showarrow\":false,\"text\":\"lock\",\"x\":0.49999999999999994,\"xanchor\":\"center\",\"xref\":\"paper\",\"y\":1.0,\"yanchor\":\"bottom\",\"yref\":\"paper\"},{\"font\":{},\"showarrow\":false,\"text\":\"thermostat\",\"x\":0.8399999999999999,\"xanchor\":\"center\",\"xref\":\"paper\",\"y\":1.0,\"yanchor\":\"bottom\",\"yref\":\"paper\"}],\"legend\":{\"title\":{\"text\":\"Rating\"},\"tracegroupgap\":0},\"title\":{\"text\":\"Ratings\"},\"barmode\":\"relative\",\"height\":400,\"width\":700},                        {\"responsive\": true}                    ).then(function(){\n",
       "                            \n",
       "var gd = document.getElementById('8e95f896-eb97-43b2-9f2d-e4f4d1050ca9');\n",
       "var x = new MutationObserver(function (mutations, observer) {{\n",
       "        var display = window.getComputedStyle(gd).display;\n",
       "        if (!display || display === 'none') {{\n",
       "            console.log([gd, 'removed!']);\n",
       "            Plotly.purge(gd);\n",
       "            observer.disconnect();\n",
       "        }}\n",
       "}});\n",
       "\n",
       "// Listen for the removal of the full notebook cells\n",
       "var notebookContainer = gd.closest('#notebook-container');\n",
       "if (notebookContainer) {{\n",
       "    x.observe(notebookContainer, {childList: true});\n",
       "}}\n",
       "\n",
       "// Listen for the clearing of the current output cell\n",
       "var outputEl = gd.closest('.output');\n",
       "if (outputEl) {{\n",
       "    x.observe(outputEl, {childList: true});\n",
       "}}\n",
       "\n",
       "                        })                };                });            </script>        </div>"
      ]
     },
     "metadata": {},
     "output_type": "display_data"
    }
   ],
   "source": [
    "score = px.bar(data_frame=ratings,\n",
    "                x=\"Rating\",\n",
    "                y=\"count\",\n",
    "                facet_col=\"Item\",\n",
    "                color=\"Rating\",\n",
    "                title=\"Ratings\",\n",
    "                width=700,\n",
    "                height=400)\n",
    "score.for_each_annotation(lambda a: a.update(text=a.text.split(\"=\")[-1]))\n",
    "score.show()"
   ]
  },
  {
   "cell_type": "markdown",
   "id": "4fa96d3c",
   "metadata": {},
   "source": [
    "**Insights:**\n",
    "- Although our reviews are classified as mostly positive/neutral, ratings seems to be pretty low\n",
    "- Let's closely examine what can be the reason reviewers gave 1.0 (lowest) \n",
    "- We pick Smart camera as it has the highest proportion of 1.0 score and highest positivity rate from previous exploration"
   ]
  },
  {
   "cell_type": "code",
   "execution_count": 171,
   "id": "16205038",
   "metadata": {},
   "outputs": [],
   "source": [
    "bad_rating = viz[viz.Rating == \"1.0\"]"
   ]
  },
  {
   "cell_type": "code",
   "execution_count": 172,
   "id": "c2a6f860",
   "metadata": {},
   "outputs": [
    {
     "data": {
      "text/html": [
       "<div>\n",
       "<style scoped>\n",
       "    .dataframe tbody tr th:only-of-type {\n",
       "        vertical-align: middle;\n",
       "    }\n",
       "\n",
       "    .dataframe tbody tr th {\n",
       "        vertical-align: top;\n",
       "    }\n",
       "\n",
       "    .dataframe thead th {\n",
       "        text-align: right;\n",
       "    }\n",
       "</style>\n",
       "<table border=\"1\" class=\"dataframe\">\n",
       "  <thead>\n",
       "    <tr style=\"text-align: right;\">\n",
       "      <th></th>\n",
       "      <th>Rating</th>\n",
       "      <th>Title</th>\n",
       "      <th>Text</th>\n",
       "      <th>Polarity</th>\n",
       "    </tr>\n",
       "  </thead>\n",
       "  <tbody>\n",
       "    <tr>\n",
       "      <th>224</th>\n",
       "      <td>1.0</td>\n",
       "      <td>Requires a subscription service to function properly</td>\n",
       "      <td>I was actually really happy with these cameras. Easy to understand app and setup, good video quality, pretty nifty all around. That was, until I recieved an email welcoming me to the 14 day free trial of their subscription service.One of the features of this subscription service (for this product that I already purchased) was that with it, the camera will record more than 12 seconds after movement is detected. Meaning if you don't pay for this, you better hope your home invader rapist/burglar shows their face within 12 seconds of showing up! Sincerely, your friends at Wyze :)This is extortion and a scam. The security camera doesn't do the ONE thing it's supposed to for more than 12 seconds at a time. The email doesn't even say how much the subscription service costs while asking me and providing multiple links to sign up to it.Really sucks because it was good up until that one \"feature.\" Now it's just a plastic piece of junk. I'm returning it immediately.</td>\n",
       "      <td>0.41</td>\n",
       "    </tr>\n",
       "    <tr>\n",
       "      <th>260</th>\n",
       "      <td>1.0</td>\n",
       "      <td>Glitch City</td>\n",
       "      <td>I've had this camera set up for about a week.  It has the newest firmware installed and the newest Android app being used to monitor it.  I can view the video stream for 30 seconds at most before it just stops streaming video.  It doesn't matter if I have it in HD, SD, or 360p streaming mode.  It doesn't matter if I have a strong 4G, 5G, or wifi connection.  It just freezes 100% of the time.  Restarting the app restarts the stream, but then it freezes again 30 seconds later.  It's inexcusable in this day and age for a company of this size to have a product performing so poorly right out of the box.</td>\n",
       "      <td>0.30</td>\n",
       "    </tr>\n",
       "    <tr>\n",
       "      <th>203</th>\n",
       "      <td>1.0</td>\n",
       "      <td>Cam Plus Doesn’t Work</td>\n",
       "      <td>We ordered 3 of the V3 cameras. I’ve got to say the clarity and night vision are awesome. We don’t get night vision in color though. Also when you set them up make sure you have SD cards because cam plus is an absolute JOKE. You get nothing but error codes on the event videos that make these cameras worth the money. For instance if someone was breaking into your home the camera would alert you but then it would throw up an error code that it cannot retrieve the event video from the cloud. You can still watch the person come in on the cam if you know that is what is happening. I had faith in Wyze but we are so frustrated with not being able to see the event videos that we want to return them</td>\n",
       "      <td>0.30</td>\n",
       "    </tr>\n",
       "    <tr>\n",
       "      <th>229</th>\n",
       "      <td>1.0</td>\n",
       "      <td>Great the first night-stopped working the 2nd night</td>\n",
       "      <td>We used it as a monitor in our daughter’s room. The camera worked really well the first night. We were very impressed with the quality of images.  The next night when I turned it on, there was a message that there is a firmware update. I tried doing the firmware update and it tried updating all night and it just kept updating and never stopped (after 8 hours). I followed the troubleshooting guide and unplugged it, plugged it back in and nothing. I switched outlets and plugs as the troubleshooting directions happened and nothing. I tried deleting the camera from the app and deleting the app and reinstalling and nothing.</td>\n",
       "      <td>0.29</td>\n",
       "    </tr>\n",
       "    <tr>\n",
       "      <th>200</th>\n",
       "      <td>1.0</td>\n",
       "      <td>Read before you buy</td>\n",
       "      <td>This camera quality is awesome. As far as using for security forget about it. I have 3 indoor camera that work great. I bought 2 cam v3 for outside. They are basically junk they alert you on bugs, tree blowing, lights from cars shining on trees. Unless you have a yard without anything blowing or bugs flying around then don’t bother for security. I’m talking about events happening non stop all night long. I set the security all the way down and didn’t help at all. Ive watch 50 videos with nothing in them. Day time i think is fine so hopefully if you have criminals in your neighborhood they only work during the day.</td>\n",
       "      <td>0.26</td>\n",
       "    </tr>\n",
       "    <tr>\n",
       "      <th>247</th>\n",
       "      <td>1.0</td>\n",
       "      <td>Would not stay connected</td>\n",
       "      <td>Was very excited to get the new V3 since I own 2 V2's that have performed flawlessly over the past year or so. I was looking forward to the enhanced night time vision. Ordered one and got it configured with no issues. Then put in a memory card and that's when things went south. Disconnected it and even deleted it from the app, but when I tried to re-add it, the camera would never say, \"Ready to connect\" no matter what I did. So I returned it and just got a replacement figuring that I just got a defective one. The second one was just as easy to connect, but after I put the memory card in, it disconnected and I had to take the memory card out to reconnect. So I thought I would just use it without the memory card, and about 2 hours after connecting it back up, it disconnected again. Not reliable enough to keep, so I sent them both back. Will have to wait until they work out the bugs. Once that happens, I'll probably get another one.</td>\n",
       "      <td>0.24</td>\n",
       "    </tr>\n",
       "    <tr>\n",
       "      <th>298</th>\n",
       "      <td>1.0</td>\n",
       "      <td>Consider this before you buy</td>\n",
       "      <td>Consider this the camera is ok for the price, the software needs a lot of work and the constant pressure to sign up for the cloud service is Unbelievable. I installed a memory card as I do not like having another bill to pay each month, they give you a free month  of cloud service then when they cut you off they also change your ability to record over 12 seconds, and as if that’s not bad enough the re trigger time jumps to 5 minutes and you are constantly reminded that if you sign up you can record more. I will never buy another camera from this manufacturer as their main interest isn’t to have a good camera and software but to Make You sign up for their service.</td>\n",
       "      <td>0.24</td>\n",
       "    </tr>\n",
       "    <tr>\n",
       "      <th>223</th>\n",
       "      <td>1.0</td>\n",
       "      <td>Brand loyalist NO MORE</td>\n",
       "      <td>I have purchased over 40 of these cameras for personal use and gifts to family members. My first review on here marveled at the “Value” these cameras deliver. Well .... after 2 years + I have extensive use and now “User history” and let me tell you, buy another camera. Trust me, I do not have an ax to grind, nor do I wish them ill will but they got greedy, grew too fast and their reliability went off of a cliff.After all, reliability is the most coveted quality of a surveillance camera. What really blows, is I have my interface and software set up so I can’t just get rid of them all and start over with a reliable brand without great expense and hassle..... Unless someone wants to buy all of the working cameras from me! You will love this camera for about 9 months and after they perform several firmware “upgrades” your camera will cause you all types of problems.</td>\n",
       "      <td>0.20</td>\n",
       "    </tr>\n",
       "    <tr>\n",
       "      <th>294</th>\n",
       "      <td>1.0</td>\n",
       "      <td>Not worth it</td>\n",
       "      <td>Got this and a couple of storage cards because someone stabbed my tires. Night vision wasn’t good at all. It picked up some “porch” light as a vehicle when there wasn’t any. So I had so many records of nothing.  And now that the trial is over it doesn’t even pick up most motion even during the day. And now it only records a few seconds despite having a large capacity memory card in it.  If I wanted to subscribe to a particular service I would’ve gotten actual home monitoring from somewhere else. Legit waste of my time and money but I shouldn’t be surprised it was only $35z</td>\n",
       "      <td>0.18</td>\n",
       "    </tr>\n",
       "    <tr>\n",
       "      <th>209</th>\n",
       "      <td>1.0</td>\n",
       "      <td>Unusable due to poor sound quality. Audio is not functional. Only static.</td>\n",
       "      <td>I purchased this camera to use as a baby monitor. Unfortunately, the picture quality is great but there is a constant static sound when the sound is turned on via the app. This effectively renders the camera unusable as I need sound to monitor in addition to video. I tried moving closer to WiFi, resetting, no effect. Will return unless support can offer a solution. Unfortunately also, it appears from searching online that this is a common issue that has existed since the cameras were released without any solution yet.UPDATE 5/19/2021: I spoke to Wyze and was sent a replacement. The second V3 has the identical problem to the first, nothing but garbled static for sound. After researching online it appears this is probably the case with all their cameras (V2 and pan) but most people are not using them for audio recording. This is a total deal breaker for me as Wyze obviously knows of this issue but chooses the same poor components for new products.</td>\n",
       "      <td>0.16</td>\n",
       "    </tr>\n",
       "  </tbody>\n",
       "</table>\n",
       "</div>"
      ],
      "text/plain": [
       "    Rating  \\\n",
       "224    1.0   \n",
       "260    1.0   \n",
       "203    1.0   \n",
       "229    1.0   \n",
       "200    1.0   \n",
       "247    1.0   \n",
       "298    1.0   \n",
       "223    1.0   \n",
       "294    1.0   \n",
       "209    1.0   \n",
       "\n",
       "                                                                         Title  \\\n",
       "224                       Requires a subscription service to function properly   \n",
       "260                                                                Glitch City   \n",
       "203                                                      Cam Plus Doesn’t Work   \n",
       "229                        Great the first night-stopped working the 2nd night   \n",
       "200                                                        Read before you buy   \n",
       "247                                                   Would not stay connected   \n",
       "298                                               Consider this before you buy   \n",
       "223                                                     Brand loyalist NO MORE   \n",
       "294                                                               Not worth it   \n",
       "209  Unusable due to poor sound quality. Audio is not functional. Only static.   \n",
       "\n",
       "                                                                                                                                                                                                                                                                                                                                                                                                                                                                                                                                                                                                                                                                                                                                                                                                                                                                                                                                                                                                            Text  \\\n",
       "224    I was actually really happy with these cameras. Easy to understand app and setup, good video quality, pretty nifty all around. That was, until I recieved an email welcoming me to the 14 day free trial of their subscription service.One of the features of this subscription service (for this product that I already purchased) was that with it, the camera will record more than 12 seconds after movement is detected. Meaning if you don't pay for this, you better hope your home invader rapist/burglar shows their face within 12 seconds of showing up! Sincerely, your friends at Wyze :)This is extortion and a scam. The security camera doesn't do the ONE thing it's supposed to for more than 12 seconds at a time. The email doesn't even say how much the subscription service costs while asking me and providing multiple links to sign up to it.Really sucks because it was good up until that one \"feature.\" Now it's just a plastic piece of junk. I'm returning it immediately.   \n",
       "260                                                                                                                                                                                                                                                                                                                                                                                I've had this camera set up for about a week.  It has the newest firmware installed and the newest Android app being used to monitor it.  I can view the video stream for 30 seconds at most before it just stops streaming video.  It doesn't matter if I have it in HD, SD, or 360p streaming mode.  It doesn't matter if I have a strong 4G, 5G, or wifi connection.  It just freezes 100% of the time.  Restarting the app restarts the stream, but then it freezes again 30 seconds later.  It's inexcusable in this day and age for a company of this size to have a product performing so poorly right out of the box.   \n",
       "203                                                                                                                                                                                                                                                                                  We ordered 3 of the V3 cameras. I’ve got to say the clarity and night vision are awesome. We don’t get night vision in color though. Also when you set them up make sure you have SD cards because cam plus is an absolute JOKE. You get nothing but error codes on the event videos that make these cameras worth the money. For instance if someone was breaking into your home the camera would alert you but then it would throw up an error code that it cannot retrieve the event video from the cloud. You can still watch the person come in on the cam if you know that is what is happening. I had faith in Wyze but we are so frustrated with not being able to see the event videos that we want to return them   \n",
       "229                                                                                                                                                                                                                                                                                                                                                           We used it as a monitor in our daughter’s room. The camera worked really well the first night. We were very impressed with the quality of images.  The next night when I turned it on, there was a message that there is a firmware update. I tried doing the firmware update and it tried updating all night and it just kept updating and never stopped (after 8 hours). I followed the troubleshooting guide and unplugged it, plugged it back in and nothing. I switched outlets and plugs as the troubleshooting directions happened and nothing. I tried deleting the camera from the app and deleting the app and reinstalling and nothing.   \n",
       "200                                                                                                                                                                                                                                                                                                                                                                This camera quality is awesome. As far as using for security forget about it. I have 3 indoor camera that work great. I bought 2 cam v3 for outside. They are basically junk they alert you on bugs, tree blowing, lights from cars shining on trees. Unless you have a yard without anything blowing or bugs flying around then don’t bother for security. I’m talking about events happening non stop all night long. I set the security all the way down and didn’t help at all. Ive watch 50 videos with nothing in them. Day time i think is fine so hopefully if you have criminals in your neighborhood they only work during the day.   \n",
       "247                              Was very excited to get the new V3 since I own 2 V2's that have performed flawlessly over the past year or so. I was looking forward to the enhanced night time vision. Ordered one and got it configured with no issues. Then put in a memory card and that's when things went south. Disconnected it and even deleted it from the app, but when I tried to re-add it, the camera would never say, \"Ready to connect\" no matter what I did. So I returned it and just got a replacement figuring that I just got a defective one. The second one was just as easy to connect, but after I put the memory card in, it disconnected and I had to take the memory card out to reconnect. So I thought I would just use it without the memory card, and about 2 hours after connecting it back up, it disconnected again. Not reliable enough to keep, so I sent them both back. Will have to wait until they work out the bugs. Once that happens, I'll probably get another one.   \n",
       "298                                                                                                                                                                                                                                                                                                              Consider this the camera is ok for the price, the software needs a lot of work and the constant pressure to sign up for the cloud service is Unbelievable. I installed a memory card as I do not like having another bill to pay each month, they give you a free month  of cloud service then when they cut you off they also change your ability to record over 12 seconds, and as if that’s not bad enough the re trigger time jumps to 5 minutes and you are constantly reminded that if you sign up you can record more. I will never buy another camera from this manufacturer as their main interest isn’t to have a good camera and software but to Make You sign up for their service.   \n",
       "223                                                                                                   I have purchased over 40 of these cameras for personal use and gifts to family members. My first review on here marveled at the “Value” these cameras deliver. Well .... after 2 years + I have extensive use and now “User history” and let me tell you, buy another camera. Trust me, I do not have an ax to grind, nor do I wish them ill will but they got greedy, grew too fast and their reliability went off of a cliff.After all, reliability is the most coveted quality of a surveillance camera. What really blows, is I have my interface and software set up so I can’t just get rid of them all and start over with a reliable brand without great expense and hassle..... Unless someone wants to buy all of the working cameras from me! You will love this camera for about 9 months and after they perform several firmware “upgrades” your camera will cause you all types of problems.   \n",
       "294                                                                                                                                                                                                                                                                                                                                                                                                          Got this and a couple of storage cards because someone stabbed my tires. Night vision wasn’t good at all. It picked up some “porch” light as a vehicle when there wasn’t any. So I had so many records of nothing.  And now that the trial is over it doesn’t even pick up most motion even during the day. And now it only records a few seconds despite having a large capacity memory card in it.  If I wanted to subscribe to a particular service I would’ve gotten actual home monitoring from somewhere else. Legit waste of my time and money but I shouldn’t be surprised it was only $35z   \n",
       "209              I purchased this camera to use as a baby monitor. Unfortunately, the picture quality is great but there is a constant static sound when the sound is turned on via the app. This effectively renders the camera unusable as I need sound to monitor in addition to video. I tried moving closer to WiFi, resetting, no effect. Will return unless support can offer a solution. Unfortunately also, it appears from searching online that this is a common issue that has existed since the cameras were released without any solution yet.UPDATE 5/19/2021: I spoke to Wyze and was sent a replacement. The second V3 has the identical problem to the first, nothing but garbled static for sound. After researching online it appears this is probably the case with all their cameras (V2 and pan) but most people are not using them for audio recording. This is a total deal breaker for me as Wyze obviously knows of this issue but chooses the same poor components for new products.   \n",
       "\n",
       "     Polarity  \n",
       "224      0.41  \n",
       "260      0.30  \n",
       "203      0.30  \n",
       "229      0.29  \n",
       "200      0.26  \n",
       "247      0.24  \n",
       "298      0.24  \n",
       "223      0.20  \n",
       "294      0.18  \n",
       "209      0.16  "
      ]
     },
     "execution_count": 172,
     "metadata": {},
     "output_type": "execute_result"
    }
   ],
   "source": [
    "bad_rating[bad_rating.Item == \"camera\"].sort_values(by=\"Polarity\", ascending=False).head(10)[[\"Rating\",\"Title\",\"Text\",\"Polarity\"]]"
   ]
  },
  {
   "cell_type": "markdown",
   "id": "b26adda4",
   "metadata": {},
   "source": [
    "**Insights:**\n",
    "- Overall satisfaction with video quality\n",
    "- Customers unsatisfied with subscription options\n",
    "- Problems with retrieving the recorded video, stopping of recording\n",
    "- Long updating, bad connection\n",
    "- Senzors are sensitive to bugs, tree, car lights"
   ]
  },
  {
   "cell_type": "markdown",
   "id": "168aa664",
   "metadata": {},
   "source": [
    "<a id=\"11\"></a>\n",
    "## Correlation analysis"
   ]
  },
  {
   "cell_type": "code",
   "execution_count": 173,
   "id": "55886aa0",
   "metadata": {},
   "outputs": [
    {
     "name": "stderr",
     "output_type": "stream",
     "text": [
      "C:\\Program Files (x86)\\Development tools\\Anaconda\\lib\\site-packages\\pandas\\core\\generic.py:5516: SettingWithCopyWarning:\n",
      "\n",
      "\n",
      "A value is trying to be set on a copy of a slice from a DataFrame.\n",
      "Try using .loc[row_indexer,col_indexer] = value instead\n",
      "\n",
      "See the caveats in the documentation: https://pandas.pydata.org/pandas-docs/stable/user_guide/indexing.html#returning-a-view-versus-a-copy\n",
      "\n"
     ]
    }
   ],
   "source": [
    "numeric = viz[[\"Rating\", \"Polarity\", \"Subjectivity\", \"Text_length\"]]\n",
    "numeric.Rating = numeric.Rating.astype(\"float\")"
   ]
  },
  {
   "cell_type": "code",
   "execution_count": 174,
   "id": "20b43172",
   "metadata": {},
   "outputs": [],
   "source": [
    "cor_matrix = numeric.corr()"
   ]
  },
  {
   "cell_type": "code",
   "execution_count": 175,
   "id": "018d43c3",
   "metadata": {},
   "outputs": [
    {
     "data": {
      "application/vnd.plotly.v1+json": {
       "config": {
        "plotlyServerURL": "https://plot.ly"
       },
       "data": [
        {
         "coloraxis": "coloraxis",
         "hovertemplate": "x: %{x}<br>y: %{y}<br>color: %{z}<extra></extra>",
         "name": "0",
         "type": "heatmap",
         "x": [
          "Rating",
          "Polarity",
          "Subjectivity",
          "Text_length"
         ],
         "xaxis": "x",
         "y": [
          "Rating",
          "Polarity",
          "Subjectivity",
          "Text_length"
         ],
         "yaxis": "y",
         "z": [
          [
           1,
           0.39783877589173533,
           -0.1253129866901722,
           0.01769114881673345
          ],
          [
           0.39783877589173533,
           1,
           0.15705250182882977,
           0.13872967522326543
          ],
          [
           -0.1253129866901722,
           0.15705250182882977,
           1,
           0.1578226623774066
          ],
          [
           0.01769114881673345,
           0.13872967522326543,
           0.1578226623774066,
           1
          ]
         ]
        }
       ],
       "layout": {
        "coloraxis": {
         "colorscale": [
          [
           0,
           "rgb(255,245,240)"
          ],
          [
           0.125,
           "rgb(254,224,210)"
          ],
          [
           0.25,
           "rgb(252,187,161)"
          ],
          [
           0.375,
           "rgb(252,146,114)"
          ],
          [
           0.5,
           "rgb(251,106,74)"
          ],
          [
           0.625,
           "rgb(239,59,44)"
          ],
          [
           0.75,
           "rgb(203,24,29)"
          ],
          [
           0.875,
           "rgb(165,15,21)"
          ],
          [
           1,
           "rgb(103,0,13)"
          ]
         ]
        },
        "height": 400,
        "margin": {
         "t": 60
        },
        "template": {
         "data": {
          "bar": [
           {
            "error_x": {
             "color": "rgb(51,51,51)"
            },
            "error_y": {
             "color": "rgb(51,51,51)"
            },
            "marker": {
             "line": {
              "color": "rgb(237,237,237)",
              "width": 0.5
             },
             "pattern": {
              "fillmode": "overlay",
              "size": 10,
              "solidity": 0.2
             }
            },
            "type": "bar"
           }
          ],
          "barpolar": [
           {
            "marker": {
             "line": {
              "color": "rgb(237,237,237)",
              "width": 0.5
             },
             "pattern": {
              "fillmode": "overlay",
              "size": 10,
              "solidity": 0.2
             }
            },
            "type": "barpolar"
           }
          ],
          "carpet": [
           {
            "aaxis": {
             "endlinecolor": "rgb(51,51,51)",
             "gridcolor": "white",
             "linecolor": "white",
             "minorgridcolor": "white",
             "startlinecolor": "rgb(51,51,51)"
            },
            "baxis": {
             "endlinecolor": "rgb(51,51,51)",
             "gridcolor": "white",
             "linecolor": "white",
             "minorgridcolor": "white",
             "startlinecolor": "rgb(51,51,51)"
            },
            "type": "carpet"
           }
          ],
          "choropleth": [
           {
            "colorbar": {
             "outlinewidth": 0,
             "tickcolor": "rgb(237,237,237)",
             "ticklen": 6,
             "ticks": "inside"
            },
            "type": "choropleth"
           }
          ],
          "contour": [
           {
            "colorbar": {
             "outlinewidth": 0,
             "tickcolor": "rgb(237,237,237)",
             "ticklen": 6,
             "ticks": "inside"
            },
            "colorscale": [
             [
              0,
              "rgb(20,44,66)"
             ],
             [
              1,
              "rgb(90,179,244)"
             ]
            ],
            "type": "contour"
           }
          ],
          "contourcarpet": [
           {
            "colorbar": {
             "outlinewidth": 0,
             "tickcolor": "rgb(237,237,237)",
             "ticklen": 6,
             "ticks": "inside"
            },
            "type": "contourcarpet"
           }
          ],
          "heatmap": [
           {
            "colorbar": {
             "outlinewidth": 0,
             "tickcolor": "rgb(237,237,237)",
             "ticklen": 6,
             "ticks": "inside"
            },
            "colorscale": [
             [
              0,
              "rgb(20,44,66)"
             ],
             [
              1,
              "rgb(90,179,244)"
             ]
            ],
            "type": "heatmap"
           }
          ],
          "heatmapgl": [
           {
            "colorbar": {
             "outlinewidth": 0,
             "tickcolor": "rgb(237,237,237)",
             "ticklen": 6,
             "ticks": "inside"
            },
            "colorscale": [
             [
              0,
              "rgb(20,44,66)"
             ],
             [
              1,
              "rgb(90,179,244)"
             ]
            ],
            "type": "heatmapgl"
           }
          ],
          "histogram": [
           {
            "marker": {
             "pattern": {
              "fillmode": "overlay",
              "size": 10,
              "solidity": 0.2
             }
            },
            "type": "histogram"
           }
          ],
          "histogram2d": [
           {
            "colorbar": {
             "outlinewidth": 0,
             "tickcolor": "rgb(237,237,237)",
             "ticklen": 6,
             "ticks": "inside"
            },
            "colorscale": [
             [
              0,
              "rgb(20,44,66)"
             ],
             [
              1,
              "rgb(90,179,244)"
             ]
            ],
            "type": "histogram2d"
           }
          ],
          "histogram2dcontour": [
           {
            "colorbar": {
             "outlinewidth": 0,
             "tickcolor": "rgb(237,237,237)",
             "ticklen": 6,
             "ticks": "inside"
            },
            "colorscale": [
             [
              0,
              "rgb(20,44,66)"
             ],
             [
              1,
              "rgb(90,179,244)"
             ]
            ],
            "type": "histogram2dcontour"
           }
          ],
          "mesh3d": [
           {
            "colorbar": {
             "outlinewidth": 0,
             "tickcolor": "rgb(237,237,237)",
             "ticklen": 6,
             "ticks": "inside"
            },
            "type": "mesh3d"
           }
          ],
          "parcoords": [
           {
            "line": {
             "colorbar": {
              "outlinewidth": 0,
              "tickcolor": "rgb(237,237,237)",
              "ticklen": 6,
              "ticks": "inside"
             }
            },
            "type": "parcoords"
           }
          ],
          "pie": [
           {
            "automargin": true,
            "type": "pie"
           }
          ],
          "scatter": [
           {
            "marker": {
             "colorbar": {
              "outlinewidth": 0,
              "tickcolor": "rgb(237,237,237)",
              "ticklen": 6,
              "ticks": "inside"
             }
            },
            "type": "scatter"
           }
          ],
          "scatter3d": [
           {
            "line": {
             "colorbar": {
              "outlinewidth": 0,
              "tickcolor": "rgb(237,237,237)",
              "ticklen": 6,
              "ticks": "inside"
             }
            },
            "marker": {
             "colorbar": {
              "outlinewidth": 0,
              "tickcolor": "rgb(237,237,237)",
              "ticklen": 6,
              "ticks": "inside"
             }
            },
            "type": "scatter3d"
           }
          ],
          "scattercarpet": [
           {
            "marker": {
             "colorbar": {
              "outlinewidth": 0,
              "tickcolor": "rgb(237,237,237)",
              "ticklen": 6,
              "ticks": "inside"
             }
            },
            "type": "scattercarpet"
           }
          ],
          "scattergeo": [
           {
            "marker": {
             "colorbar": {
              "outlinewidth": 0,
              "tickcolor": "rgb(237,237,237)",
              "ticklen": 6,
              "ticks": "inside"
             }
            },
            "type": "scattergeo"
           }
          ],
          "scattergl": [
           {
            "marker": {
             "colorbar": {
              "outlinewidth": 0,
              "tickcolor": "rgb(237,237,237)",
              "ticklen": 6,
              "ticks": "inside"
             }
            },
            "type": "scattergl"
           }
          ],
          "scattermapbox": [
           {
            "marker": {
             "colorbar": {
              "outlinewidth": 0,
              "tickcolor": "rgb(237,237,237)",
              "ticklen": 6,
              "ticks": "inside"
             }
            },
            "type": "scattermapbox"
           }
          ],
          "scatterpolar": [
           {
            "marker": {
             "colorbar": {
              "outlinewidth": 0,
              "tickcolor": "rgb(237,237,237)",
              "ticklen": 6,
              "ticks": "inside"
             }
            },
            "type": "scatterpolar"
           }
          ],
          "scatterpolargl": [
           {
            "marker": {
             "colorbar": {
              "outlinewidth": 0,
              "tickcolor": "rgb(237,237,237)",
              "ticklen": 6,
              "ticks": "inside"
             }
            },
            "type": "scatterpolargl"
           }
          ],
          "scatterternary": [
           {
            "marker": {
             "colorbar": {
              "outlinewidth": 0,
              "tickcolor": "rgb(237,237,237)",
              "ticklen": 6,
              "ticks": "inside"
             }
            },
            "type": "scatterternary"
           }
          ],
          "surface": [
           {
            "colorbar": {
             "outlinewidth": 0,
             "tickcolor": "rgb(237,237,237)",
             "ticklen": 6,
             "ticks": "inside"
            },
            "colorscale": [
             [
              0,
              "rgb(20,44,66)"
             ],
             [
              1,
              "rgb(90,179,244)"
             ]
            ],
            "type": "surface"
           }
          ],
          "table": [
           {
            "cells": {
             "fill": {
              "color": "rgb(237,237,237)"
             },
             "line": {
              "color": "white"
             }
            },
            "header": {
             "fill": {
              "color": "rgb(217,217,217)"
             },
             "line": {
              "color": "white"
             }
            },
            "type": "table"
           }
          ]
         },
         "layout": {
          "annotationdefaults": {
           "arrowhead": 0,
           "arrowwidth": 1
          },
          "autotypenumbers": "strict",
          "coloraxis": {
           "colorbar": {
            "outlinewidth": 0,
            "tickcolor": "rgb(237,237,237)",
            "ticklen": 6,
            "ticks": "inside"
           }
          },
          "colorscale": {
           "sequential": [
            [
             0,
             "rgb(20,44,66)"
            ],
            [
             1,
             "rgb(90,179,244)"
            ]
           ],
           "sequentialminus": [
            [
             0,
             "rgb(20,44,66)"
            ],
            [
             1,
             "rgb(90,179,244)"
            ]
           ]
          },
          "colorway": [
           "#F8766D",
           "#A3A500",
           "#00BF7D",
           "#00B0F6",
           "#E76BF3"
          ],
          "font": {
           "color": "rgb(51,51,51)"
          },
          "geo": {
           "bgcolor": "white",
           "lakecolor": "white",
           "landcolor": "rgb(237,237,237)",
           "showlakes": true,
           "showland": true,
           "subunitcolor": "white"
          },
          "hoverlabel": {
           "align": "left"
          },
          "hovermode": "closest",
          "paper_bgcolor": "white",
          "plot_bgcolor": "rgb(237,237,237)",
          "polar": {
           "angularaxis": {
            "gridcolor": "white",
            "linecolor": "white",
            "showgrid": true,
            "tickcolor": "rgb(51,51,51)",
            "ticks": "outside"
           },
           "bgcolor": "rgb(237,237,237)",
           "radialaxis": {
            "gridcolor": "white",
            "linecolor": "white",
            "showgrid": true,
            "tickcolor": "rgb(51,51,51)",
            "ticks": "outside"
           }
          },
          "scene": {
           "xaxis": {
            "backgroundcolor": "rgb(237,237,237)",
            "gridcolor": "white",
            "gridwidth": 2,
            "linecolor": "white",
            "showbackground": true,
            "showgrid": true,
            "tickcolor": "rgb(51,51,51)",
            "ticks": "outside",
            "zerolinecolor": "white"
           },
           "yaxis": {
            "backgroundcolor": "rgb(237,237,237)",
            "gridcolor": "white",
            "gridwidth": 2,
            "linecolor": "white",
            "showbackground": true,
            "showgrid": true,
            "tickcolor": "rgb(51,51,51)",
            "ticks": "outside",
            "zerolinecolor": "white"
           },
           "zaxis": {
            "backgroundcolor": "rgb(237,237,237)",
            "gridcolor": "white",
            "gridwidth": 2,
            "linecolor": "white",
            "showbackground": true,
            "showgrid": true,
            "tickcolor": "rgb(51,51,51)",
            "ticks": "outside",
            "zerolinecolor": "white"
           }
          },
          "shapedefaults": {
           "fillcolor": "black",
           "line": {
            "width": 0
           },
           "opacity": 0.3
          },
          "ternary": {
           "aaxis": {
            "gridcolor": "white",
            "linecolor": "white",
            "showgrid": true,
            "tickcolor": "rgb(51,51,51)",
            "ticks": "outside"
           },
           "baxis": {
            "gridcolor": "white",
            "linecolor": "white",
            "showgrid": true,
            "tickcolor": "rgb(51,51,51)",
            "ticks": "outside"
           },
           "bgcolor": "rgb(237,237,237)",
           "caxis": {
            "gridcolor": "white",
            "linecolor": "white",
            "showgrid": true,
            "tickcolor": "rgb(51,51,51)",
            "ticks": "outside"
           }
          },
          "xaxis": {
           "automargin": true,
           "gridcolor": "white",
           "linecolor": "white",
           "showgrid": true,
           "tickcolor": "rgb(51,51,51)",
           "ticks": "outside",
           "title": {
            "standoff": 15
           },
           "zerolinecolor": "white"
          },
          "yaxis": {
           "automargin": true,
           "gridcolor": "white",
           "linecolor": "white",
           "showgrid": true,
           "tickcolor": "rgb(51,51,51)",
           "ticks": "outside",
           "title": {
            "standoff": 15
           },
           "zerolinecolor": "white"
          }
         }
        },
        "width": 700,
        "xaxis": {
         "anchor": "y",
         "constrain": "domain",
         "domain": [
          0,
          1
         ],
         "scaleanchor": "y"
        },
        "yaxis": {
         "anchor": "x",
         "autorange": "reversed",
         "constrain": "domain",
         "domain": [
          0,
          1
         ]
        }
       }
      },
      "text/html": [
       "<div>                            <div id=\"b5d580f9-d025-4f30-83ed-c9ca295eb2b6\" class=\"plotly-graph-div\" style=\"height:400px; width:700px;\"></div>            <script type=\"text/javascript\">                require([\"plotly\"], function(Plotly) {                    window.PLOTLYENV=window.PLOTLYENV || {};                                    if (document.getElementById(\"b5d580f9-d025-4f30-83ed-c9ca295eb2b6\")) {                    Plotly.newPlot(                        \"b5d580f9-d025-4f30-83ed-c9ca295eb2b6\",                        [{\"coloraxis\":\"coloraxis\",\"name\":\"0\",\"x\":[\"Rating\",\"Polarity\",\"Subjectivity\",\"Text_length\"],\"y\":[\"Rating\",\"Polarity\",\"Subjectivity\",\"Text_length\"],\"z\":[[1.0,0.39783877589173533,-0.1253129866901722,0.01769114881673345],[0.39783877589173533,1.0,0.15705250182882977,0.13872967522326543],[-0.1253129866901722,0.15705250182882977,1.0,0.1578226623774066],[0.01769114881673345,0.13872967522326543,0.1578226623774066,1.0]],\"type\":\"heatmap\",\"xaxis\":\"x\",\"yaxis\":\"y\",\"hovertemplate\":\"x: %{x}<br>y: %{y}<br>color: %{z}<extra></extra>\"}],                        {\"template\":{\"data\":{\"bar\":[{\"error_x\":{\"color\":\"rgb(51,51,51)\"},\"error_y\":{\"color\":\"rgb(51,51,51)\"},\"marker\":{\"line\":{\"color\":\"rgb(237,237,237)\",\"width\":0.5},\"pattern\":{\"fillmode\":\"overlay\",\"size\":10,\"solidity\":0.2}},\"type\":\"bar\"}],\"barpolar\":[{\"marker\":{\"line\":{\"color\":\"rgb(237,237,237)\",\"width\":0.5},\"pattern\":{\"fillmode\":\"overlay\",\"size\":10,\"solidity\":0.2}},\"type\":\"barpolar\"}],\"carpet\":[{\"aaxis\":{\"endlinecolor\":\"rgb(51,51,51)\",\"gridcolor\":\"white\",\"linecolor\":\"white\",\"minorgridcolor\":\"white\",\"startlinecolor\":\"rgb(51,51,51)\"},\"baxis\":{\"endlinecolor\":\"rgb(51,51,51)\",\"gridcolor\":\"white\",\"linecolor\":\"white\",\"minorgridcolor\":\"white\",\"startlinecolor\":\"rgb(51,51,51)\"},\"type\":\"carpet\"}],\"choropleth\":[{\"colorbar\":{\"outlinewidth\":0,\"tickcolor\":\"rgb(237,237,237)\",\"ticklen\":6,\"ticks\":\"inside\"},\"type\":\"choropleth\"}],\"contour\":[{\"colorbar\":{\"outlinewidth\":0,\"tickcolor\":\"rgb(237,237,237)\",\"ticklen\":6,\"ticks\":\"inside\"},\"colorscale\":[[0,\"rgb(20,44,66)\"],[1,\"rgb(90,179,244)\"]],\"type\":\"contour\"}],\"contourcarpet\":[{\"colorbar\":{\"outlinewidth\":0,\"tickcolor\":\"rgb(237,237,237)\",\"ticklen\":6,\"ticks\":\"inside\"},\"type\":\"contourcarpet\"}],\"heatmap\":[{\"colorbar\":{\"outlinewidth\":0,\"tickcolor\":\"rgb(237,237,237)\",\"ticklen\":6,\"ticks\":\"inside\"},\"colorscale\":[[0,\"rgb(20,44,66)\"],[1,\"rgb(90,179,244)\"]],\"type\":\"heatmap\"}],\"heatmapgl\":[{\"colorbar\":{\"outlinewidth\":0,\"tickcolor\":\"rgb(237,237,237)\",\"ticklen\":6,\"ticks\":\"inside\"},\"colorscale\":[[0,\"rgb(20,44,66)\"],[1,\"rgb(90,179,244)\"]],\"type\":\"heatmapgl\"}],\"histogram\":[{\"marker\":{\"pattern\":{\"fillmode\":\"overlay\",\"size\":10,\"solidity\":0.2}},\"type\":\"histogram\"}],\"histogram2d\":[{\"colorbar\":{\"outlinewidth\":0,\"tickcolor\":\"rgb(237,237,237)\",\"ticklen\":6,\"ticks\":\"inside\"},\"colorscale\":[[0,\"rgb(20,44,66)\"],[1,\"rgb(90,179,244)\"]],\"type\":\"histogram2d\"}],\"histogram2dcontour\":[{\"colorbar\":{\"outlinewidth\":0,\"tickcolor\":\"rgb(237,237,237)\",\"ticklen\":6,\"ticks\":\"inside\"},\"colorscale\":[[0,\"rgb(20,44,66)\"],[1,\"rgb(90,179,244)\"]],\"type\":\"histogram2dcontour\"}],\"mesh3d\":[{\"colorbar\":{\"outlinewidth\":0,\"tickcolor\":\"rgb(237,237,237)\",\"ticklen\":6,\"ticks\":\"inside\"},\"type\":\"mesh3d\"}],\"parcoords\":[{\"line\":{\"colorbar\":{\"outlinewidth\":0,\"tickcolor\":\"rgb(237,237,237)\",\"ticklen\":6,\"ticks\":\"inside\"}},\"type\":\"parcoords\"}],\"pie\":[{\"automargin\":true,\"type\":\"pie\"}],\"scatter\":[{\"marker\":{\"colorbar\":{\"outlinewidth\":0,\"tickcolor\":\"rgb(237,237,237)\",\"ticklen\":6,\"ticks\":\"inside\"}},\"type\":\"scatter\"}],\"scatter3d\":[{\"line\":{\"colorbar\":{\"outlinewidth\":0,\"tickcolor\":\"rgb(237,237,237)\",\"ticklen\":6,\"ticks\":\"inside\"}},\"marker\":{\"colorbar\":{\"outlinewidth\":0,\"tickcolor\":\"rgb(237,237,237)\",\"ticklen\":6,\"ticks\":\"inside\"}},\"type\":\"scatter3d\"}],\"scattercarpet\":[{\"marker\":{\"colorbar\":{\"outlinewidth\":0,\"tickcolor\":\"rgb(237,237,237)\",\"ticklen\":6,\"ticks\":\"inside\"}},\"type\":\"scattercarpet\"}],\"scattergeo\":[{\"marker\":{\"colorbar\":{\"outlinewidth\":0,\"tickcolor\":\"rgb(237,237,237)\",\"ticklen\":6,\"ticks\":\"inside\"}},\"type\":\"scattergeo\"}],\"scattergl\":[{\"marker\":{\"colorbar\":{\"outlinewidth\":0,\"tickcolor\":\"rgb(237,237,237)\",\"ticklen\":6,\"ticks\":\"inside\"}},\"type\":\"scattergl\"}],\"scattermapbox\":[{\"marker\":{\"colorbar\":{\"outlinewidth\":0,\"tickcolor\":\"rgb(237,237,237)\",\"ticklen\":6,\"ticks\":\"inside\"}},\"type\":\"scattermapbox\"}],\"scatterpolar\":[{\"marker\":{\"colorbar\":{\"outlinewidth\":0,\"tickcolor\":\"rgb(237,237,237)\",\"ticklen\":6,\"ticks\":\"inside\"}},\"type\":\"scatterpolar\"}],\"scatterpolargl\":[{\"marker\":{\"colorbar\":{\"outlinewidth\":0,\"tickcolor\":\"rgb(237,237,237)\",\"ticklen\":6,\"ticks\":\"inside\"}},\"type\":\"scatterpolargl\"}],\"scatterternary\":[{\"marker\":{\"colorbar\":{\"outlinewidth\":0,\"tickcolor\":\"rgb(237,237,237)\",\"ticklen\":6,\"ticks\":\"inside\"}},\"type\":\"scatterternary\"}],\"surface\":[{\"colorbar\":{\"outlinewidth\":0,\"tickcolor\":\"rgb(237,237,237)\",\"ticklen\":6,\"ticks\":\"inside\"},\"colorscale\":[[0,\"rgb(20,44,66)\"],[1,\"rgb(90,179,244)\"]],\"type\":\"surface\"}],\"table\":[{\"cells\":{\"fill\":{\"color\":\"rgb(237,237,237)\"},\"line\":{\"color\":\"white\"}},\"header\":{\"fill\":{\"color\":\"rgb(217,217,217)\"},\"line\":{\"color\":\"white\"}},\"type\":\"table\"}]},\"layout\":{\"annotationdefaults\":{\"arrowhead\":0,\"arrowwidth\":1},\"autotypenumbers\":\"strict\",\"coloraxis\":{\"colorbar\":{\"outlinewidth\":0,\"tickcolor\":\"rgb(237,237,237)\",\"ticklen\":6,\"ticks\":\"inside\"}},\"colorscale\":{\"sequential\":[[0,\"rgb(20,44,66)\"],[1,\"rgb(90,179,244)\"]],\"sequentialminus\":[[0,\"rgb(20,44,66)\"],[1,\"rgb(90,179,244)\"]]},\"colorway\":[\"#F8766D\",\"#A3A500\",\"#00BF7D\",\"#00B0F6\",\"#E76BF3\"],\"font\":{\"color\":\"rgb(51,51,51)\"},\"geo\":{\"bgcolor\":\"white\",\"lakecolor\":\"white\",\"landcolor\":\"rgb(237,237,237)\",\"showlakes\":true,\"showland\":true,\"subunitcolor\":\"white\"},\"hoverlabel\":{\"align\":\"left\"},\"hovermode\":\"closest\",\"paper_bgcolor\":\"white\",\"plot_bgcolor\":\"rgb(237,237,237)\",\"polar\":{\"angularaxis\":{\"gridcolor\":\"white\",\"linecolor\":\"white\",\"showgrid\":true,\"tickcolor\":\"rgb(51,51,51)\",\"ticks\":\"outside\"},\"bgcolor\":\"rgb(237,237,237)\",\"radialaxis\":{\"gridcolor\":\"white\",\"linecolor\":\"white\",\"showgrid\":true,\"tickcolor\":\"rgb(51,51,51)\",\"ticks\":\"outside\"}},\"scene\":{\"xaxis\":{\"backgroundcolor\":\"rgb(237,237,237)\",\"gridcolor\":\"white\",\"gridwidth\":2,\"linecolor\":\"white\",\"showbackground\":true,\"showgrid\":true,\"tickcolor\":\"rgb(51,51,51)\",\"ticks\":\"outside\",\"zerolinecolor\":\"white\"},\"yaxis\":{\"backgroundcolor\":\"rgb(237,237,237)\",\"gridcolor\":\"white\",\"gridwidth\":2,\"linecolor\":\"white\",\"showbackground\":true,\"showgrid\":true,\"tickcolor\":\"rgb(51,51,51)\",\"ticks\":\"outside\",\"zerolinecolor\":\"white\"},\"zaxis\":{\"backgroundcolor\":\"rgb(237,237,237)\",\"gridcolor\":\"white\",\"gridwidth\":2,\"linecolor\":\"white\",\"showbackground\":true,\"showgrid\":true,\"tickcolor\":\"rgb(51,51,51)\",\"ticks\":\"outside\",\"zerolinecolor\":\"white\"}},\"shapedefaults\":{\"fillcolor\":\"black\",\"line\":{\"width\":0},\"opacity\":0.3},\"ternary\":{\"aaxis\":{\"gridcolor\":\"white\",\"linecolor\":\"white\",\"showgrid\":true,\"tickcolor\":\"rgb(51,51,51)\",\"ticks\":\"outside\"},\"baxis\":{\"gridcolor\":\"white\",\"linecolor\":\"white\",\"showgrid\":true,\"tickcolor\":\"rgb(51,51,51)\",\"ticks\":\"outside\"},\"bgcolor\":\"rgb(237,237,237)\",\"caxis\":{\"gridcolor\":\"white\",\"linecolor\":\"white\",\"showgrid\":true,\"tickcolor\":\"rgb(51,51,51)\",\"ticks\":\"outside\"}},\"xaxis\":{\"automargin\":true,\"gridcolor\":\"white\",\"linecolor\":\"white\",\"showgrid\":true,\"tickcolor\":\"rgb(51,51,51)\",\"ticks\":\"outside\",\"title\":{\"standoff\":15},\"zerolinecolor\":\"white\"},\"yaxis\":{\"automargin\":true,\"gridcolor\":\"white\",\"linecolor\":\"white\",\"showgrid\":true,\"tickcolor\":\"rgb(51,51,51)\",\"ticks\":\"outside\",\"title\":{\"standoff\":15},\"zerolinecolor\":\"white\"}}},\"xaxis\":{\"anchor\":\"y\",\"domain\":[0.0,1.0],\"scaleanchor\":\"y\",\"constrain\":\"domain\"},\"yaxis\":{\"anchor\":\"x\",\"domain\":[0.0,1.0],\"autorange\":\"reversed\",\"constrain\":\"domain\"},\"coloraxis\":{\"colorscale\":[[0.0,\"rgb(255,245,240)\"],[0.125,\"rgb(254,224,210)\"],[0.25,\"rgb(252,187,161)\"],[0.375,\"rgb(252,146,114)\"],[0.5,\"rgb(251,106,74)\"],[0.625,\"rgb(239,59,44)\"],[0.75,\"rgb(203,24,29)\"],[0.875,\"rgb(165,15,21)\"],[1.0,\"rgb(103,0,13)\"]]},\"margin\":{\"t\":60},\"height\":400,\"width\":700},                        {\"responsive\": true}                    ).then(function(){\n",
       "                            \n",
       "var gd = document.getElementById('b5d580f9-d025-4f30-83ed-c9ca295eb2b6');\n",
       "var x = new MutationObserver(function (mutations, observer) {{\n",
       "        var display = window.getComputedStyle(gd).display;\n",
       "        if (!display || display === 'none') {{\n",
       "            console.log([gd, 'removed!']);\n",
       "            Plotly.purge(gd);\n",
       "            observer.disconnect();\n",
       "        }}\n",
       "}});\n",
       "\n",
       "// Listen for the removal of the full notebook cells\n",
       "var notebookContainer = gd.closest('#notebook-container');\n",
       "if (notebookContainer) {{\n",
       "    x.observe(notebookContainer, {childList: true});\n",
       "}}\n",
       "\n",
       "// Listen for the clearing of the current output cell\n",
       "var outputEl = gd.closest('.output');\n",
       "if (outputEl) {{\n",
       "    x.observe(outputEl, {childList: true});\n",
       "}}\n",
       "\n",
       "                        })                };                });            </script>        </div>"
      ]
     },
     "metadata": {},
     "output_type": "display_data"
    }
   ],
   "source": [
    "cor = px.imshow(cor_matrix,\n",
    "                color_continuous_scale='Reds',\n",
    "                width=700,\n",
    "                height=400)\n",
    "cor.show()"
   ]
  },
  {
   "cell_type": "markdown",
   "id": "cca8f1a8",
   "metadata": {},
   "source": [
    "**Insights:**\n",
    "- Rating and Polarity are positively correlated, the higher Rating implies higher Polarity\n",
    "- Sentiment or Rating doesn't effect the length of the text\n",
    "- Rating and Subjectivity are slightly negatively correlated, which indicates that low ratings are more subjective"
   ]
  },
  {
   "cell_type": "markdown",
   "id": "f27940fa",
   "metadata": {},
   "source": [
    "<a id=\"12\"></a>\n",
    "## Items comparison"
   ]
  },
  {
   "cell_type": "code",
   "execution_count": 176,
   "id": "4e4e8f4b",
   "metadata": {},
   "outputs": [],
   "source": [
    "items = viz.copy()\n",
    "items.Rating = items.Rating.astype(\"float\")"
   ]
  },
  {
   "cell_type": "code",
   "execution_count": 177,
   "id": "00e56270",
   "metadata": {},
   "outputs": [],
   "source": [
    "items = items.groupby(\"Item\").agg({\"Rating\":[\"mean\"],\n",
    "                                   \"Polarity\":[\"median\"],\n",
    "                                   \"Subjectivity\":[\"median\"],\n",
    "                                   })\n",
    "items = items.droplevel(-1, axis=1)"
   ]
  },
  {
   "cell_type": "code",
   "execution_count": 178,
   "id": "937b1b0d",
   "metadata": {},
   "outputs": [],
   "source": [
    "items = items.stack().reset_index().rename(columns={\"level_1\":\"Measure\", 0:\"Value\"})"
   ]
  },
  {
   "cell_type": "code",
   "execution_count": 179,
   "id": "748012f0",
   "metadata": {},
   "outputs": [
    {
     "data": {
      "application/vnd.plotly.v1+json": {
       "config": {
        "plotlyServerURL": "https://plot.ly"
       },
       "data": [
        {
         "alignmentgroup": "True",
         "hovertemplate": "Measure=Rating<br>=%{y}<extra></extra>",
         "legendgroup": "Rating",
         "marker": {
          "color": "#F8766D",
          "pattern": {
           "shape": ""
          }
         },
         "name": "Rating",
         "offsetgroup": "Rating",
         "orientation": "v",
         "showlegend": true,
         "textposition": "auto",
         "type": "bar",
         "x": [
          "camera",
          "lock",
          "thermostat"
         ],
         "xaxis": "x",
         "y": [
          2.5,
          2.59,
          3.22
         ],
         "yaxis": "y"
        },
        {
         "alignmentgroup": "True",
         "hovertemplate": "Measure=Polarity<br>=%{y}<extra></extra>",
         "legendgroup": "Polarity",
         "marker": {
          "color": "#A3A500",
          "pattern": {
           "shape": ""
          }
         },
         "name": "Polarity",
         "offsetgroup": "Polarity",
         "orientation": "v",
         "showlegend": true,
         "textposition": "auto",
         "type": "bar",
         "x": [
          "camera",
          "lock",
          "thermostat"
         ],
         "xaxis": "x2",
         "y": [
          0.10985944940476187,
          0.09466127594176377,
          0.11039985897940444
         ],
         "yaxis": "y2"
        },
        {
         "alignmentgroup": "True",
         "hovertemplate": "Measure=Subjectivity<br>=%{y}<extra></extra>",
         "legendgroup": "Subjectivity",
         "marker": {
          "color": "#00BF7D",
          "pattern": {
           "shape": ""
          }
         },
         "name": "Subjectivity",
         "offsetgroup": "Subjectivity",
         "orientation": "v",
         "showlegend": true,
         "textposition": "auto",
         "type": "bar",
         "x": [
          "camera",
          "lock",
          "thermostat"
         ],
         "xaxis": "x3",
         "y": [
          0.4875,
          0.5012811147186148,
          0.49443099829463466
         ],
         "yaxis": "y3"
        }
       ],
       "layout": {
        "annotations": [
         {
          "font": {},
          "showarrow": false,
          "text": "Rating",
          "x": 0.13666666666666666,
          "xanchor": "center",
          "xref": "paper",
          "y": 1,
          "yanchor": "bottom",
          "yref": "paper"
         },
         {
          "font": {},
          "showarrow": false,
          "text": "Polarity",
          "x": 0.49999999999999994,
          "xanchor": "center",
          "xref": "paper",
          "y": 1,
          "yanchor": "bottom",
          "yref": "paper"
         },
         {
          "font": {},
          "showarrow": false,
          "text": "Subjectivity",
          "x": 0.8633333333333333,
          "xanchor": "center",
          "xref": "paper",
          "y": 1,
          "yanchor": "bottom",
          "yref": "paper"
         }
        ],
        "barmode": "relative",
        "height": 400,
        "legend": {
         "title": {
          "text": "Measure"
         },
         "tracegroupgap": 0
        },
        "template": {
         "data": {
          "bar": [
           {
            "error_x": {
             "color": "rgb(51,51,51)"
            },
            "error_y": {
             "color": "rgb(51,51,51)"
            },
            "marker": {
             "line": {
              "color": "rgb(237,237,237)",
              "width": 0.5
             },
             "pattern": {
              "fillmode": "overlay",
              "size": 10,
              "solidity": 0.2
             }
            },
            "type": "bar"
           }
          ],
          "barpolar": [
           {
            "marker": {
             "line": {
              "color": "rgb(237,237,237)",
              "width": 0.5
             },
             "pattern": {
              "fillmode": "overlay",
              "size": 10,
              "solidity": 0.2
             }
            },
            "type": "barpolar"
           }
          ],
          "carpet": [
           {
            "aaxis": {
             "endlinecolor": "rgb(51,51,51)",
             "gridcolor": "white",
             "linecolor": "white",
             "minorgridcolor": "white",
             "startlinecolor": "rgb(51,51,51)"
            },
            "baxis": {
             "endlinecolor": "rgb(51,51,51)",
             "gridcolor": "white",
             "linecolor": "white",
             "minorgridcolor": "white",
             "startlinecolor": "rgb(51,51,51)"
            },
            "type": "carpet"
           }
          ],
          "choropleth": [
           {
            "colorbar": {
             "outlinewidth": 0,
             "tickcolor": "rgb(237,237,237)",
             "ticklen": 6,
             "ticks": "inside"
            },
            "type": "choropleth"
           }
          ],
          "contour": [
           {
            "colorbar": {
             "outlinewidth": 0,
             "tickcolor": "rgb(237,237,237)",
             "ticklen": 6,
             "ticks": "inside"
            },
            "colorscale": [
             [
              0,
              "rgb(20,44,66)"
             ],
             [
              1,
              "rgb(90,179,244)"
             ]
            ],
            "type": "contour"
           }
          ],
          "contourcarpet": [
           {
            "colorbar": {
             "outlinewidth": 0,
             "tickcolor": "rgb(237,237,237)",
             "ticklen": 6,
             "ticks": "inside"
            },
            "type": "contourcarpet"
           }
          ],
          "heatmap": [
           {
            "colorbar": {
             "outlinewidth": 0,
             "tickcolor": "rgb(237,237,237)",
             "ticklen": 6,
             "ticks": "inside"
            },
            "colorscale": [
             [
              0,
              "rgb(20,44,66)"
             ],
             [
              1,
              "rgb(90,179,244)"
             ]
            ],
            "type": "heatmap"
           }
          ],
          "heatmapgl": [
           {
            "colorbar": {
             "outlinewidth": 0,
             "tickcolor": "rgb(237,237,237)",
             "ticklen": 6,
             "ticks": "inside"
            },
            "colorscale": [
             [
              0,
              "rgb(20,44,66)"
             ],
             [
              1,
              "rgb(90,179,244)"
             ]
            ],
            "type": "heatmapgl"
           }
          ],
          "histogram": [
           {
            "marker": {
             "pattern": {
              "fillmode": "overlay",
              "size": 10,
              "solidity": 0.2
             }
            },
            "type": "histogram"
           }
          ],
          "histogram2d": [
           {
            "colorbar": {
             "outlinewidth": 0,
             "tickcolor": "rgb(237,237,237)",
             "ticklen": 6,
             "ticks": "inside"
            },
            "colorscale": [
             [
              0,
              "rgb(20,44,66)"
             ],
             [
              1,
              "rgb(90,179,244)"
             ]
            ],
            "type": "histogram2d"
           }
          ],
          "histogram2dcontour": [
           {
            "colorbar": {
             "outlinewidth": 0,
             "tickcolor": "rgb(237,237,237)",
             "ticklen": 6,
             "ticks": "inside"
            },
            "colorscale": [
             [
              0,
              "rgb(20,44,66)"
             ],
             [
              1,
              "rgb(90,179,244)"
             ]
            ],
            "type": "histogram2dcontour"
           }
          ],
          "mesh3d": [
           {
            "colorbar": {
             "outlinewidth": 0,
             "tickcolor": "rgb(237,237,237)",
             "ticklen": 6,
             "ticks": "inside"
            },
            "type": "mesh3d"
           }
          ],
          "parcoords": [
           {
            "line": {
             "colorbar": {
              "outlinewidth": 0,
              "tickcolor": "rgb(237,237,237)",
              "ticklen": 6,
              "ticks": "inside"
             }
            },
            "type": "parcoords"
           }
          ],
          "pie": [
           {
            "automargin": true,
            "type": "pie"
           }
          ],
          "scatter": [
           {
            "marker": {
             "colorbar": {
              "outlinewidth": 0,
              "tickcolor": "rgb(237,237,237)",
              "ticklen": 6,
              "ticks": "inside"
             }
            },
            "type": "scatter"
           }
          ],
          "scatter3d": [
           {
            "line": {
             "colorbar": {
              "outlinewidth": 0,
              "tickcolor": "rgb(237,237,237)",
              "ticklen": 6,
              "ticks": "inside"
             }
            },
            "marker": {
             "colorbar": {
              "outlinewidth": 0,
              "tickcolor": "rgb(237,237,237)",
              "ticklen": 6,
              "ticks": "inside"
             }
            },
            "type": "scatter3d"
           }
          ],
          "scattercarpet": [
           {
            "marker": {
             "colorbar": {
              "outlinewidth": 0,
              "tickcolor": "rgb(237,237,237)",
              "ticklen": 6,
              "ticks": "inside"
             }
            },
            "type": "scattercarpet"
           }
          ],
          "scattergeo": [
           {
            "marker": {
             "colorbar": {
              "outlinewidth": 0,
              "tickcolor": "rgb(237,237,237)",
              "ticklen": 6,
              "ticks": "inside"
             }
            },
            "type": "scattergeo"
           }
          ],
          "scattergl": [
           {
            "marker": {
             "colorbar": {
              "outlinewidth": 0,
              "tickcolor": "rgb(237,237,237)",
              "ticklen": 6,
              "ticks": "inside"
             }
            },
            "type": "scattergl"
           }
          ],
          "scattermapbox": [
           {
            "marker": {
             "colorbar": {
              "outlinewidth": 0,
              "tickcolor": "rgb(237,237,237)",
              "ticklen": 6,
              "ticks": "inside"
             }
            },
            "type": "scattermapbox"
           }
          ],
          "scatterpolar": [
           {
            "marker": {
             "colorbar": {
              "outlinewidth": 0,
              "tickcolor": "rgb(237,237,237)",
              "ticklen": 6,
              "ticks": "inside"
             }
            },
            "type": "scatterpolar"
           }
          ],
          "scatterpolargl": [
           {
            "marker": {
             "colorbar": {
              "outlinewidth": 0,
              "tickcolor": "rgb(237,237,237)",
              "ticklen": 6,
              "ticks": "inside"
             }
            },
            "type": "scatterpolargl"
           }
          ],
          "scatterternary": [
           {
            "marker": {
             "colorbar": {
              "outlinewidth": 0,
              "tickcolor": "rgb(237,237,237)",
              "ticklen": 6,
              "ticks": "inside"
             }
            },
            "type": "scatterternary"
           }
          ],
          "surface": [
           {
            "colorbar": {
             "outlinewidth": 0,
             "tickcolor": "rgb(237,237,237)",
             "ticklen": 6,
             "ticks": "inside"
            },
            "colorscale": [
             [
              0,
              "rgb(20,44,66)"
             ],
             [
              1,
              "rgb(90,179,244)"
             ]
            ],
            "type": "surface"
           }
          ],
          "table": [
           {
            "cells": {
             "fill": {
              "color": "rgb(237,237,237)"
             },
             "line": {
              "color": "white"
             }
            },
            "header": {
             "fill": {
              "color": "rgb(217,217,217)"
             },
             "line": {
              "color": "white"
             }
            },
            "type": "table"
           }
          ]
         },
         "layout": {
          "annotationdefaults": {
           "arrowhead": 0,
           "arrowwidth": 1
          },
          "autotypenumbers": "strict",
          "coloraxis": {
           "colorbar": {
            "outlinewidth": 0,
            "tickcolor": "rgb(237,237,237)",
            "ticklen": 6,
            "ticks": "inside"
           }
          },
          "colorscale": {
           "sequential": [
            [
             0,
             "rgb(20,44,66)"
            ],
            [
             1,
             "rgb(90,179,244)"
            ]
           ],
           "sequentialminus": [
            [
             0,
             "rgb(20,44,66)"
            ],
            [
             1,
             "rgb(90,179,244)"
            ]
           ]
          },
          "colorway": [
           "#F8766D",
           "#A3A500",
           "#00BF7D",
           "#00B0F6",
           "#E76BF3"
          ],
          "font": {
           "color": "rgb(51,51,51)"
          },
          "geo": {
           "bgcolor": "white",
           "lakecolor": "white",
           "landcolor": "rgb(237,237,237)",
           "showlakes": true,
           "showland": true,
           "subunitcolor": "white"
          },
          "hoverlabel": {
           "align": "left"
          },
          "hovermode": "closest",
          "paper_bgcolor": "white",
          "plot_bgcolor": "rgb(237,237,237)",
          "polar": {
           "angularaxis": {
            "gridcolor": "white",
            "linecolor": "white",
            "showgrid": true,
            "tickcolor": "rgb(51,51,51)",
            "ticks": "outside"
           },
           "bgcolor": "rgb(237,237,237)",
           "radialaxis": {
            "gridcolor": "white",
            "linecolor": "white",
            "showgrid": true,
            "tickcolor": "rgb(51,51,51)",
            "ticks": "outside"
           }
          },
          "scene": {
           "xaxis": {
            "backgroundcolor": "rgb(237,237,237)",
            "gridcolor": "white",
            "gridwidth": 2,
            "linecolor": "white",
            "showbackground": true,
            "showgrid": true,
            "tickcolor": "rgb(51,51,51)",
            "ticks": "outside",
            "zerolinecolor": "white"
           },
           "yaxis": {
            "backgroundcolor": "rgb(237,237,237)",
            "gridcolor": "white",
            "gridwidth": 2,
            "linecolor": "white",
            "showbackground": true,
            "showgrid": true,
            "tickcolor": "rgb(51,51,51)",
            "ticks": "outside",
            "zerolinecolor": "white"
           },
           "zaxis": {
            "backgroundcolor": "rgb(237,237,237)",
            "gridcolor": "white",
            "gridwidth": 2,
            "linecolor": "white",
            "showbackground": true,
            "showgrid": true,
            "tickcolor": "rgb(51,51,51)",
            "ticks": "outside",
            "zerolinecolor": "white"
           }
          },
          "shapedefaults": {
           "fillcolor": "black",
           "line": {
            "width": 0
           },
           "opacity": 0.3
          },
          "ternary": {
           "aaxis": {
            "gridcolor": "white",
            "linecolor": "white",
            "showgrid": true,
            "tickcolor": "rgb(51,51,51)",
            "ticks": "outside"
           },
           "baxis": {
            "gridcolor": "white",
            "linecolor": "white",
            "showgrid": true,
            "tickcolor": "rgb(51,51,51)",
            "ticks": "outside"
           },
           "bgcolor": "rgb(237,237,237)",
           "caxis": {
            "gridcolor": "white",
            "linecolor": "white",
            "showgrid": true,
            "tickcolor": "rgb(51,51,51)",
            "ticks": "outside"
           }
          },
          "xaxis": {
           "automargin": true,
           "gridcolor": "white",
           "linecolor": "white",
           "showgrid": true,
           "tickcolor": "rgb(51,51,51)",
           "ticks": "outside",
           "title": {
            "standoff": 15
           },
           "zerolinecolor": "white"
          },
          "yaxis": {
           "automargin": true,
           "gridcolor": "white",
           "linecolor": "white",
           "showgrid": true,
           "tickcolor": "rgb(51,51,51)",
           "ticks": "outside",
           "title": {
            "standoff": 15
           },
           "zerolinecolor": "white"
          }
         }
        },
        "title": {
         "text": "Item comparison"
        },
        "width": 800,
        "xaxis": {
         "anchor": "y",
         "domain": [
          0,
          0.2733333333333333
         ],
         "title": {
          "text": ""
         }
        },
        "xaxis2": {
         "anchor": "y2",
         "domain": [
          0.3633333333333333,
          0.6366666666666666
         ],
         "matches": "x",
         "title": {
          "text": ""
         }
        },
        "xaxis3": {
         "anchor": "y3",
         "domain": [
          0.7266666666666666,
          0.9999999999999999
         ],
         "matches": "x",
         "title": {
          "text": ""
         }
        },
        "yaxis": {
         "anchor": "x",
         "domain": [
          0,
          1
         ],
         "showticklabels": true,
         "title": {
          "text": ""
         }
        },
        "yaxis2": {
         "anchor": "x2",
         "domain": [
          0,
          1
         ],
         "showticklabels": true
        },
        "yaxis3": {
         "anchor": "x3",
         "domain": [
          0,
          1
         ],
         "showticklabels": true
        }
       }
      },
      "text/html": [
       "<div>                            <div id=\"4e5344b8-1876-47c0-a5a8-44a5a83383ef\" class=\"plotly-graph-div\" style=\"height:400px; width:800px;\"></div>            <script type=\"text/javascript\">                require([\"plotly\"], function(Plotly) {                    window.PLOTLYENV=window.PLOTLYENV || {};                                    if (document.getElementById(\"4e5344b8-1876-47c0-a5a8-44a5a83383ef\")) {                    Plotly.newPlot(                        \"4e5344b8-1876-47c0-a5a8-44a5a83383ef\",                        [{\"alignmentgroup\":\"True\",\"hovertemplate\":\"Measure=Rating<br>=%{y}<extra></extra>\",\"legendgroup\":\"Rating\",\"marker\":{\"color\":\"#F8766D\",\"pattern\":{\"shape\":\"\"}},\"name\":\"Rating\",\"offsetgroup\":\"Rating\",\"orientation\":\"v\",\"showlegend\":true,\"textposition\":\"auto\",\"x\":[\"camera\",\"lock\",\"thermostat\"],\"xaxis\":\"x\",\"y\":[2.5,2.59,3.22],\"yaxis\":\"y\",\"type\":\"bar\"},{\"alignmentgroup\":\"True\",\"hovertemplate\":\"Measure=Polarity<br>=%{y}<extra></extra>\",\"legendgroup\":\"Polarity\",\"marker\":{\"color\":\"#A3A500\",\"pattern\":{\"shape\":\"\"}},\"name\":\"Polarity\",\"offsetgroup\":\"Polarity\",\"orientation\":\"v\",\"showlegend\":true,\"textposition\":\"auto\",\"x\":[\"camera\",\"lock\",\"thermostat\"],\"xaxis\":\"x2\",\"y\":[0.10985944940476187,0.09466127594176377,0.11039985897940444],\"yaxis\":\"y2\",\"type\":\"bar\"},{\"alignmentgroup\":\"True\",\"hovertemplate\":\"Measure=Subjectivity<br>=%{y}<extra></extra>\",\"legendgroup\":\"Subjectivity\",\"marker\":{\"color\":\"#00BF7D\",\"pattern\":{\"shape\":\"\"}},\"name\":\"Subjectivity\",\"offsetgroup\":\"Subjectivity\",\"orientation\":\"v\",\"showlegend\":true,\"textposition\":\"auto\",\"x\":[\"camera\",\"lock\",\"thermostat\"],\"xaxis\":\"x3\",\"y\":[0.4875,0.5012811147186148,0.49443099829463466],\"yaxis\":\"y3\",\"type\":\"bar\"}],                        {\"template\":{\"data\":{\"bar\":[{\"error_x\":{\"color\":\"rgb(51,51,51)\"},\"error_y\":{\"color\":\"rgb(51,51,51)\"},\"marker\":{\"line\":{\"color\":\"rgb(237,237,237)\",\"width\":0.5},\"pattern\":{\"fillmode\":\"overlay\",\"size\":10,\"solidity\":0.2}},\"type\":\"bar\"}],\"barpolar\":[{\"marker\":{\"line\":{\"color\":\"rgb(237,237,237)\",\"width\":0.5},\"pattern\":{\"fillmode\":\"overlay\",\"size\":10,\"solidity\":0.2}},\"type\":\"barpolar\"}],\"carpet\":[{\"aaxis\":{\"endlinecolor\":\"rgb(51,51,51)\",\"gridcolor\":\"white\",\"linecolor\":\"white\",\"minorgridcolor\":\"white\",\"startlinecolor\":\"rgb(51,51,51)\"},\"baxis\":{\"endlinecolor\":\"rgb(51,51,51)\",\"gridcolor\":\"white\",\"linecolor\":\"white\",\"minorgridcolor\":\"white\",\"startlinecolor\":\"rgb(51,51,51)\"},\"type\":\"carpet\"}],\"choropleth\":[{\"colorbar\":{\"outlinewidth\":0,\"tickcolor\":\"rgb(237,237,237)\",\"ticklen\":6,\"ticks\":\"inside\"},\"type\":\"choropleth\"}],\"contour\":[{\"colorbar\":{\"outlinewidth\":0,\"tickcolor\":\"rgb(237,237,237)\",\"ticklen\":6,\"ticks\":\"inside\"},\"colorscale\":[[0,\"rgb(20,44,66)\"],[1,\"rgb(90,179,244)\"]],\"type\":\"contour\"}],\"contourcarpet\":[{\"colorbar\":{\"outlinewidth\":0,\"tickcolor\":\"rgb(237,237,237)\",\"ticklen\":6,\"ticks\":\"inside\"},\"type\":\"contourcarpet\"}],\"heatmap\":[{\"colorbar\":{\"outlinewidth\":0,\"tickcolor\":\"rgb(237,237,237)\",\"ticklen\":6,\"ticks\":\"inside\"},\"colorscale\":[[0,\"rgb(20,44,66)\"],[1,\"rgb(90,179,244)\"]],\"type\":\"heatmap\"}],\"heatmapgl\":[{\"colorbar\":{\"outlinewidth\":0,\"tickcolor\":\"rgb(237,237,237)\",\"ticklen\":6,\"ticks\":\"inside\"},\"colorscale\":[[0,\"rgb(20,44,66)\"],[1,\"rgb(90,179,244)\"]],\"type\":\"heatmapgl\"}],\"histogram\":[{\"marker\":{\"pattern\":{\"fillmode\":\"overlay\",\"size\":10,\"solidity\":0.2}},\"type\":\"histogram\"}],\"histogram2d\":[{\"colorbar\":{\"outlinewidth\":0,\"tickcolor\":\"rgb(237,237,237)\",\"ticklen\":6,\"ticks\":\"inside\"},\"colorscale\":[[0,\"rgb(20,44,66)\"],[1,\"rgb(90,179,244)\"]],\"type\":\"histogram2d\"}],\"histogram2dcontour\":[{\"colorbar\":{\"outlinewidth\":0,\"tickcolor\":\"rgb(237,237,237)\",\"ticklen\":6,\"ticks\":\"inside\"},\"colorscale\":[[0,\"rgb(20,44,66)\"],[1,\"rgb(90,179,244)\"]],\"type\":\"histogram2dcontour\"}],\"mesh3d\":[{\"colorbar\":{\"outlinewidth\":0,\"tickcolor\":\"rgb(237,237,237)\",\"ticklen\":6,\"ticks\":\"inside\"},\"type\":\"mesh3d\"}],\"parcoords\":[{\"line\":{\"colorbar\":{\"outlinewidth\":0,\"tickcolor\":\"rgb(237,237,237)\",\"ticklen\":6,\"ticks\":\"inside\"}},\"type\":\"parcoords\"}],\"pie\":[{\"automargin\":true,\"type\":\"pie\"}],\"scatter\":[{\"marker\":{\"colorbar\":{\"outlinewidth\":0,\"tickcolor\":\"rgb(237,237,237)\",\"ticklen\":6,\"ticks\":\"inside\"}},\"type\":\"scatter\"}],\"scatter3d\":[{\"line\":{\"colorbar\":{\"outlinewidth\":0,\"tickcolor\":\"rgb(237,237,237)\",\"ticklen\":6,\"ticks\":\"inside\"}},\"marker\":{\"colorbar\":{\"outlinewidth\":0,\"tickcolor\":\"rgb(237,237,237)\",\"ticklen\":6,\"ticks\":\"inside\"}},\"type\":\"scatter3d\"}],\"scattercarpet\":[{\"marker\":{\"colorbar\":{\"outlinewidth\":0,\"tickcolor\":\"rgb(237,237,237)\",\"ticklen\":6,\"ticks\":\"inside\"}},\"type\":\"scattercarpet\"}],\"scattergeo\":[{\"marker\":{\"colorbar\":{\"outlinewidth\":0,\"tickcolor\":\"rgb(237,237,237)\",\"ticklen\":6,\"ticks\":\"inside\"}},\"type\":\"scattergeo\"}],\"scattergl\":[{\"marker\":{\"colorbar\":{\"outlinewidth\":0,\"tickcolor\":\"rgb(237,237,237)\",\"ticklen\":6,\"ticks\":\"inside\"}},\"type\":\"scattergl\"}],\"scattermapbox\":[{\"marker\":{\"colorbar\":{\"outlinewidth\":0,\"tickcolor\":\"rgb(237,237,237)\",\"ticklen\":6,\"ticks\":\"inside\"}},\"type\":\"scattermapbox\"}],\"scatterpolar\":[{\"marker\":{\"colorbar\":{\"outlinewidth\":0,\"tickcolor\":\"rgb(237,237,237)\",\"ticklen\":6,\"ticks\":\"inside\"}},\"type\":\"scatterpolar\"}],\"scatterpolargl\":[{\"marker\":{\"colorbar\":{\"outlinewidth\":0,\"tickcolor\":\"rgb(237,237,237)\",\"ticklen\":6,\"ticks\":\"inside\"}},\"type\":\"scatterpolargl\"}],\"scatterternary\":[{\"marker\":{\"colorbar\":{\"outlinewidth\":0,\"tickcolor\":\"rgb(237,237,237)\",\"ticklen\":6,\"ticks\":\"inside\"}},\"type\":\"scatterternary\"}],\"surface\":[{\"colorbar\":{\"outlinewidth\":0,\"tickcolor\":\"rgb(237,237,237)\",\"ticklen\":6,\"ticks\":\"inside\"},\"colorscale\":[[0,\"rgb(20,44,66)\"],[1,\"rgb(90,179,244)\"]],\"type\":\"surface\"}],\"table\":[{\"cells\":{\"fill\":{\"color\":\"rgb(237,237,237)\"},\"line\":{\"color\":\"white\"}},\"header\":{\"fill\":{\"color\":\"rgb(217,217,217)\"},\"line\":{\"color\":\"white\"}},\"type\":\"table\"}]},\"layout\":{\"annotationdefaults\":{\"arrowhead\":0,\"arrowwidth\":1},\"autotypenumbers\":\"strict\",\"coloraxis\":{\"colorbar\":{\"outlinewidth\":0,\"tickcolor\":\"rgb(237,237,237)\",\"ticklen\":6,\"ticks\":\"inside\"}},\"colorscale\":{\"sequential\":[[0,\"rgb(20,44,66)\"],[1,\"rgb(90,179,244)\"]],\"sequentialminus\":[[0,\"rgb(20,44,66)\"],[1,\"rgb(90,179,244)\"]]},\"colorway\":[\"#F8766D\",\"#A3A500\",\"#00BF7D\",\"#00B0F6\",\"#E76BF3\"],\"font\":{\"color\":\"rgb(51,51,51)\"},\"geo\":{\"bgcolor\":\"white\",\"lakecolor\":\"white\",\"landcolor\":\"rgb(237,237,237)\",\"showlakes\":true,\"showland\":true,\"subunitcolor\":\"white\"},\"hoverlabel\":{\"align\":\"left\"},\"hovermode\":\"closest\",\"paper_bgcolor\":\"white\",\"plot_bgcolor\":\"rgb(237,237,237)\",\"polar\":{\"angularaxis\":{\"gridcolor\":\"white\",\"linecolor\":\"white\",\"showgrid\":true,\"tickcolor\":\"rgb(51,51,51)\",\"ticks\":\"outside\"},\"bgcolor\":\"rgb(237,237,237)\",\"radialaxis\":{\"gridcolor\":\"white\",\"linecolor\":\"white\",\"showgrid\":true,\"tickcolor\":\"rgb(51,51,51)\",\"ticks\":\"outside\"}},\"scene\":{\"xaxis\":{\"backgroundcolor\":\"rgb(237,237,237)\",\"gridcolor\":\"white\",\"gridwidth\":2,\"linecolor\":\"white\",\"showbackground\":true,\"showgrid\":true,\"tickcolor\":\"rgb(51,51,51)\",\"ticks\":\"outside\",\"zerolinecolor\":\"white\"},\"yaxis\":{\"backgroundcolor\":\"rgb(237,237,237)\",\"gridcolor\":\"white\",\"gridwidth\":2,\"linecolor\":\"white\",\"showbackground\":true,\"showgrid\":true,\"tickcolor\":\"rgb(51,51,51)\",\"ticks\":\"outside\",\"zerolinecolor\":\"white\"},\"zaxis\":{\"backgroundcolor\":\"rgb(237,237,237)\",\"gridcolor\":\"white\",\"gridwidth\":2,\"linecolor\":\"white\",\"showbackground\":true,\"showgrid\":true,\"tickcolor\":\"rgb(51,51,51)\",\"ticks\":\"outside\",\"zerolinecolor\":\"white\"}},\"shapedefaults\":{\"fillcolor\":\"black\",\"line\":{\"width\":0},\"opacity\":0.3},\"ternary\":{\"aaxis\":{\"gridcolor\":\"white\",\"linecolor\":\"white\",\"showgrid\":true,\"tickcolor\":\"rgb(51,51,51)\",\"ticks\":\"outside\"},\"baxis\":{\"gridcolor\":\"white\",\"linecolor\":\"white\",\"showgrid\":true,\"tickcolor\":\"rgb(51,51,51)\",\"ticks\":\"outside\"},\"bgcolor\":\"rgb(237,237,237)\",\"caxis\":{\"gridcolor\":\"white\",\"linecolor\":\"white\",\"showgrid\":true,\"tickcolor\":\"rgb(51,51,51)\",\"ticks\":\"outside\"}},\"xaxis\":{\"automargin\":true,\"gridcolor\":\"white\",\"linecolor\":\"white\",\"showgrid\":true,\"tickcolor\":\"rgb(51,51,51)\",\"ticks\":\"outside\",\"title\":{\"standoff\":15},\"zerolinecolor\":\"white\"},\"yaxis\":{\"automargin\":true,\"gridcolor\":\"white\",\"linecolor\":\"white\",\"showgrid\":true,\"tickcolor\":\"rgb(51,51,51)\",\"ticks\":\"outside\",\"title\":{\"standoff\":15},\"zerolinecolor\":\"white\"}}},\"xaxis\":{\"anchor\":\"y\",\"domain\":[0.0,0.2733333333333333],\"title\":{\"text\":\"\"}},\"yaxis\":{\"anchor\":\"x\",\"domain\":[0.0,1.0],\"title\":{\"text\":\"\"},\"showticklabels\":true},\"xaxis2\":{\"anchor\":\"y2\",\"domain\":[0.3633333333333333,0.6366666666666666],\"matches\":\"x\",\"title\":{\"text\":\"\"}},\"yaxis2\":{\"anchor\":\"x2\",\"domain\":[0.0,1.0],\"showticklabels\":true},\"xaxis3\":{\"anchor\":\"y3\",\"domain\":[0.7266666666666666,0.9999999999999999],\"matches\":\"x\",\"title\":{\"text\":\"\"}},\"yaxis3\":{\"anchor\":\"x3\",\"domain\":[0.0,1.0],\"showticklabels\":true},\"annotations\":[{\"font\":{},\"showarrow\":false,\"text\":\"Rating\",\"x\":0.13666666666666666,\"xanchor\":\"center\",\"xref\":\"paper\",\"y\":1.0,\"yanchor\":\"bottom\",\"yref\":\"paper\"},{\"font\":{},\"showarrow\":false,\"text\":\"Polarity\",\"x\":0.49999999999999994,\"xanchor\":\"center\",\"xref\":\"paper\",\"y\":1.0,\"yanchor\":\"bottom\",\"yref\":\"paper\"},{\"font\":{},\"showarrow\":false,\"text\":\"Subjectivity\",\"x\":0.8633333333333333,\"xanchor\":\"center\",\"xref\":\"paper\",\"y\":1.0,\"yanchor\":\"bottom\",\"yref\":\"paper\"}],\"legend\":{\"title\":{\"text\":\"Measure\"},\"tracegroupgap\":0},\"title\":{\"text\":\"Item comparison\"},\"barmode\":\"relative\",\"height\":400,\"width\":800},                        {\"responsive\": true}                    ).then(function(){\n",
       "                            \n",
       "var gd = document.getElementById('4e5344b8-1876-47c0-a5a8-44a5a83383ef');\n",
       "var x = new MutationObserver(function (mutations, observer) {{\n",
       "        var display = window.getComputedStyle(gd).display;\n",
       "        if (!display || display === 'none') {{\n",
       "            console.log([gd, 'removed!']);\n",
       "            Plotly.purge(gd);\n",
       "            observer.disconnect();\n",
       "        }}\n",
       "}});\n",
       "\n",
       "// Listen for the removal of the full notebook cells\n",
       "var notebookContainer = gd.closest('#notebook-container');\n",
       "if (notebookContainer) {{\n",
       "    x.observe(notebookContainer, {childList: true});\n",
       "}}\n",
       "\n",
       "// Listen for the clearing of the current output cell\n",
       "var outputEl = gd.closest('.output');\n",
       "if (outputEl) {{\n",
       "    x.observe(outputEl, {childList: true});\n",
       "}}\n",
       "\n",
       "                        })                };                });            </script>        </div>"
      ]
     },
     "metadata": {},
     "output_type": "display_data"
    }
   ],
   "source": [
    "item = px.bar(data_frame=items,\n",
    "              x=\"Item\",\n",
    "              y=\"Value\",\n",
    "              color=\"Measure\",\n",
    "              facet_col=\"Measure\",\n",
    "              facet_col_spacing=0.09,\n",
    "              labels={\"Value\":\"\", \"Item\":\"\"},\n",
    "              title=\"Item comparison\",\n",
    "              width=800,\n",
    "              height=400\n",
    "             )\n",
    "item.update_yaxes(matches=None)\n",
    "item.update_yaxes(showticklabels=True)\n",
    "item.for_each_annotation(lambda a: a.update(text=a.text.split(\"=\")[-1]))\n",
    "item.show()"
   ]
  },
  {
   "cell_type": "markdown",
   "id": "35be2618",
   "metadata": {},
   "source": [
    "**Insights:**\n",
    "- Smart thermostat scored the best in our reviews\n",
    "- Other smart devices also performed well, although we should focus on further improvement in setup and connection to application and fixing the bugs, so the reviews are higher as well"
   ]
  },
  {
   "cell_type": "markdown",
   "id": "f0e60e2e",
   "metadata": {},
   "source": [
    "<a id=\"13\"></a>\n",
    "# Wordcloud"
   ]
  },
  {
   "cell_type": "code",
   "execution_count": 180,
   "id": "8c80b2fe",
   "metadata": {},
   "outputs": [],
   "source": [
    "cloud = merged.copy()\n",
    "cloud[cloud.Text.isnull()] = \" \"\n",
    "stopwords=set(STOPWORDS)\n",
    "\n",
    "total_title= (' '.join(cloud[\"Title\"]))\n",
    "# match all strings that contain a non-letter\n",
    "total_title=re.sub('[^a-zA-Z]',' ',total_title)\n",
    "# remove key words\n",
    "total_title=re.sub('(camera|lock|thermostat)', ' ',total_title)\n",
    "# remove single letters\n",
    "total_title=re.sub('( r | s | v )', ' ',total_title)\n",
    "# remove extra spaces\n",
    "total_title=re.sub(' +',' ',total_title)"
   ]
  },
  {
   "cell_type": "code",
   "execution_count": 181,
   "id": "1b456497",
   "metadata": {},
   "outputs": [
    {
     "data": {
      "text/plain": [
       "(-0.5, 699.5, 399.5, -0.5)"
      ]
     },
     "execution_count": 181,
     "metadata": {},
     "output_type": "execute_result"
    },
    {
     "data": {
      "image/png": "[encoded data removed]",
      "text/plain": [
       "<Figure size 1080x360 with 1 Axes>"
      ]
     },
     "metadata": {
      "needs_background": "light"
     },
     "output_type": "display_data"
    }
   ],
   "source": [
    "wordcloud = WordCloud(width = 700, \n",
    "                      height = 400,\n",
    "                      stopwords=stopwords,\n",
    "                      background_color=\"white\", \n",
    "                      colormap=\"Reds\",\n",
    "                      max_font_size=200,\n",
    "                      max_words=50).generate(total_title)\n",
    "plt.figure(figsize=(15,5))\n",
    "plt.imshow(wordcloud)\n",
    "plt.axis('off')"
   ]
  },
  {
   "cell_type": "code",
   "execution_count": 182,
   "id": "17361630",
   "metadata": {},
   "outputs": [
    {
     "data": {
      "text/html": [
       "<style type=\"text/css\">\n",
       "#T_71058_row0_col0 {\n",
       "  background-color: #67000d;\n",
       "  color: #f1f1f1;\n",
       "}\n",
       "#T_71058_row1_col0 {\n",
       "  background-color: #ed392b;\n",
       "  color: #f1f1f1;\n",
       "}\n",
       "#T_71058_row2_col0 {\n",
       "  background-color: #f6553c;\n",
       "  color: #f1f1f1;\n",
       "}\n",
       "#T_71058_row3_col0 {\n",
       "  background-color: #fcb89e;\n",
       "  color: #000000;\n",
       "}\n",
       "#T_71058_row4_col0, #T_71058_row5_col0 {\n",
       "  background-color: #fcc4ad;\n",
       "  color: #000000;\n",
       "}\n",
       "#T_71058_row6_col0 {\n",
       "  background-color: #fedaca;\n",
       "  color: #000000;\n",
       "}\n",
       "#T_71058_row7_col0, #T_71058_row8_col0 {\n",
       "  background-color: #fee3d6;\n",
       "  color: #000000;\n",
       "}\n",
       "#T_71058_row9_col0, #T_71058_row10_col0 {\n",
       "  background-color: #fee9df;\n",
       "  color: #000000;\n",
       "}\n",
       "#T_71058_row11_col0, #T_71058_row12_col0, #T_71058_row13_col0, #T_71058_row14_col0 {\n",
       "  background-color: #ffefe8;\n",
       "  color: #000000;\n",
       "}\n",
       "#T_71058_row15_col0, #T_71058_row16_col0, #T_71058_row17_col0, #T_71058_row18_col0, #T_71058_row19_col0 {\n",
       "  background-color: #fff5f0;\n",
       "  color: #000000;\n",
       "}\n",
       "</style>\n",
       "<table id=\"T_71058_\">\n",
       "  <thead>\n",
       "    <tr>\n",
       "      <th class=\"blank level0\" >&nbsp;</th>\n",
       "      <th class=\"col_heading level0 col0\" >frequency</th>\n",
       "    </tr>\n",
       "  </thead>\n",
       "  <tbody>\n",
       "    <tr>\n",
       "      <th id=\"T_71058_level0_row0\" class=\"row_heading level0 row0\" >Great</th>\n",
       "      <td id=\"T_71058_row0_col0\" class=\"data row0 col0\" >1.000000</td>\n",
       "    </tr>\n",
       "    <tr>\n",
       "      <th id=\"T_71058_level0_row1\" class=\"row_heading level0 row1\" >work</th>\n",
       "      <td id=\"T_71058_row1_col0\" class=\"data row1 col0\" >0.722222</td>\n",
       "    </tr>\n",
       "    <tr>\n",
       "      <th id=\"T_71058_level0_row2\" class=\"row_heading level0 row2\" >good</th>\n",
       "      <td id=\"T_71058_row2_col0\" class=\"data row2 col0\" >0.666667</td>\n",
       "    </tr>\n",
       "    <tr>\n",
       "      <th id=\"T_71058_level0_row3\" class=\"row_heading level0 row3\" >smart</th>\n",
       "      <td id=\"T_71058_row3_col0\" class=\"data row3 col0\" >0.444444</td>\n",
       "    </tr>\n",
       "    <tr>\n",
       "      <th id=\"T_71058_level0_row4\" class=\"row_heading level0 row4\" >app</th>\n",
       "      <td id=\"T_71058_row4_col0\" class=\"data row4 col0\" >0.416667</td>\n",
       "    </tr>\n",
       "    <tr>\n",
       "      <th id=\"T_71058_level0_row5\" class=\"row_heading level0 row5\" >support</th>\n",
       "      <td id=\"T_71058_row5_col0\" class=\"data row5 col0\" >0.416667</td>\n",
       "    </tr>\n",
       "    <tr>\n",
       "      <th id=\"T_71058_level0_row6\" class=\"row_heading level0 row6\" >Easy</th>\n",
       "      <td id=\"T_71058_row6_col0\" class=\"data row6 col0\" >0.361111</td>\n",
       "    </tr>\n",
       "    <tr>\n",
       "      <th id=\"T_71058_level0_row7\" class=\"row_heading level0 row7\" >buy</th>\n",
       "      <td id=\"T_71058_row7_col0\" class=\"data row7 col0\" >0.333333</td>\n",
       "    </tr>\n",
       "    <tr>\n",
       "      <th id=\"T_71058_level0_row8\" class=\"row_heading level0 row8\" >Alexa</th>\n",
       "      <td id=\"T_71058_row8_col0\" class=\"data row8 col0\" >0.333333</td>\n",
       "    </tr>\n",
       "    <tr>\n",
       "      <th id=\"T_71058_level0_row9\" class=\"row_heading level0 row9\" >need</th>\n",
       "      <td id=\"T_71058_row9_col0\" class=\"data row9 col0\" >0.305556</td>\n",
       "    </tr>\n",
       "    <tr>\n",
       "      <th id=\"T_71058_level0_row10\" class=\"row_heading level0 row10\" >Cam</th>\n",
       "      <td id=\"T_71058_row10_col0\" class=\"data row10 col0\" >0.305556</td>\n",
       "    </tr>\n",
       "    <tr>\n",
       "      <th id=\"T_71058_level0_row11\" class=\"row_heading level0 row11\" >software</th>\n",
       "      <td id=\"T_71058_row11_col0\" class=\"data row11 col0\" >0.277778</td>\n",
       "    </tr>\n",
       "    <tr>\n",
       "      <th id=\"T_71058_level0_row12\" class=\"row_heading level0 row12\" >product</th>\n",
       "      <td id=\"T_71058_row12_col0\" class=\"data row12 col0\" >0.277778</td>\n",
       "    </tr>\n",
       "    <tr>\n",
       "      <th id=\"T_71058_level0_row13\" class=\"row_heading level0 row13\" >price</th>\n",
       "      <td id=\"T_71058_row13_col0\" class=\"data row13 col0\" >0.277778</td>\n",
       "    </tr>\n",
       "    <tr>\n",
       "      <th id=\"T_71058_level0_row14\" class=\"row_heading level0 row14\" >doesn t</th>\n",
       "      <td id=\"T_71058_row14_col0\" class=\"data row14 col0\" >0.277778</td>\n",
       "    </tr>\n",
       "    <tr>\n",
       "      <th id=\"T_71058_level0_row15\" class=\"row_heading level0 row15\" >terrible</th>\n",
       "      <td id=\"T_71058_row15_col0\" class=\"data row15 col0\" >0.250000</td>\n",
       "    </tr>\n",
       "    <tr>\n",
       "      <th id=\"T_71058_level0_row16\" class=\"row_heading level0 row16\" >Poor</th>\n",
       "      <td id=\"T_71058_row16_col0\" class=\"data row16 col0\" >0.250000</td>\n",
       "    </tr>\n",
       "    <tr>\n",
       "      <th id=\"T_71058_level0_row17\" class=\"row_heading level0 row17\" >time</th>\n",
       "      <td id=\"T_71058_row17_col0\" class=\"data row17 col0\" >0.250000</td>\n",
       "    </tr>\n",
       "    <tr>\n",
       "      <th id=\"T_71058_level0_row18\" class=\"row_heading level0 row18\" >Setup</th>\n",
       "      <td id=\"T_71058_row18_col0\" class=\"data row18 col0\" >0.250000</td>\n",
       "    </tr>\n",
       "    <tr>\n",
       "      <th id=\"T_71058_level0_row19\" class=\"row_heading level0 row19\" >bad</th>\n",
       "      <td id=\"T_71058_row19_col0\" class=\"data row19 col0\" >0.250000</td>\n",
       "    </tr>\n",
       "  </tbody>\n",
       "</table>\n"
      ],
      "text/plain": [
       "<pandas.io.formats.style.Styler at 0x1c5670856d0>"
      ]
     },
     "execution_count": 182,
     "metadata": {},
     "output_type": "execute_result"
    }
   ],
   "source": [
    "words_seo = wordcloud.words_\n",
    "wordcloud_seo = pd.DataFrame(words_seo, index=[\"frequency\"]).T.head(20)\n",
    "wordcloud_seo.style.background_gradient(cmap='Reds')"
   ]
  },
  {
   "cell_type": "markdown",
   "id": "e6dbb6b7",
   "metadata": {},
   "source": [
    "**Insights:**\n",
    "- We can see list of words that occured most in the titles of reviews\n",
    "- We got closer look at the sentiment of words customers use to describe their experience with the product\n",
    "- This insight can be used in Keyword SEO for descriptions of items on our website"
   ]
  },
  {
   "cell_type": "markdown",
   "id": "2ed0b4b4",
   "metadata": {},
   "source": [
    "<a id=\"14\"></a>\n",
    "# Conclusion"
   ]
  },
  {
   "cell_type": "markdown",
   "id": "b8f18710",
   "metadata": {},
   "source": [
    "- We can conclude that majority od our reviews are positive\n",
    "- Reviews of some devices such as Smart camera vary. We got some pretty good reviews on video quality, although we spotted places for further improvement in setup and connection of device, sensitivity of sensors and record retrieval\n",
    "- Negative reviews and Low ratings tend to be slightly subjective, but we should pay close attention to them anyway\n",
    "- Smart thermostat performed best from our released devices this year\n",
    "- We can use the words customers used the most in their reviews for further SEO\n",
    "\n",
    "<img src=https://christopherstrobel.de/wp-content/uploads/sites/374/das-internet-der-dinge-im-smart-home-1-e1459248280315.jpg>"
   ]
  },
  {
   "cell_type": "markdown",
   "id": "a949b88d",
   "metadata": {},
   "source": [
    "<center>© 2022 Miroslava Ježíková</center>"
   ]
  }
 ],
 "metadata": {
  "kernelspec": {
   "display_name": "Python 3 (ipykernel)",
   "language": "python",
   "name": "python3"
  },
  "language_info": {
   "codemirror_mode": {
    "name": "ipython",
    "version": 3
   },
   "file_extension": ".py",
   "mimetype": "text/x-python",
   "name": "python",
   "nbconvert_exporter": "python",
   "pygments_lexer": "ipython3",
   "version": "3.9.7"
  }
 },
 "nbformat": 4,
 "nbformat_minor": 5
}
